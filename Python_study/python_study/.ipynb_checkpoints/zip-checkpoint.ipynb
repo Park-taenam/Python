{
 "cells": [
  {
   "cell_type": "markdown",
   "metadata": {},
   "source": [
    "# Zip\n",
    "> zip()\n",
    "- 여러 개의 순회 가능한(iterable) 객체를 인자로 받고\n",
    "- 각 객체가 담고 있는 원소를 튜플의 형태로 차례로 접근할 수 있는 반복자(iterator)를 반환.\n",
    "- 동일한 개수로 이루어진 자료형을 묶어 주는 역할.\n",
    "\n",
    "> iterator\n",
    "-  iterable 자료형은 리스트, 튜플 같이 반복 가능한 자료형을 의미"
   ]
  },
  {
   "cell_type": "markdown",
   "metadata": {},
   "source": [
    "## basic"
   ]
  },
  {
   "cell_type": "code",
   "execution_count": 24,
   "metadata": {
    "ExecuteTime": {
     "end_time": "2021-08-12T06:52:45.174806Z",
     "start_time": "2021-08-12T06:52:45.166815Z"
    }
   },
   "outputs": [
    {
     "name": "stdout",
     "output_type": "stream",
     "text": [
      "<zip object at 0x000001DF2739F440>\n",
      "[(1, 'A'), (2, 'B'), (3, 'C')]\n",
      "{1: 'A', 2: 'B', 3: 'C'}\n"
     ]
    }
   ],
   "source": [
    "# zip type으로 출력\n",
    "# 이럴 때는 list, dict 등의 자료형으로 변환시켜서 출력\n",
    "numbers = [1,2,3]\n",
    "letters = [\"A\", \"B\", \"C\"]\n",
    "print(zip(numbers, letters))\n",
    "print(list(zip(numbers, letters)))\n",
    "print(dict(zip(numbers, letters)))"
   ]
  },
  {
   "cell_type": "code",
   "execution_count": 2,
   "metadata": {
    "ExecuteTime": {
     "end_time": "2021-08-12T06:32:28.916518Z",
     "start_time": "2021-08-12T06:32:28.909511Z"
    }
   },
   "outputs": [
    {
     "name": "stdout",
     "output_type": "stream",
     "text": [
      "(1, 'A')\n",
      "(2, 'B')\n",
      "(3, 'C')\n"
     ]
    }
   ],
   "source": [
    "numbers = [1,2,3]\n",
    "letters = [\"A\", \"B\", \"C\"]\n",
    "for i in zip(numbers, letters):\n",
    "    print(i)a"
   ]
  },
  {
   "cell_type": "code",
   "execution_count": 3,
   "metadata": {
    "ExecuteTime": {
     "end_time": "2021-08-12T06:33:15.246570Z",
     "start_time": "2021-08-12T06:33:15.239565Z"
    }
   },
   "outputs": [
    {
     "name": "stdout",
     "output_type": "stream",
     "text": [
      "(1, 'A')\n",
      "(2, 'B')\n",
      "(3, 'C')\n"
     ]
    }
   ],
   "source": [
    "numbers = [1,2,3]\n",
    "letters = [\"A\", \"B\", \"C\"]\n",
    "for i in range(3):\n",
    "    pair = (numbers[i], letters[i])\n",
    "    print(pair)"
   ]
  },
  {
   "cell_type": "markdown",
   "metadata": {
    "ExecuteTime": {
     "end_time": "2021-08-12T06:33:50.719662Z",
     "start_time": "2021-08-12T06:33:50.717656Z"
    }
   },
   "source": [
    "## parallel processing (병렬처리)\n",
    "- 여러 그룹의 데이터를 루프를 한 번만 돌면서 처리할 수 있음\n",
    "- 가변 인자를 받기 떄문에 2개 이상의 인자를 넘겨서 병렬 처리를 할 수 있음"
   ]
  },
  {
   "cell_type": "code",
   "execution_count": 6,
   "metadata": {
    "ExecuteTime": {
     "end_time": "2021-08-12T06:36:34.322982Z",
     "start_time": "2021-08-12T06:36:34.310983Z"
    }
   },
   "outputs": [
    {
     "name": "stdout",
     "output_type": "stream",
     "text": [
      "1 A a\n",
      "2 B b\n",
      "3 C c\n",
      "4 D d\n",
      "5 E e\n"
     ]
    }
   ],
   "source": [
    "# 튜플의 원소를 3개의 변수에 할당하기 위해서 for 문에서 언팩킹(unpacking)을 해줌\n",
    "for number, upper, lower in zip(\"12345\", \"ABCDE\", \"abcde\"):\n",
    "    print(number, upper, lower)"
   ]
  },
  {
   "cell_type": "markdown",
   "metadata": {},
   "source": [
    "## unzip\n",
    "- zip() 함수로 엮어 놓은 데이터를 다시 해체(unzip)하고 싶을 때도 zip() 함수를 사용"
   ]
  },
  {
   "cell_type": "code",
   "execution_count": 13,
   "metadata": {
    "ExecuteTime": {
     "end_time": "2021-08-12T06:46:48.417662Z",
     "start_time": "2021-08-12T06:46:48.407654Z"
    }
   },
   "outputs": [
    {
     "data": {
      "text/plain": [
       "[(1, 'A'), (2, 'B'), (3, 'C')]"
      ]
     },
     "execution_count": 13,
     "metadata": {},
     "output_type": "execute_result"
    }
   ],
   "source": [
    "numbers = (1, 2, 3)\n",
    "letters = (\"A\", \"B\", \"C\")\n",
    "pairs = list(zip(numbers, letters))\n",
    "pairs"
   ]
  },
  {
   "cell_type": "code",
   "execution_count": 14,
   "metadata": {
    "ExecuteTime": {
     "end_time": "2021-08-12T06:46:55.316554Z",
     "start_time": "2021-08-12T06:46:55.310615Z"
    }
   },
   "outputs": [
    {
     "data": {
      "text/plain": [
       "(1, 'A')"
      ]
     },
     "execution_count": 14,
     "metadata": {},
     "output_type": "execute_result"
    }
   ],
   "source": [
    "pairs[0]"
   ]
  },
  {
   "cell_type": "code",
   "execution_count": 10,
   "metadata": {
    "ExecuteTime": {
     "end_time": "2021-08-12T06:38:58.959084Z",
     "start_time": "2021-08-12T06:38:58.952090Z"
    }
   },
   "outputs": [
    {
     "name": "stdout",
     "output_type": "stream",
     "text": [
      "(1, 2, 3)\n",
      "('A', 'B', 'C')\n"
     ]
    }
   ],
   "source": [
    "numbers, letters = zip(*pairs)\n",
    "print(numbers)\n",
    "print(letters)"
   ]
  },
  {
   "cell_type": "markdown",
   "metadata": {},
   "source": [
    "## to dictionary\n",
    "- 키를 담고 있는 리스트와 값을 담고 있는 리스트를 zip() 함수에 넘긴 후\n",
    "- 그 결과를 다시 dict() 함수에 넘기면 됨.\n",
    "- dict() 함수에 키와 값으로 이루어진 튜플을 넘기면 dictionary가 생성되는 원리 이용"
   ]
  },
  {
   "cell_type": "code",
   "execution_count": 11,
   "metadata": {
    "ExecuteTime": {
     "end_time": "2021-08-12T06:41:01.481538Z",
     "start_time": "2021-08-12T06:41:01.475536Z"
    }
   },
   "outputs": [
    {
     "data": {
      "text/plain": [
       "{1: 'A', 2: 'B', 3: 'C'}"
      ]
     },
     "execution_count": 11,
     "metadata": {},
     "output_type": "execute_result"
    }
   ],
   "source": [
    "keys = [1,2,3]\n",
    "values = ['A', 'B', 'C']\n",
    "dict(zip(keys, values))"
   ]
  },
  {
   "cell_type": "code",
   "execution_count": 15,
   "metadata": {
    "ExecuteTime": {
     "end_time": "2021-08-12T06:48:29.827592Z",
     "start_time": "2021-08-12T06:48:29.822604Z"
    }
   },
   "outputs": [
    {
     "name": "stdout",
     "output_type": "stream",
     "text": [
      "{1: 'A', 2: 'B', 3: 'C'}\n"
     ]
    }
   ],
   "source": [
    "keys = [1,2,3]\n",
    "values = ['A', 'B', 'C']\n",
    "dic = {}\n",
    "\n",
    "for i in range(len(keys)):\n",
    "    dic[keys[i]] = values[i]\n",
    "\n",
    "print(dic)"
   ]
  },
  {
   "cell_type": "code",
   "execution_count": 17,
   "metadata": {
    "ExecuteTime": {
     "end_time": "2021-08-12T06:49:33.037633Z",
     "start_time": "2021-08-12T06:49:33.032629Z"
    }
   },
   "outputs": [
    {
     "name": "stdout",
     "output_type": "stream",
     "text": [
      "{1: 'A', 2: 'B', 3: 'C'}\n"
     ]
    }
   ],
   "source": [
    "keys = [1,2,3]\n",
    "values = ['A', 'B', 'C']\n",
    "dic = {}\n",
    "\n",
    "for key, value in zip(keys, values):\n",
    "    dic[key] = value\n",
    "    \n",
    "print(dic)"
   ]
  },
  {
   "cell_type": "code",
   "execution_count": 12,
   "metadata": {
    "ExecuteTime": {
     "end_time": "2021-08-12T06:42:46.187914Z",
     "start_time": "2021-08-12T06:42:46.180916Z"
    }
   },
   "outputs": [
    {
     "data": {
      "text/plain": [
       "{'year': 2001, 'month': 1, 'date': 31}"
      ]
     },
     "execution_count": 12,
     "metadata": {},
     "output_type": "execute_result"
    }
   ],
   "source": [
    "dict(zip(['year', 'month', 'date'], [2001, 1, 31]))"
   ]
  },
  {
   "cell_type": "markdown",
   "metadata": {},
   "source": [
    "## warning\n",
    "\n",
    "> 인자의 길이가 다를 때\n",
    "- 가장 짧은 인자를 기준으로 데이터가 엮이고, 나머지는 버려짐."
   ]
  }
 ],
 "metadata": {
  "hide_input": false,
  "kernelspec": {
   "display_name": "Python 3",
   "language": "python",
   "name": "python3"
  },
  "language_info": {
   "codemirror_mode": {
    "name": "ipython",
    "version": 3
   },
   "file_extension": ".py",
   "mimetype": "text/x-python",
   "name": "python",
   "nbconvert_exporter": "python",
   "pygments_lexer": "ipython3",
   "version": "3.8.3"
  },
  "toc": {
   "base_numbering": 1,
   "nav_menu": {},
   "number_sections": true,
   "sideBar": true,
   "skip_h1_title": false,
   "title_cell": "Table of Contents",
   "title_sidebar": "Contents",
   "toc_cell": false,
   "toc_position": {},
   "toc_section_display": true,
   "toc_window_display": false
  },
  "varInspector": {
   "cols": {
    "lenName": 16,
    "lenType": 16,
    "lenVar": 40
   },
   "kernels_config": {
    "python": {
     "delete_cmd_postfix": "",
     "delete_cmd_prefix": "del ",
     "library": "var_list.py",
     "varRefreshCmd": "print(var_dic_list())"
    },
    "r": {
     "delete_cmd_postfix": ") ",
     "delete_cmd_prefix": "rm(",
     "library": "var_list.r",
     "varRefreshCmd": "cat(var_dic_list()) "
    }
   },
   "types_to_exclude": [
    "module",
    "function",
    "builtin_function_or_method",
    "instance",
    "_Feature"
   ],
   "window_display": false
  }
 },
 "nbformat": 4,
 "nbformat_minor": 4
}
