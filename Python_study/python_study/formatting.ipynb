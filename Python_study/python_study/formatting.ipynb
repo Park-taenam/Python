{
 "cells": [
  {
   "cell_type": "markdown",
   "metadata": {},
   "source": [
    "# Formatting\n",
    "> 종류\n",
    "- % 서식문자\n",
    "- str.format\n",
    "- f-string"
   ]
  },
  {
   "cell_type": "markdown",
   "metadata": {},
   "source": [
    "## % formatting\n",
    "\n",
    "> % 기호 뒤에 자료형을 가리키는 문자가 옴.\n",
    "- %s -> 문자열\n",
    "- %d -> 정수\n",
    "- %f -> 실수\n",
    "- %o -> 8진수\n",
    "- %x -> 16진수\n",
    "- %% -> 문자 % 표현"
   ]
  },
  {
   "cell_type": "markdown",
   "metadata": {},
   "source": [
    "### 기본예제"
   ]
  },
  {
   "cell_type": "code",
   "execution_count": 26,
   "metadata": {
    "ExecuteTime": {
     "end_time": "2021-07-23T16:19:07.522673Z",
     "start_time": "2021-07-23T16:19:07.511979Z"
    }
   },
   "outputs": [
    {
     "name": "stdout",
     "output_type": "stream",
     "text": [
      "my age is 24\n",
      "my name is kim\n",
      "my name is park\n",
      "my name is lee\n",
      "value is 3.141592\n"
     ]
    }
   ],
   "source": [
    "# 정수\n",
    "\n",
    "num = 24\n",
    "print('my age is %d' % num) \n",
    "\n",
    "# 문자\n",
    "names = ['kim', 'park', 'lee']\n",
    "for name in names:\n",
    "    print('my name is %s' % name)\n",
    "    \n",
    "# 실수\n",
    "d = 3.141592\n",
    "print('value is %f' % d)"
   ]
  },
  {
   "cell_type": "markdown",
   "metadata": {},
   "source": [
    "### 두 개 이상의 값 포매팅\n",
    "- () 이용\n",
    "- 여러개 있을 때 순서대로 입력해야함"
   ]
  },
  {
   "cell_type": "code",
   "execution_count": 28,
   "metadata": {
    "ExecuteTime": {
     "end_time": "2021-07-23T16:22:03.135871Z",
     "start_time": "2021-07-23T16:22:03.127235Z"
    }
   },
   "outputs": [
    {
     "name": "stdout",
     "output_type": "stream",
     "text": [
      "my name is taenam, age = 24, height = 178, money = 3000\n"
     ]
    }
   ],
   "source": [
    "name = 'taenam'\n",
    "age = 24\n",
    "money = 3000\n",
    "height = 178\n",
    "print('my name is %s, age = %d, height = %d, money = %d' % (name, age, height, money))"
   ]
  },
  {
   "cell_type": "markdown",
   "metadata": {},
   "source": [
    "## str.format\n",
    "> .format\n",
    "- '{인덱스0}, {인덱스1}'.format(값0, 값1)\n"
   ]
  },
  {
   "cell_type": "markdown",
   "metadata": {},
   "source": [
    "### 기본 예제"
   ]
  },
  {
   "cell_type": "code",
   "execution_count": 32,
   "metadata": {
    "ExecuteTime": {
     "end_time": "2021-07-23T16:31:46.953358Z",
     "start_time": "2021-07-23T16:31:46.944799Z"
    }
   },
   "outputs": [
    {
     "name": "stdout",
     "output_type": "stream",
     "text": [
      "구구단 2 x 3 = 6\n"
     ]
    }
   ],
   "source": [
    "a = 2\n",
    "b = 3\n",
    "print('구구단 : {0} x {1} = {2}'.format(a,b,a*b))"
   ]
  },
  {
   "cell_type": "markdown",
   "metadata": {},
   "source": [
    "### 직접 대입, 변수로 대입, 이름으로 대입"
   ]
  },
  {
   "cell_type": "code",
   "execution_count": 39,
   "metadata": {
    "ExecuteTime": {
     "end_time": "2021-07-23T16:35:44.930204Z",
     "start_time": "2021-07-23T16:35:44.921199Z"
    }
   },
   "outputs": [
    {
     "name": "stdout",
     "output_type": "stream",
     "text": [
      "name : taenam\n",
      "age : 24\n",
      "number : 1234, gender : male\n"
     ]
    }
   ],
   "source": [
    "# 직접 대입\n",
    "print('name : {0}'.format('taenam'))\n",
    "\n",
    "# 변수로 대입\n",
    "age = 24\n",
    "print('age : {0}'.format(age))\n",
    "\n",
    "# 이름으로 대입\n",
    "print('number : {num}, gender : {gen}'.format(num = 1234, gen = 'male'))"
   ]
  },
  {
   "cell_type": "markdown",
   "metadata": {},
   "source": [
    "### 인덱스 사용"
   ]
  },
  {
   "cell_type": "code",
   "execution_count": 42,
   "metadata": {
    "ExecuteTime": {
     "end_time": "2021-07-23T16:39:02.917401Z",
     "start_time": "2021-07-23T16:39:02.908062Z"
    }
   },
   "outputs": [
    {
     "name": "stdout",
     "output_type": "stream",
     "text": [
      "test1 : 인덱스0, test2 : 인덱스1\n",
      "test1 : 인덱스1, test2 : 인덱스0\n",
      "test1 : 인덱스0, test2 : 인덱스1, test3 : 인덱스0\n"
     ]
    }
   ],
   "source": [
    "# 인덱스 입력하지 않았을 때\n",
    "print('test1 : {}, test2 : {}'.format('인덱스0', '인덱스1'))\n",
    "\n",
    "# 인덱스 순서 바뀔 때\n",
    "print('test1 : {1}, test2 : {0}'.format('인덱스0', '인덱스1'))\n",
    "\n",
    "# 인덱스 중복해서 입력할 때\n",
    "print('test1 : {0}, test2 : {1}, test3 : {0}'.format('인덱스0', '인덱스1'))"
   ]
  },
  {
   "cell_type": "markdown",
   "metadata": {
    "ExecuteTime": {
     "end_time": "2021-07-23T16:42:02.642648Z",
     "start_time": "2021-07-23T16:42:02.637482Z"
    }
   },
   "source": [
    "### 중괄호 출력\n",
    "- {{}} "
   ]
  },
  {
   "cell_type": "code",
   "execution_count": 46,
   "metadata": {
    "ExecuteTime": {
     "end_time": "2021-07-23T16:43:54.913203Z",
     "start_time": "2021-07-23T16:43:54.906206Z"
    }
   },
   "outputs": [
    {
     "name": "stdout",
     "output_type": "stream",
     "text": [
      "Format example : {}, test\n",
      "This is value : {1212}\n"
     ]
    }
   ],
   "source": [
    "# 중괄호 출력\n",
    "print('Format example : {{}}, {}'.format('test'))\n",
    "\n",
    "# 중괄호 친 값 출력\n",
    "print('This is value : {{{}}}'.format(1212))"
   ]
  },
  {
   "cell_type": "markdown",
   "metadata": {},
   "source": [
    "### 문자열 정렬\n",
    "> 정렬\n",
    "- 왼쪽 정렬 : <\n",
    "- 오른쪽 정렬 : >\n",
    "- 가운데 정렬 : ^\n",
    "- 뒤에 오는 숫자 : 자릿수\n",
    "\n",
    "- {인덱스 : < 10} : {인덱스}값을 왼쪽 정렬하여 10자리로 표현"
   ]
  },
  {
   "cell_type": "code",
   "execution_count": 50,
   "metadata": {
    "ExecuteTime": {
     "end_time": "2021-07-23T16:50:12.285792Z",
     "start_time": "2021-07-23T16:50:12.276164Z"
    }
   },
   "outputs": [
    {
     "name": "stdout",
     "output_type": "stream",
     "text": [
      "| this is left       | a     |\n",
      "| this is   center   |   a   |\n",
      "| this is      right |     a |\n"
     ]
    }
   ],
   "source": [
    "# 왼쪽 정렬\n",
    "print('| this is {0:<10} | {1:<5} |'.format('left', 'a'))\n",
    "\n",
    "# 가운데 정렬\n",
    "print('| this is {0:^10} | {1:^5} |'.format('center', 'a'))\n",
    "\n",
    "# 오른쪽 정렬\n",
    "print('| this is {0:>10} | {1:>5} |'.format('right', 'a'))"
   ]
  },
  {
   "cell_type": "markdown",
   "metadata": {},
   "source": [
    "### 문자열에 공백이 아닌 값 채우기\n",
    "- <,^,> 기호 앞에 특정 문자를 입력"
   ]
  },
  {
   "cell_type": "code",
   "execution_count": 52,
   "metadata": {
    "ExecuteTime": {
     "end_time": "2021-07-23T16:50:51.609989Z",
     "start_time": "2021-07-23T16:50:51.599259Z"
    }
   },
   "outputs": [
    {
     "name": "stdout",
     "output_type": "stream",
     "text": [
      "| this is left------ | a---- |\n",
      "| this is ++center++ | ++a++ |\n",
      "| this is *****right | ****a |\n"
     ]
    }
   ],
   "source": [
    "# 왼쪽 정렬\n",
    "print('| this is {0:-<10} | {1:-<5} |'.format('left', 'a'))\n",
    "\n",
    "# 가운데 정렬\n",
    "print('| this is {0:+^10} | {1:+^5} |'.format('center', 'a'))\n",
    "\n",
    "# 오른쪽 정렬\n",
    "print('| this is {0:*>10} | {1:*>5} |'.format('right', 'a'))"
   ]
  },
  {
   "cell_type": "markdown",
   "metadata": {},
   "source": [
    "### 자리수와 소수점 표현\n",
    "> 정수 자리수\n",
    "- 0Nd : N은 원하는 자릿수 입력\n",
    "\n",
    "> 소수점 자리수\n",
    "- 0.Nf : N은 소수점 아래 표시할 자릿수"
   ]
  },
  {
   "cell_type": "code",
   "execution_count": 56,
   "metadata": {
    "ExecuteTime": {
     "end_time": "2021-07-23T16:59:50.801420Z",
     "start_time": "2021-07-23T16:59:50.792529Z"
    }
   },
   "outputs": [
    {
     "name": "stdout",
     "output_type": "stream",
     "text": [
      "정수 3자리 : 12345, 012\n",
      "정수 3자리 : 12345, 012\n",
      "소수점아래 3자리 : 123.123, 소수점아래 5자리 : 123.000000\n"
     ]
    }
   ],
   "source": [
    "# 정수 N자리\n",
    "print('정수 3자리 : {0:03d}, {1:03d}'.format(12345, 12))\n",
    "print('정수 {0}자리 : {1:0{0}d}, {2:0{0}d}'.format(3, 12345, 12))\n",
    "\n",
    "# 소수점 N자리\n",
    "print('소수점아래 3자리 : {0:0.3f}, 소수점아래 5자리 : {1:05f}'.format(123.12345, 123))"
   ]
  },
  {
   "cell_type": "markdown",
   "metadata": {},
   "source": [
    "## f-string\n",
    "> f-string\n",
    "- python 3.6 부터 사용 가능한 기능\n",
    "- f'문자열 {변수} 문자열'\n",
    "- 문자열 앞에 f 붙여주고, 중괄호 안에 직접 변수 이름이나 값을 바로 입력."
   ]
  },
  {
   "cell_type": "markdown",
   "metadata": {},
   "source": [
    "### 기본 예제"
   ]
  },
  {
   "cell_type": "code",
   "execution_count": 13,
   "metadata": {
    "ExecuteTime": {
     "end_time": "2021-07-23T10:55:46.113265Z",
     "start_time": "2021-07-23T10:55:46.109232Z"
    }
   },
   "outputs": [
    {
     "name": "stdout",
     "output_type": "stream",
     "text": [
      "저는 coffee를 좋아해요. 하루에 5잔 마셔요.\n"
     ]
    }
   ],
   "source": [
    "# 기본 예제\n",
    "\n",
    "drink = 'coffee'\n",
    "n = 5\n",
    "result = f'저는 {drink}를 좋아해요. 하루에 {n}잔 마셔요.'\n",
    "print(result)"
   ]
  },
  {
   "cell_type": "markdown",
   "metadata": {},
   "source": [
    "### 정렬 (왼쪽, 오른쪽, 가운데)\n",
    "> 정렬\n",
    "- 중괄호 {}안에 있는 변수 뒤에 콜론(:)을 붙인 후 왼쪽 정렬 (<), 오른쪽 정렬(>), 가운데 정렬(^)의 옵션을 넣음\n",
    "- 그 후 자릿수를 알려주는 숫자를 넣음."
   ]
  },
  {
   "cell_type": "code",
   "execution_count": 14,
   "metadata": {
    "ExecuteTime": {
     "end_time": "2021-07-23T10:55:48.150797Z",
     "start_time": "2021-07-23T10:55:48.144792Z"
    }
   },
   "outputs": [
    {
     "name": "stdout",
     "output_type": "stream",
     "text": [
      "|left           |\n",
      "|      mid      |\n",
      "|          right|\n"
     ]
    }
   ],
   "source": [
    "#  정렬 (왼쪽, 오른쪽, 가운데)\n",
    "\n",
    "# 왼쪽 정렬\n",
    "s1 = 'left'\n",
    "res1 = f'|{s1:<15}|'\n",
    "print(res1)\n",
    "\n",
    "# 가운데 정렬\n",
    "s2 = 'mid'\n",
    "res2 = f'|{s2:^15}|'\n",
    "print(res2)\n",
    "\n",
    "# 오른쪽 정렬\n",
    "s3 = 'right'\n",
    "res3 = f'|{s3:>15}|'\n",
    "print(res3)"
   ]
  },
  {
   "cell_type": "markdown",
   "metadata": {},
   "source": [
    "### 중괄호 출력 방법\n",
    "> 중괄호 출력\n",
    "- {{}} : 괄호를 연속해서 두개를 사용하면 중괄호 자체를 출력\n",
    "- {{{}}} : 괄호를 세개 입력하면 변수값으로 인식하고 괄호 출력함"
   ]
  },
  {
   "cell_type": "code",
   "execution_count": 15,
   "metadata": {
    "ExecuteTime": {
     "end_time": "2021-07-23T10:55:50.252742Z",
     "start_time": "2021-07-23T10:55:50.249738Z"
    }
   },
   "outputs": [
    {
     "name": "stdout",
     "output_type": "stream",
     "text": [
      "my age is {24}, {num}\n"
     ]
    }
   ],
   "source": [
    "# 중괄호 출력\n",
    "\n",
    "num = 24\n",
    "result = f'my age is {{{num}}}, {{num}}'\n",
    "print(result)"
   ]
  },
  {
   "cell_type": "markdown",
   "metadata": {
    "ExecuteTime": {
     "end_time": "2021-07-23T10:56:50.492236Z",
     "start_time": "2021-07-23T10:56:50.490233Z"
    }
   },
   "source": [
    "### dictionary"
   ]
  },
  {
   "cell_type": "code",
   "execution_count": 36,
   "metadata": {
    "ExecuteTime": {
     "end_time": "2021-07-23T16:34:09.709178Z",
     "start_time": "2021-07-23T16:34:09.700445Z"
    }
   },
   "outputs": [
    {
     "name": "stdout",
     "output_type": "stream",
     "text": [
      "name : taenam, gender : male, age : 24\n"
     ]
    }
   ],
   "source": [
    "# f-string과 dictionary\n",
    "\n",
    "d = {'name':\"taenam\", 'gender':\"male\", 'age' : 24}\n",
    "result = f'name : {d[\"name\"]}, gender : {d[\"gender\"]}, age : {d[\"age\"]}'\n",
    "print(result)"
   ]
  },
  {
   "cell_type": "markdown",
   "metadata": {
    "ExecuteTime": {
     "end_time": "2021-07-23T11:00:20.338844Z",
     "start_time": "2021-07-23T11:00:20.336845Z"
    }
   },
   "source": [
    "### List"
   ]
  },
  {
   "cell_type": "code",
   "execution_count": 22,
   "metadata": {
    "ExecuteTime": {
     "end_time": "2021-07-23T11:02:04.934433Z",
     "start_time": "2021-07-23T11:02:04.929428Z"
    }
   },
   "outputs": [
    {
     "name": "stdout",
     "output_type": "stream",
     "text": [
      "list : 100, 200, 300\n",
      "list with for : 100\n",
      "list with for : 200\n",
      "list with for : 300\n"
     ]
    }
   ],
   "source": [
    "# f-string과 list\n",
    "\n",
    "n = [100, 200, 300]\n",
    "\n",
    "print(f'list : {n[0]}, {n[1]}, {n[2]}')\n",
    "\n",
    "for i in n:\n",
    "    print(f'list with for : {i}')"
   ]
  },
  {
   "cell_type": "markdown",
   "metadata": {},
   "source": [
    "## 구구단 8단, 9단"
   ]
  },
  {
   "cell_type": "markdown",
   "metadata": {
    "ExecuteTime": {
     "end_time": "2021-07-23T17:00:34.262621Z",
     "start_time": "2021-07-23T17:00:34.257344Z"
    }
   },
   "source": [
    "### % 사용"
   ]
  },
  {
   "cell_type": "code",
   "execution_count": 60,
   "metadata": {
    "ExecuteTime": {
     "end_time": "2021-07-23T17:03:23.121451Z",
     "start_time": "2021-07-23T17:03:23.108822Z"
    }
   },
   "outputs": [
    {
     "name": "stdout",
     "output_type": "stream",
     "text": [
      "8 x 1 = 8\n",
      "8 x 2 = 16\n",
      "8 x 3 = 24\n",
      "8 x 4 = 32\n",
      "8 x 5 = 40\n",
      "8 x 6 = 48\n",
      "8 x 7 = 56\n",
      "8 x 8 = 64\n",
      "8 x 9 = 72\n",
      "\n",
      "\n",
      "9 x 1 = 9\n",
      "9 x 2 = 18\n",
      "9 x 3 = 27\n",
      "9 x 4 = 36\n",
      "9 x 5 = 45\n",
      "9 x 6 = 54\n",
      "9 x 7 = 63\n",
      "9 x 8 = 72\n",
      "9 x 9 = 81\n",
      "\n",
      "\n"
     ]
    }
   ],
   "source": [
    "for i in range(8,10):\n",
    "    print('\\n')\n",
    "    for j in range(1,10):\n",
    "        print('%d x %d = %d'% (i, j, i*j))"
   ]
  },
  {
   "cell_type": "markdown",
   "metadata": {},
   "source": [
    "### str.format 사용"
   ]
  },
  {
   "cell_type": "code",
   "execution_count": 63,
   "metadata": {
    "ExecuteTime": {
     "end_time": "2021-07-23T17:11:40.175366Z",
     "start_time": "2021-07-23T17:11:40.161758Z"
    }
   },
   "outputs": [
    {
     "name": "stdout",
     "output_type": "stream",
     "text": [
      "\n",
      "\n",
      "8 x 1 = 8\n",
      "8 x 2 = 16\n",
      "8 x 3 = 24\n",
      "8 x 4 = 32\n",
      "8 x 5 = 40\n",
      "8 x 6 = 48\n",
      "8 x 7 = 56\n",
      "8 x 8 = 64\n",
      "8 x 9 = 72\n",
      "\n",
      "\n",
      "9 x 1 = 9\n",
      "9 x 2 = 18\n",
      "9 x 3 = 27\n",
      "9 x 4 = 36\n",
      "9 x 5 = 45\n",
      "9 x 6 = 54\n",
      "9 x 7 = 63\n",
      "9 x 8 = 72\n",
      "9 x 9 = 81\n"
     ]
    }
   ],
   "source": [
    "for i in range(8,10):\n",
    "    print('\\n')\n",
    "    for j in range(1,10):\n",
    "        print('{} x {} = {}'.format(i, j, i*j))"
   ]
  },
  {
   "cell_type": "markdown",
   "metadata": {},
   "source": [
    "### f-string 사용"
   ]
  },
  {
   "cell_type": "code",
   "execution_count": 65,
   "metadata": {
    "ExecuteTime": {
     "end_time": "2021-07-23T17:14:09.373119Z",
     "start_time": "2021-07-23T17:14:09.367219Z"
    },
    "scrolled": true
   },
   "outputs": [
    {
     "name": "stdout",
     "output_type": "stream",
     "text": [
      "\n",
      "\n",
      "8 x 1 = 8\n",
      "8 x 2 = 16\n",
      "8 x 3 = 24\n",
      "8 x 4 = 32\n",
      "8 x 5 = 40\n",
      "8 x 6 = 48\n",
      "8 x 7 = 56\n",
      "8 x 8 = 64\n",
      "8 x 9 = 72\n",
      "\n",
      "\n",
      "9 x 1 = 9\n",
      "9 x 2 = 18\n",
      "9 x 3 = 27\n",
      "9 x 4 = 36\n",
      "9 x 5 = 45\n",
      "9 x 6 = 54\n",
      "9 x 7 = 63\n",
      "9 x 8 = 72\n",
      "9 x 9 = 81\n"
     ]
    }
   ],
   "source": [
    "for i in range(8,10):\n",
    "    print('\\n')\n",
    "    for j in range(1,10):\n",
    "        print(f'{i} x {j} = {i*j}')"
   ]
  }
 ],
 "metadata": {
  "hide_input": false,
  "kernelspec": {
   "display_name": "Python 3",
   "language": "python",
   "name": "python3"
  },
  "language_info": {
   "codemirror_mode": {
    "name": "ipython",
    "version": 3
   },
   "file_extension": ".py",
   "mimetype": "text/x-python",
   "name": "python",
   "nbconvert_exporter": "python",
   "pygments_lexer": "ipython3",
   "version": "3.8.3"
  },
  "toc": {
   "base_numbering": 1,
   "nav_menu": {},
   "number_sections": true,
   "sideBar": true,
   "skip_h1_title": false,
   "title_cell": "Table of Contents",
   "title_sidebar": "Contents",
   "toc_cell": false,
   "toc_position": {
    "height": "calc(100% - 180px)",
    "left": "10px",
    "top": "150px",
    "width": "242.734px"
   },
   "toc_section_display": true,
   "toc_window_display": true
  },
  "varInspector": {
   "cols": {
    "lenName": 16,
    "lenType": 16,
    "lenVar": 40
   },
   "kernels_config": {
    "python": {
     "delete_cmd_postfix": "",
     "delete_cmd_prefix": "del ",
     "library": "var_list.py",
     "varRefreshCmd": "print(var_dic_list())"
    },
    "r": {
     "delete_cmd_postfix": ") ",
     "delete_cmd_prefix": "rm(",
     "library": "var_list.r",
     "varRefreshCmd": "cat(var_dic_list()) "
    }
   },
   "types_to_exclude": [
    "module",
    "function",
    "builtin_function_or_method",
    "instance",
    "_Feature"
   ],
   "window_display": false
  }
 },
 "nbformat": 4,
 "nbformat_minor": 4
}
