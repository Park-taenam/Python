{
 "cells": [
  {
   "cell_type": "markdown",
   "metadata": {},
   "source": [
    "# Enumerate\n",
    "- enumerate : 열거하다\n",
    "- 객체임 (enumerate 객체)\n",
    "\n",
    "- for 문과 함께 자주 사용\n",
    "- 반복문 사용시 몇 번째 반복문인지 확인 가능\n",
    "- 인덱스 번호와 컬렉션의 원소를 tuple 형태로 반환\n",
    "\n",
    "## enumerate 객체\n",
    "### list"
   ]
  },
  {
   "cell_type": "code",
   "execution_count": 22,
   "metadata": {
    "ExecuteTime": {
     "end_time": "2021-07-27T11:06:16.939216Z",
     "start_time": "2021-07-27T11:06:16.931228Z"
    },
    "scrolled": true
   },
   "outputs": [
    {
     "name": "stdout",
     "output_type": "stream",
     "text": [
      "Return type :  <class 'list'>\n",
      "Return type :  <class 'enumerate'>\n",
      "\n",
      "[(0, 'park'), (1, 'tae'), (2, 'nam')]\n",
      "{}\n"
     ]
    }
   ],
   "source": [
    "lst1 = ['park','tae', 'nam']\n",
    "obj1 = enumerate(lst1)\n",
    "\n",
    "print(\"Return type : \", type(lst1))\n",
    "print(\"Return type : \", type(obj1))\n",
    "\n",
    "print()\n",
    "\n",
    "print(list(obj1))\n",
    "print(dict(obj1)) # 얜 뭐야?"
   ]
  },
  {
   "cell_type": "markdown",
   "metadata": {},
   "source": [
    "### string"
   ]
  },
  {
   "cell_type": "code",
   "execution_count": 23,
   "metadata": {
    "ExecuteTime": {
     "end_time": "2021-07-27T11:06:26.971261Z",
     "start_time": "2021-07-27T11:06:26.961203Z"
    }
   },
   "outputs": [
    {
     "name": "stdout",
     "output_type": "stream",
     "text": [
      "Return type :  <class 'str'>\n",
      "Return type :  <class 'enumerate'>\n",
      "\n",
      "[(0, 'p'), (1, 'a'), (2, 'r'), (3, 'k')]\n",
      "{}\n"
     ]
    }
   ],
   "source": [
    "str1 = \"park\"\n",
    "obj2 = enumerate(str1)\n",
    "\n",
    "print(\"Return type : \", type(str1))\n",
    "print(\"Return type : \", type(obj2))\n",
    "\n",
    "print()\n",
    "\n",
    "print(list(obj2))\n",
    "print(dict(obj2))"
   ]
  },
  {
   "cell_type": "markdown",
   "metadata": {
    "ExecuteTime": {
     "end_time": "2021-07-27T11:06:47.684940Z",
     "start_time": "2021-07-27T11:06:47.681943Z"
    }
   },
   "source": [
    "## changing start index"
   ]
  },
  {
   "cell_type": "code",
   "execution_count": 34,
   "metadata": {
    "ExecuteTime": {
     "end_time": "2021-07-27T11:16:20.022353Z",
     "start_time": "2021-07-27T11:16:20.018351Z"
    }
   },
   "outputs": [
    {
     "name": "stdout",
     "output_type": "stream",
     "text": [
      "[(2, 'p'), (3, 'a'), (4, 'r'), (5, 'k')]\n",
      "[(2, 'p'), (3, 'a'), (4, 'r'), (5, 'k')]\n"
     ]
    }
   ],
   "source": [
    "# changing start index\n",
    "# to 2 from 0 (0 -> 2)\n",
    "\n",
    "print(list(enumerate(str1, 2)))\n",
    "print(list(enumerate(str1, start = 2)))"
   ]
  },
  {
   "cell_type": "markdown",
   "metadata": {},
   "source": [
    "## 반복문 (loop)"
   ]
  },
  {
   "cell_type": "code",
   "execution_count": 18,
   "metadata": {
    "ExecuteTime": {
     "end_time": "2021-07-27T11:00:14.027598Z",
     "start_time": "2021-07-27T11:00:14.022597Z"
    }
   },
   "outputs": [
    {
     "name": "stdout",
     "output_type": "stream",
     "text": [
      "(0, 'park')\n",
      "(1, 'tae')\n",
      "(2, 'nam')\n",
      "\n",
      "\n",
      "0  :  park\n",
      "1  :  tae\n",
      "2  :  nam\n"
     ]
    }
   ],
   "source": [
    "lst1 = ['park','tae', 'nam']\n",
    "\n",
    "for name in enumerate(lst1):\n",
    "    print(name)\n",
    "    \n",
    "print('\\n')\n",
    "\n",
    "for num, name in enumerate(lst1):\n",
    "    print(num, \" : \", name)"
   ]
  },
  {
   "cell_type": "code",
   "execution_count": 33,
   "metadata": {
    "ExecuteTime": {
     "end_time": "2021-07-27T11:14:08.265930Z",
     "start_time": "2021-07-27T11:14:08.258932Z"
    }
   },
   "outputs": [
    {
     "name": "stdout",
     "output_type": "stream",
     "text": [
      "(0, 1)\n",
      "(1, 5)\n",
      "(2, 7)\n",
      "(3, 13)\n",
      "(4, 35)\n",
      "(5, 67)\n",
      "(6, 99)\n",
      "\n",
      "index : 0, value : 1\n",
      "index : 1, value : 5\n",
      "index : 2, value : 7\n",
      "index : 3, value : 13\n",
      "index : 4, value : 35\n",
      "index : 5, value : 67\n",
      "index : 6, value : 99\n",
      "\n",
      "(4, 1)\n",
      "(5, 5)\n",
      "(6, 7)\n",
      "(7, 13)\n",
      "(8, 35)\n",
      "(9, 67)\n",
      "(10, 99)\n"
     ]
    }
   ],
   "source": [
    "lst2 = [1,5,7,13,35,67,99]\n",
    "\n",
    "for i in enumerate(lst2):\n",
    "    print(i)\n",
    "    \n",
    "print()\n",
    "    \n",
    "for i, num in enumerate(lst2):\n",
    "    print(\"index : {}, value : {}\".format(i, num))\n",
    "    \n",
    "print()\n",
    "\n",
    "# changing start index\n",
    "for i in enumerate(lst2, 4):\n",
    "    print(i)"
   ]
  }
 ],
 "metadata": {
  "hide_input": false,
  "kernelspec": {
   "display_name": "Python 3",
   "language": "python",
   "name": "python3"
  },
  "language_info": {
   "codemirror_mode": {
    "name": "ipython",
    "version": 3
   },
   "file_extension": ".py",
   "mimetype": "text/x-python",
   "name": "python",
   "nbconvert_exporter": "python",
   "pygments_lexer": "ipython3",
   "version": "3.8.3"
  },
  "toc": {
   "base_numbering": 1,
   "nav_menu": {},
   "number_sections": true,
   "sideBar": true,
   "skip_h1_title": false,
   "title_cell": "Table of Contents",
   "title_sidebar": "Contents",
   "toc_cell": false,
   "toc_position": {},
   "toc_section_display": true,
   "toc_window_display": false
  },
  "varInspector": {
   "cols": {
    "lenName": 16,
    "lenType": 16,
    "lenVar": 40
   },
   "kernels_config": {
    "python": {
     "delete_cmd_postfix": "",
     "delete_cmd_prefix": "del ",
     "library": "var_list.py",
     "varRefreshCmd": "print(var_dic_list())"
    },
    "r": {
     "delete_cmd_postfix": ") ",
     "delete_cmd_prefix": "rm(",
     "library": "var_list.r",
     "varRefreshCmd": "cat(var_dic_list()) "
    }
   },
   "types_to_exclude": [
    "module",
    "function",
    "builtin_function_or_method",
    "instance",
    "_Feature"
   ],
   "window_display": false
  }
 },
 "nbformat": 4,
 "nbformat_minor": 4
}
