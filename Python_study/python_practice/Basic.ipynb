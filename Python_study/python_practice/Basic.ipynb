{
 "cells": [
  {
   "cell_type": "markdown",
   "metadata": {},
   "source": [
    "\\n : 줄 바꿈 문자\n",
    "\n",
    "\\t : 탭 문자\n",
    "\n",
    "\\\\ : 역슬래시 자체\n",
    "\n",
    "\\\" : 큰따옴표 자체\n",
    "\n",
    "\\' : 작은따옴표 자체\n",
    "\n",
    "\n",
    "len() : 글자 길이\n",
    "\n",
    "int()는 문자열을 정수로 변환.\n",
    "\n",
    "float()는 문자열을 실수로 변환.\n",
    "\n",
    "str()은 문자열로 변환.\n",
    "\n",
    "type()은 변수의 자료형을 알려줌.\n",
    "\n",
    "input()은 사용자로부터 텍스트 형태의 데이터를 받아서 반환하는 함수.\n",
    "\n",
    "input() 무조건 문자열로 나옴.\n",
    "\n",
    "\n",
    "print(\"7+4=\",7+4)   #더하기\n",
    "\n",
    "print(\"7-4=\",7-4)   #빼기\n",
    "\n",
    "print(\"7*4=\",7*4)   #곱하기\n",
    "\n",
    "print(\"7/4=\",7/4)   #나누기 몫\n",
    "\n",
    "print(\"7//4=\",7//4) #나누기 정수 몫\n",
    "\n",
    "print(\"7%4=\",7%4)   #나머지\n",
    "\n",
    "print(\"7**4=\",7**4) #지수"
   ]
  },
  {
   "cell_type": "code",
   "execution_count": 5,
   "metadata": {},
   "outputs": [
    {
     "name": "stdout",
     "output_type": "stream",
     "text": [
      "10\n",
      "x= 10\n",
      "y= 3.14\n",
      "z= Hello World\n",
      "1 2\n",
      "철수가 '안녕'이라고 말했습니다\n",
      "Pyth\n"
     ]
    }
   ],
   "source": [
    "x=10\n",
    "print(x)\n",
    "print(\"x=\",x)\n",
    "\n",
    "y=3.14\n",
    "print(\"y=\",y)\n",
    "\n",
    "z=\"Hello World\"\n",
    "print(\"z=\",z)\n",
    "\n",
    "a,b = 1,2       #python은 이렇게 가능\n",
    "print(a,b)\n",
    "\n",
    "msg=\"hello\"\n",
    "print(msg)\n",
    "msg\n",
    "\n",
    "message=\"철수가 '안녕'이라고 말했습니다\"\n",
    "print(message)\n",
    "\n",
    "s=\"Monty Python\"\n",
    "print(s[6:10])"
   ]
  },
  {
   "cell_type": "code",
   "execution_count": 6,
   "metadata": {},
   "outputs": [
    {
     "name": "stdout",
     "output_type": "stream",
     "text": [
      "정수를 입력하시오: 100\n",
      "정수를 입력하시오: 200\n",
      "100200\n",
      "정수를 입력하시오: 100\n",
      "정수를 입력하시오: 200\n",
      "100 + 200\n",
      "<class 'str'>\n",
      "<class 'int'>\n",
      "<class 'float'>\n"
     ]
    }
   ],
   "source": [
    "# input() : 무조건 문자열로 나옴.\n",
    "\n",
    "x=input(\"정수를 입력하시오: \")\n",
    "y=input(\"정수를 입력하시오: \")\n",
    "print(x+y)\n",
    "\n",
    "\n",
    "t=input(\"정수를 입력하시오: \")\n",
    "x=int(t)\n",
    "t=input(\"정수를 입력하시오: \")\n",
    "y=int(t)\n",
    "print(x+y)\n",
    "\n",
    "print(type(\"Hello World\"))\n",
    "print(type(123))\n",
    "print(type(1.23))"
   ]
  },
  {
   "cell_type": "code",
   "execution_count": 24,
   "metadata": {},
   "outputs": [
    {
     "name": "stdout",
     "output_type": "stream",
     "text": [
      "성을 입력해주세요 :박\n",
      "이름을 입력해주세요 :태남\n",
      "이름 :박태남\n",
      "정수 :1\n",
      "<class 'str'>\n",
      "실수 :1.2\n",
      "<class 'str'>\n",
      "문자 :아\n",
      "<class 'str'>\n"
     ]
    }
   ],
   "source": [
    "#응용\n",
    "first_name=input(\"성을 입력해주세요 :\")\n",
    "last_name=input(\"이름을 입력해주세요 :\")\n",
    "name=first_name+last_name\n",
    "\n",
    "print(\"이름 :\" +name)\n",
    "\n",
    "print(type(input(\"정수 :\")))\n",
    "print(type(input(\"실수 :\")))\n",
    "print(type(input(\"문자 :\")))\n"
   ]
  },
  {
   "cell_type": "code",
   "execution_count": 1,
   "metadata": {},
   "outputs": [
    {
     "name": "stdout",
     "output_type": "stream",
     "text": [
      "==================================================\n",
      "Congratulations! Congratulations! Congratulations! \n",
      "상품의 가격은 10000원입니다,\n"
     ]
    }
   ],
   "source": [
    "line=\"=\"*50\n",
    "print(line)\n",
    "\n",
    "message = \"Congratulations! \"\n",
    "print(message * 3)\n",
    "\n",
    "price=10000\n",
    "print(\"상품의 가격은 %s원입니다,\" %price)\n",
    "\n"
   ]
  },
  {
   "cell_type": "code",
   "execution_count": 1,
   "metadata": {},
   "outputs": [],
   "source": [
    "#연습하면서 익숙해지기.\n",
    "import turtle\n",
    "t = turtle.Turtle()\n",
    "t.shape(\"turtle\")\n",
    "\n",
    "s = turtle.textinput(\"\", \"이름을 입력하시오: \")\n",
    "t.write(\"안녕하세요?\" + s + \"씨, 터틀 인사드립니다\") \n",
    "\n",
    "t.left(90)\n",
    "t.fd(100)\n",
    "t.left(90)\n",
    "t.fd(100)\n",
    "t.left(90)\n",
    "t.fd(100)\n",
    "t.left(90)\n",
    "t.fd(100)"
   ]
  },
  {
   "cell_type": "code",
   "execution_count": 2,
   "metadata": {},
   "outputs": [
    {
     "name": "stdout",
     "output_type": "stream",
     "text": [
      "말 한마디로\n",
      "천 냥 빚을 갚는다\n",
      "doesn't\n",
      "3\n",
      "1591788107.8080847\n",
      "올해는 2020년 입니다\n",
      "몇 살이신지요? 23\n",
      "2050년에는 53살 이시군요\n"
     ]
    }
   ],
   "source": [
    "print(\"말 한마디로\\n천 냥 빚을 갚는다\")\n",
    "\n",
    "message = \"doesn\\'t\"\n",
    "print(message)\n",
    "\n",
    "print(len(\"박태남\"))\n",
    "\n",
    "import time\n",
    "\n",
    "now = time.time()\n",
    "thisyear = int(1970+now//(365*24*3600))\n",
    "\n",
    "print(\"올해는 \" + str(thisyear)+\"년 입니다\")\n",
    "age = int(input(\"몇 살이신지요? \"))\n",
    "\n",
    "print(\"2050년에는 \" + str(age + 2050-thisyear) + \"살 이시군요\")"
   ]
  }
 ],
 "metadata": {
  "kernelspec": {
   "display_name": "Python 3",
   "language": "python",
   "name": "python3"
  },
  "language_info": {
   "codemirror_mode": {
    "name": "ipython",
    "version": 3
   },
   "file_extension": ".py",
   "mimetype": "text/x-python",
   "name": "python",
   "nbconvert_exporter": "python",
   "pygments_lexer": "ipython3",
   "version": "3.8.2"
  }
 },
 "nbformat": 4,
 "nbformat_minor": 4
}
