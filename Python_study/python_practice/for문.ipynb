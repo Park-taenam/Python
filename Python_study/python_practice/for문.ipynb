{
 "cells": [
  {
   "cell_type": "markdown",
   "metadata": {},
   "source": [
    "횟수 제어 반복(for 문) : 정해진 횟수만큼 반복\n",
    "조건 제어 반복(while 문) : 특정한 조건이 만족되면 계속 반복."
   ]
  },
  {
   "cell_type": "code",
   "execution_count": 4,
   "metadata": {},
   "outputs": [
    {
     "name": "stdout",
     "output_type": "stream",
     "text": [
      "방문을 환영합니다!\n",
      "방문을 환영합니다!\n",
      "방문을 환영합니다!\n",
      "방문을 환영합니다!\n",
      "방문을 환영합니다!\n",
      "방문을 환영합니다\n",
      "방문을 환영합니다\n",
      "방문을 환영합니다\n",
      "방문을 환영합니다\n",
      "방문을 환영합니다\n",
      "i =  1\n",
      "i =  2\n",
      "i =  3\n",
      "i =  4\n",
      "i =  5\n",
      "9* 1 = 9\n",
      "9* 2 = 18\n",
      "9* 3 = 27\n",
      "9* 4 = 36\n",
      "9* 5 = 45\n",
      "[0, 1, 2, 3, 4, 5, 6, 7, 8, 9]\n",
      "방문을 환영합니다!\n",
      "방문을 환영합니다!\n",
      "방문을 환영합니다!\n",
      "방문을 환영합니다!\n",
      "방문을 환영합니다!\n",
      "방문을 환영합니다!\n",
      "방문을 환영합니다!\n",
      "방문을 환영합니다!\n",
      "방문을 환영합니다!\n",
      "방문을 환영합니다!\n",
      "1 2 3 4 5 \n",
      "\n",
      "10 9 8 7 6 5 4 3 2 1 \n",
      "\n",
      "정수를 입력하시오: 3\n",
      "3 !은 6 이다.\n"
     ]
    }
   ],
   "source": [
    "for i in range(5):\n",
    "    print(\"방문을 환영합니다!\")\n",
    "    \n",
    "for i in [1,2,3,4,5]:\n",
    "    print(\"방문을 환영합니다\")\n",
    "    \n",
    "for i in [1,2,3,4,5]:\n",
    "    print(\"i = \", i)\n",
    "    \n",
    "for i in [1,2,3,4,5]:\n",
    "    print(\"9*\", i, \"=\", 9*i)\n",
    "    \n",
    "print(list(range(10)))    #[0, 1, 2, 3, 4, 5, 6, 7, 8, 9]\n",
    "\n",
    "for i in range(10):\n",
    "    print(\"방문을 환영합니다!\")\n",
    "    \n",
    "for i in range(1,6,1):   #range(start=0, stop, step=1)\n",
    "    print(i, end=\" \")    #end=\" \" : 줄이 바뀌지 않고 실행.\n",
    "    \n",
    "print(\"\\n\")\n",
    "   \n",
    "for i in range(10,0,-1):\n",
    "    print(i, end=\" \")\n",
    "    \n",
    "print(\"\\n\")\n",
    "    \n",
    "################################################\n",
    "n = int(input(\"정수를 입력하시오: \"))\n",
    "fact = 1\n",
    "for i in range(1,n+1):\n",
    "    fact = fact * i\n",
    "print(n,\"!은\", fact, \"이다.\")"
   ]
  },
  {
   "cell_type": "code",
   "execution_count": 21,
   "metadata": {},
   "outputs": [],
   "source": [
    "import turtle\n",
    "t=turtle.Turtle()\n",
    "\n",
    "for count in range(6):\n",
    "    t.circle(100)\n",
    "    t.left(360/6)"
   ]
  },
  {
   "cell_type": "code",
   "execution_count": 1,
   "metadata": {},
   "outputs": [],
   "source": [
    "import turtle\n",
    "t = turtle.Turtle()\n",
    "t.shape(\"turtle\")\n",
    "\n",
    "for i in range(3):\n",
    "    t.fd(100)\n",
    "    t.left(360/3)\n",
    "    \n",
    "t.penup()\n",
    "t.goto(200,0)\n",
    "t.pendown()\n",
    "\n",
    "for i in range(4):\n",
    "    t.fd(100)\n",
    "    t.left(360/4)"
   ]
  },
  {
   "cell_type": "code",
   "execution_count": 12,
   "metadata": {},
   "outputs": [],
   "source": [
    "import turtle\n",
    "t = turtle.Turtle()\n",
    "t.shape(\"turtle\")\n",
    "\n",
    "s = turtle.textinput(\"\", \"몇각형을 원하시나요?:\")\n",
    "n=int(s)\n",
    "\n",
    "for i in range(n):\n",
    "    t.fd(100)\n",
    "    t.left(360/n)\n"
   ]
  },
  {
   "cell_type": "code",
   "execution_count": 1,
   "metadata": {},
   "outputs": [],
   "source": [
    "import turtle\n",
    "import random\n",
    "t= turtle.Turtle()\n",
    "t.shape(\"turtle\")\n",
    "\n",
    "for i in range(30):\n",
    "    length = random.randint(1,100)\n",
    "    t.fd(length)\n",
    "    angle=random.randint(-180,180)\n",
    "    t.right(angle)"
   ]
  }
 ],
 "metadata": {
  "kernelspec": {
   "display_name": "Python 3",
   "language": "python",
   "name": "python3"
  },
  "language_info": {
   "codemirror_mode": {
    "name": "ipython",
    "version": 3
   },
   "file_extension": ".py",
   "mimetype": "text/x-python",
   "name": "python",
   "nbconvert_exporter": "python",
   "pygments_lexer": "ipython3",
   "version": "3.8.2"
  }
 },
 "nbformat": 4,
 "nbformat_minor": 4
}
