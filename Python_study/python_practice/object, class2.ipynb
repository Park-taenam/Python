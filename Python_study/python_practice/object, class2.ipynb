{
 "cells": [
  {
   "cell_type": "markdown",
   "metadata": {},
   "source": [
    "python에서 이미지 불러올 때 이미지 파일의 위치는 py 파일 저장위치와 같으면 됌.\n",
    "\n",
    "보통 상속은 기존 클래스를 변경하지 않고 기능을 추가하거나 기존 기능을 변경하려고 할 때 사용한다.\n",
    "->기존 클래스가 라이브러리 형태로 제공되거나 수정이 허용되지 않는 상황이라면 상속을 사용해야 한다."
   ]
  },
  {
   "cell_type": "code",
   "execution_count": null,
   "metadata": {},
   "outputs": [],
   "source": [
    "#car + turtle\n",
    "from turtle import *\n",
    "class Car:\n",
    "    def __init__(self, speed, color, model):\n",
    "        self.speed = speed\n",
    "        self.color = color\n",
    "        self.model = model\n",
    "        self.turtle = Turtle()\n",
    "        self.turtle.shape(\"car.gif\")\n",
    "        \n",
    "    def drive(self):\n",
    "        self.turtle.forward(self.speed)\n",
    "        \n",
    "    def left_turn(self):\n",
    "        self.turtle.left(90)\n",
    "        \n",
    "register_shape(\"car.gif\")             #이미지 파일의 위치는 py 파일이 저장된 위치에 같이 있으면 된다.\n",
    "myCar = Car(200,'red','E-class')\n",
    "for i in range(100):\n",
    "    myCar.drive()\n",
    "    myCar.left_turn()"
   ]
  },
  {
   "cell_type": "code",
   "execution_count": 1,
   "metadata": {},
   "outputs": [],
   "source": [
    "from turtle import*\n",
    "class Ball:\n",
    "    def __init__(self, color, size, speed):\n",
    "        #공의 위치\n",
    "        self.x = 0\n",
    "        self.y = 0\n",
    "        \n",
    "        #공의 속도 벡터\n",
    "        self.xspeed = speed\n",
    "        self.yspeed = speed\n",
    "        \n",
    "        #공의 크기\n",
    "        self.size = size\n",
    "        \n",
    "        #공의 색상\n",
    "        self.color = color\n",
    "        \n",
    "        self.turtle = Turtle()\n",
    "        self.turtle.shape(\"circle\")\n",
    "        self.turtle.color(color,color)\n",
    "        self.turtle.resizemode('user')\n",
    "        self.turtle.shapesize(size, size, 10)\n",
    "        \n",
    "    #메소드 정의\n",
    "    def move(self):\n",
    "        self.x += self.xspeed\n",
    "        self.y += self.yspeed\n",
    "        self.turtle.goto(self.x, self.y)\n",
    "        \n",
    "ball = Ball('red',2,1)\n",
    "for i in range(100):\n",
    "    ball.move()"
   ]
  },
  {
   "cell_type": "code",
   "execution_count": 1,
   "metadata": {},
   "outputs": [],
   "source": [
    "#상속\n",
    "#클래스를 상속하기 위해서는 다음처럼 클래스 이름 뒤 \n",
    "#괄호 안에 상속할 클래스 이름을 넣어주면 된다.\n",
    "from turtle import *\n",
    "\n",
    "class MyTurtle(Turtle):\n",
    "    def glow(self,x,y):\n",
    "        self.fillcolor(\"red\")\n",
    "        \n",
    "turtle = MyTurtle()\n",
    "turtle.shape(\"turtle\")\n",
    "turtle.onclick(turtle.glow)"
   ]
  }
 ],
 "metadata": {
  "kernelspec": {
   "display_name": "Python 3",
   "language": "python",
   "name": "python3"
  },
  "language_info": {
   "codemirror_mode": {
    "name": "ipython",
    "version": 3
   },
   "file_extension": ".py",
   "mimetype": "text/x-python",
   "name": "python",
   "nbconvert_exporter": "python",
   "pygments_lexer": "ipython3",
   "version": "3.8.2"
  }
 },
 "nbformat": 4,
 "nbformat_minor": 4
}
