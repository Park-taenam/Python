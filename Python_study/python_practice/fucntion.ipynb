{
 "cells": [
  {
   "cell_type": "markdown",
   "metadata": {},
   "source": [
    "함수 정의.\n",
    "\n",
    "####python은 이게 가능.\n",
    "x,y = 2, 3\n",
    "print(x)\n",
    "print(y)"
   ]
  },
  {
   "cell_type": "code",
   "execution_count": 1,
   "metadata": {},
   "outputs": [
    {
     "name": "stdout",
     "output_type": "stream",
     "text": [
      "서울특별시 종로구 1번지\n",
      "홍길동\n",
      "서울특별시 종로구 1번지\n",
      "홍길동\n",
      "\n",
      "\n",
      "서울특별시 종로구 1번지\n",
      "홍길동\n",
      "78.5\n",
      "55\n",
      "원의 반지름: 3\n",
      "28.26\n",
      "원의 반지름: 4\n",
      "50.24\n",
      "안녕 철수, 좋은 아침!\n",
      "안녕 영희, 별일 없죠?\n"
     ]
    }
   ],
   "source": [
    "def print_address():\n",
    "    print(\"서울특별시 종로구 1번지\")\n",
    "    print(\"홍길동\")\n",
    "print_address()\n",
    "print_address()\n",
    "\n",
    "print(\"\\n\")\n",
    "\n",
    "def print_address(name):\n",
    "    print(\"서울특별시 종로구 1번지\")\n",
    "    print(name)\n",
    "print_address(\"홍길동\")    \n",
    "\n",
    "\n",
    "def calculate_area (radius):\n",
    "    area=3.14*radius**2\n",
    "    return area         #값 반환할꺼 지정\n",
    "\n",
    "c_area = calculate_area(5.0)\n",
    "print(c_area)\n",
    "\n",
    "\n",
    "def get_sum(start, end):\n",
    "    sum=0\n",
    "    for i in range(start, end+1):\n",
    "        sum += i\n",
    "    return sum\n",
    "\n",
    "print(get_sum(1,10))\n",
    "\n",
    "####################################### 밑에 함수랑 비교하면서 생각.\n",
    "def calculate_area ():\n",
    "    result = 3.14*r**2\n",
    "    return result\n",
    "\n",
    "r=float(input(\"원의 반지름: \"))\n",
    "area = calculate_area()\n",
    "print(area)\n",
    "\n",
    "\n",
    "def calculate_area(radius):\n",
    "    global area                    ##전역변수 지정. 전역변수 지정하지 않고 실행하면 지역변수로 받아들여 밖이랑 다른 변수로 생각.\n",
    "    area = 3.14*radius**2       \n",
    "    return                         ##함수 자체로 값을 내보내는 역할보다 함수가 지역변수인 area의 값을 변환시키는 역할을 함.\n",
    "\n",
    "area=0\n",
    "r=float(input(\"원의 반지름: \"))    \n",
    "calculate_area(r)                  \n",
    "print(area)\n",
    "#######################################\n",
    "\n",
    "#디폴트 인수 \n",
    "def greet(name, msg):\n",
    "    print(\"안녕\",name+', '+msg) \n",
    "greet(\"철수\",\"좋은 아침!\")\n",
    "\n",
    "def greet(name, msg=\"별일 없죠?\"):\n",
    "    print(\"안녕\",name+', '+msg)\n",
    "greet(\"영희\")\n"
   ]
  },
  {
   "cell_type": "code",
   "execution_count": 1,
   "metadata": {},
   "outputs": [],
   "source": [
    "import turtle\n",
    "t=turtle.Turtle()\n",
    "\n",
    "def n_polygon(n, length):\n",
    "    for i in range(n):\n",
    "        t.forward(length)\n",
    "        t.left(360//n)\n",
    "        \n",
    "for i in range(18):\n",
    "    t.left(20)\n",
    "    n_polygon(6,100)"
   ]
  },
  {
   "cell_type": "code",
   "execution_count": 9,
   "metadata": {},
   "outputs": [],
   "source": [
    "#프랙털(fractal)\n",
    "\n",
    "import turtle\n",
    "\n",
    "def tree(length):\n",
    "    if length > 5:\n",
    "        t.forward(length)\n",
    "        t.right(20)\n",
    "        tree(length-15)\n",
    "        t.left(40)\n",
    "        tree(length-15)\n",
    "        t.right(20)\n",
    "        t.backward(length)\n",
    "        \n",
    "t=turtle.Turtle()\n",
    "t.left(90)\n",
    "\n",
    "t.color(\"green\")\n",
    "t.speed(1)\n",
    "tree(90)"
   ]
  }
 ],
 "metadata": {
  "kernelspec": {
   "display_name": "Python 3",
   "language": "python",
   "name": "python3"
  },
  "language_info": {
   "codemirror_mode": {
    "name": "ipython",
    "version": 3
   },
   "file_extension": ".py",
   "mimetype": "text/x-python",
   "name": "python",
   "nbconvert_exporter": "python",
   "pygments_lexer": "ipython3",
   "version": "3.8.2"
  }
 },
 "nbformat": 4,
 "nbformat_minor": 4
}
