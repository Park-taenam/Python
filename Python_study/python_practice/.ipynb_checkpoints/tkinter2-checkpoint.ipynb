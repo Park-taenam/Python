{
 "cells": [
  {
   "cell_type": "code",
   "execution_count": 1,
   "metadata": {},
   "outputs": [],
   "source": [
    "from tkinter import*\n",
    "\n",
    "window=Tk()\n",
    "\n",
    "w=Label(window, text=\"박스 #1\", bg=\"red\", fg=\"white\")\n",
    "w.place(x=0, y=0)\n",
    "w=Label(window, text=\"박스 #2\", bg=\"green\", fg=\"black\")\n",
    "w.place(x=20, y=20)\n",
    "w=Label(window, text=\"박스 #3\", bg=\"blue\", fg=\"white\")\n",
    "w.place(x=40, y=40)\n",
    "\n",
    "window.mainloop()"
   ]
  },
  {
   "cell_type": "code",
   "execution_count": 4,
   "metadata": {},
   "outputs": [],
   "source": [
    "#마우스 움직일 때마다 그 위치에 자그만한 타원 그리기.\n",
    "\n",
    "from tkinter import*\n",
    "\n",
    "def paint(event):\n",
    "    x1,y1 = (event.x-1),(event.y+1)\n",
    "    x2,y2 = (event.x-1),(event.y+1)\n",
    "    canvas.create_oval(x1,y1,x2,y2,fill=\"black\")\n",
    "\n",
    "window = Tk()\n",
    "canvas = Canvas(window)\n",
    "canvas.pack()\n",
    "canvas.bind(\"<B1-Motion>\",paint)     #마우스의 첫 번째 버튼을 누르면서 움직이면 <B1-Motion> 라는 이벤트 발생.\n",
    "window.mainloop()"
   ]
  },
  {
   "cell_type": "code",
   "execution_count": 5,
   "metadata": {},
   "outputs": [],
   "source": [
    "#버튼 누르면 색상 변경.\n",
    "\n",
    "from tkinter import*\n",
    "\n",
    "mycolor = 'blue'\n",
    "\n",
    "def paint(event):\n",
    "    x1,y1 = (event.x-1),(event.y+1)\n",
    "    x2,y2 = (event.x-1),(event.y+1)\n",
    "    canvas.create_oval(x1,y1,x2,y2,fill=mycolor)\n",
    "\n",
    "def change_color():\n",
    "    global mycolor\n",
    "    mycolor = 'red'\n",
    "    \n",
    "window = Tk()\n",
    "canvas = Canvas(window)\n",
    "canvas.pack()\n",
    "canvas.bind(\"<B1-Motion>\",paint)\n",
    "button = Button(window, text=\"빨간색\", command=change_color)\n",
    "button.pack()\n",
    "window.mainloop()"
   ]
  },
  {
   "cell_type": "code",
   "execution_count": 8,
   "metadata": {},
   "outputs": [],
   "source": [
    "#계산기 프로그램\n",
    "\n",
    "from tkinter import*\n",
    "\n",
    "window = Tk()\n",
    "window.title(\"My Calculator\")\n",
    "display = Entry(window, width=33, bg='yellow')\n",
    "display.grid(row=0, column=0, columnspan=5)        #columnspan : 몇 개의 셀을 병합할지\n",
    "                                                   #display라는 Entry 자체를 지정\n",
    "\n",
    "button_list = [\n",
    "'7','8','9','/','C',\n",
    "'4','5','6','*',' ',\n",
    "'1','2','3','-',' ',\n",
    "'0','.','=','+',' ']\n",
    "\n",
    "def click(key):\n",
    "    if key==\"=\":\n",
    "        result = eval(display.get())              #eval : 수식을 받아서 계산을 수행하는 함수.\n",
    "        s = str(result)\n",
    "        display.insert(END,'='+s)\n",
    "    else:\n",
    "        display.insert(END, key)\n",
    "\n",
    "\n",
    "row_index = 1\n",
    "col_index = 0\n",
    "for button_text in button_list:       #문자가 순서대로 들어가는 느낌.\n",
    "    def process(t=button_text):\n",
    "        click(t)\n",
    "    Button(window, text=button_text, width=5, command=process).grid(row=row_index, column=col_index)\n",
    "    col_index += 1\n",
    "    if col_index > 4:\n",
    "        row_index += 1\n",
    "        col_index = 0\n",
    "\n",
    "window.mainloop()"
   ]
  },
  {
   "cell_type": "code",
   "execution_count": 11,
   "metadata": {},
   "outputs": [],
   "source": [
    "#이미지 표시 프로그램.\n",
    "\n",
    "from tkinter import*\n",
    "    \n",
    "window=Tk()\n",
    "\n",
    "photo=PhotoImage(file=\"car.gif\")\n",
    "imageLabel=Label(window, image=photo)\n",
    "imageLabel.pack()\n",
    "\n",
    "inputBox = Entry(window)\n",
    "inputBox.pack()\n",
    "\n",
    "button = Button(window, text='Submit')\n",
    "button.pack()\n",
    "\n",
    "window.mainloop()"
   ]
  }
 ],
 "metadata": {
  "kernelspec": {
   "display_name": "Python 3",
   "language": "python",
   "name": "python3"
  },
  "language_info": {
   "codemirror_mode": {
    "name": "ipython",
    "version": 3
   },
   "file_extension": ".py",
   "mimetype": "text/x-python",
   "name": "python",
   "nbconvert_exporter": "python",
   "pygments_lexer": "ipython3",
   "version": "3.8.2"
  }
 },
 "nbformat": 4,
 "nbformat_minor": 4
}
