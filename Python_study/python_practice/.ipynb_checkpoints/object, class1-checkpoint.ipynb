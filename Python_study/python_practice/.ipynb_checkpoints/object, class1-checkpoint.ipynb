{
 "cells": [
  {
   "cell_type": "markdown",
   "metadata": {},
   "source": [
    "객체 = 변수 + 메소드\n",
    "\n",
    "객체의 속성은 객체 안의 변수에 저장.\n",
    "메소드는 객체의 동작. 메소드는 객체 안에 정의된 함수.\n",
    "\n",
    "직접 객체를 정의하고 생성하려면 2가지의 단계를 거쳐야함.\n",
    "\n",
    "1) 객체의 설계도를 작성 -> 클래스를 작성.\n",
    "\n",
    "2) 클래스로부터 객체를 생성."
   ]
  },
  {
   "cell_type": "code",
   "execution_count": 20,
   "metadata": {},
   "outputs": [
    {
     "name": "stdout",
     "output_type": "stream",
     "text": [
      "자동차 객체를 생성하였습니다.\n",
      "자동차의 속도는 0\n",
      "자동차의 색상은 blue\n",
      "자동차의 모델은 E-Class\n",
      "\n",
      "\n",
      "자동차를 주행합니다.\n",
      "자동차의 속도는 60\n"
     ]
    }
   ],
   "source": [
    "#객체 생성.\n",
    "\n",
    "class Car:\n",
    "    def drive(self):      #self.drive()는 Car 클래스의 메소드.\n",
    "        self.speed = 60   #self.speed는 Car 클래스의 속성.\n",
    "                         \n",
    "myCar = Car()   #클래스로부터 객체 생성.\n",
    "\n",
    "myCar.speed = 0\n",
    "myCar.year = '2017'\n",
    "myCar.color = \"blue\"     #객체 속성 추가.\n",
    "myCar.model = \"E-Class\"\n",
    "\n",
    "print(\"자동차 객체를 생성하였습니다.\")\n",
    "print('자동차의 속도는', myCar.speed)\n",
    "print('자동차의 색상은', myCar.color)\n",
    "\n",
    "print('자동차의 모델은', myCar.model)\n",
    "print('\\n')\n",
    "print('자동차를 주행합니다.')\n",
    "\n",
    "myCar.drive()            #메소드 호출 안하면 메소드 안에 속성 안불러짐.\n",
    "print('자동차의 속도는',myCar.speed)"
   ]
  },
  {
   "cell_type": "code",
   "execution_count": 21,
   "metadata": {},
   "outputs": [
    {
     "name": "stdout",
     "output_type": "stream",
     "text": [
      "자동차 객체를 생성하였습니다.\n",
      "자동차의 속도는 0\n",
      "자동차의 색상은 blue\n",
      "자동차의 모델은 E-Class\n",
      "\n",
      "\n",
      "자동차를 주행합니다.\n",
      "자동차의 속도는 60\n",
      "<__main__.Car object at 0x05F44238>\n"
     ]
    }
   ],
   "source": [
    "#객체 생성하며 초기화.\n",
    "\n",
    "class Car:\n",
    "    def __init__(self, speed, color, model):    #__init__ : 외부에서 전달되는 초기값들을 받을 수 있음.\n",
    "        self.speed = speed                      #self는 객체이름이 전달된다고 생각.****\n",
    "        self.color = color\n",
    "        self.model = model\n",
    "        \n",
    "    def drive(self):\n",
    "        self.speed = 60\n",
    "        \n",
    "myCar = Car(0, 'blue','E-Class')\n",
    "momCar = Car(0, 'white','520d')         #동일한 클래스로 여러 개의 객체를 만들 수 있다.\n",
    "dadCar = Car(0, 'silver','S-Class')\n",
    "\n",
    "print(\"자동차 객체를 생성하였습니다.\")\n",
    "print('자동차의 속도는', myCar.speed)\n",
    "print('자동차의 색상은', myCar.color)\n",
    "\n",
    "print('자동차의 모델은', myCar.model)\n",
    "print('\\n')\n",
    "print('자동차를 주행합니다.')\n",
    "\n",
    "myCar.drive()            \n",
    "print('자동차의 속도는',myCar.speed)\n",
    "\n",
    "print(myCar)"
   ]
  },
  {
   "cell_type": "code",
   "execution_count": 1,
   "metadata": {},
   "outputs": [
    {
     "name": "stdout",
     "output_type": "stream",
     "text": [
      "속도0 색상blue 모델E-Class\n",
      "속도0 색상silver 모델S-Class\n"
     ]
    }
   ],
   "source": [
    "#__str__ 메소드\n",
    "\n",
    "#객체 생성하며 초기화.\n",
    "\n",
    "class Car:\n",
    "    def __init__(self, speed, color, model):   \n",
    "        self.speed = speed\n",
    "        self.color = color\n",
    "        self.model = model\n",
    "        \n",
    "    def __str__(self):     #객체 안의 정보 보여주기.\n",
    "        msg = \"속도\"+str(self.speed)+\" 색상\"+self.color+\" 모델\"+self.model\n",
    "        return msg\n",
    "    \n",
    "    def drive(self):\n",
    "        self.speed = 60\n",
    "        \n",
    "myCar = Car(0, 'blue','E-Class')\n",
    "momCar = Car(0, 'white','520d')         \n",
    "dadCar = Car(0, 'silver','S-Class')\n",
    "\n",
    "print(myCar)\n",
    "print(dadCar)"
   ]
  },
  {
   "cell_type": "code",
   "execution_count": 18,
   "metadata": {},
   "outputs": [
    {
     "ename": "Terminator",
     "evalue": "",
     "output_type": "error",
     "traceback": [
      "\u001b[1;31m---------------------------------------------------------------------------\u001b[0m",
      "\u001b[1;31mTerminator\u001b[0m                                Traceback (most recent call last)",
      "\u001b[1;32m<ipython-input-18-9adf790ae40c>\u001b[0m in \u001b[0;36m<module>\u001b[1;34m\u001b[0m\n\u001b[0;32m     21\u001b[0m \u001b[1;32mwhile\u001b[0m \u001b[1;32mTrue\u001b[0m\u001b[1;33m:\u001b[0m\u001b[1;33m\u001b[0m\u001b[1;33m\u001b[0m\u001b[0m\n\u001b[0;32m     22\u001b[0m     \u001b[0mt1\u001b[0m\u001b[1;33m.\u001b[0m\u001b[0mcircle\u001b[0m\u001b[1;33m(\u001b[0m\u001b[1;36m100\u001b[0m\u001b[1;33m)\u001b[0m\u001b[1;33m\u001b[0m\u001b[1;33m\u001b[0m\u001b[0m\n\u001b[1;32m---> 23\u001b[1;33m     \u001b[0mt2\u001b[0m\u001b[1;33m.\u001b[0m\u001b[0mcircle\u001b[0m\u001b[1;33m(\u001b[0m\u001b[1;36m150\u001b[0m\u001b[1;33m)\u001b[0m\u001b[1;33m\u001b[0m\u001b[1;33m\u001b[0m\u001b[0m\n\u001b[0m\u001b[0;32m     24\u001b[0m     \u001b[0mt3\u001b[0m\u001b[1;33m.\u001b[0m\u001b[0mcircle\u001b[0m\u001b[1;33m(\u001b[0m\u001b[1;36m200\u001b[0m\u001b[1;33m)\u001b[0m\u001b[1;33m\u001b[0m\u001b[1;33m\u001b[0m\u001b[0m\n",
      "\u001b[1;32mc:\\users\\user\\appdata\\local\\programs\\python\\python38-32\\lib\\turtle.py\u001b[0m in \u001b[0;36mcircle\u001b[1;34m(self, radius, extent, steps)\u001b[0m\n\u001b[0;32m   1990\u001b[0m             \u001b[0mself\u001b[0m\u001b[1;33m.\u001b[0m\u001b[0mspeed\u001b[0m\u001b[1;33m(\u001b[0m\u001b[0mspeed\u001b[0m\u001b[1;33m)\u001b[0m\u001b[1;33m\u001b[0m\u001b[1;33m\u001b[0m\u001b[0m\n\u001b[0;32m   1991\u001b[0m             \u001b[0mself\u001b[0m\u001b[1;33m.\u001b[0m\u001b[0m_go\u001b[0m\u001b[1;33m(\u001b[0m\u001b[0ml\u001b[0m\u001b[1;33m)\u001b[0m\u001b[1;33m\u001b[0m\u001b[1;33m\u001b[0m\u001b[0m\n\u001b[1;32m-> 1992\u001b[1;33m             \u001b[0mself\u001b[0m\u001b[1;33m.\u001b[0m\u001b[0mspeed\u001b[0m\u001b[1;33m(\u001b[0m\u001b[1;36m0\u001b[0m\u001b[1;33m)\u001b[0m\u001b[1;33m\u001b[0m\u001b[1;33m\u001b[0m\u001b[0m\n\u001b[0m\u001b[0;32m   1993\u001b[0m             \u001b[0mself\u001b[0m\u001b[1;33m.\u001b[0m\u001b[0m_rotate\u001b[0m\u001b[1;33m(\u001b[0m\u001b[0mw\u001b[0m\u001b[1;33m)\u001b[0m\u001b[1;33m\u001b[0m\u001b[1;33m\u001b[0m\u001b[0m\n\u001b[0;32m   1994\u001b[0m         \u001b[0mself\u001b[0m\u001b[1;33m.\u001b[0m\u001b[0m_rotate\u001b[0m\u001b[1;33m(\u001b[0m\u001b[1;33m-\u001b[0m\u001b[0mw2\u001b[0m\u001b[1;33m)\u001b[0m\u001b[1;33m\u001b[0m\u001b[1;33m\u001b[0m\u001b[0m\n",
      "\u001b[1;32mc:\\users\\user\\appdata\\local\\programs\\python\\python38-32\\lib\\turtle.py\u001b[0m in \u001b[0;36mspeed\u001b[1;34m(self, speed)\u001b[0m\n\u001b[0;32m   2172\u001b[0m         \u001b[1;32melse\u001b[0m\u001b[1;33m:\u001b[0m\u001b[1;33m\u001b[0m\u001b[1;33m\u001b[0m\u001b[0m\n\u001b[0;32m   2173\u001b[0m             \u001b[0mspeed\u001b[0m \u001b[1;33m=\u001b[0m \u001b[1;36m0\u001b[0m\u001b[1;33m\u001b[0m\u001b[1;33m\u001b[0m\u001b[0m\n\u001b[1;32m-> 2174\u001b[1;33m         \u001b[0mself\u001b[0m\u001b[1;33m.\u001b[0m\u001b[0mpen\u001b[0m\u001b[1;33m(\u001b[0m\u001b[0mspeed\u001b[0m\u001b[1;33m=\u001b[0m\u001b[0mspeed\u001b[0m\u001b[1;33m)\u001b[0m\u001b[1;33m\u001b[0m\u001b[1;33m\u001b[0m\u001b[0m\n\u001b[0m\u001b[0;32m   2175\u001b[0m \u001b[1;33m\u001b[0m\u001b[0m\n\u001b[0;32m   2176\u001b[0m     \u001b[1;32mdef\u001b[0m \u001b[0mcolor\u001b[0m\u001b[1;33m(\u001b[0m\u001b[0mself\u001b[0m\u001b[1;33m,\u001b[0m \u001b[1;33m*\u001b[0m\u001b[0margs\u001b[0m\u001b[1;33m)\u001b[0m\u001b[1;33m:\u001b[0m\u001b[1;33m\u001b[0m\u001b[1;33m\u001b[0m\u001b[0m\n",
      "\u001b[1;32mc:\\users\\user\\appdata\\local\\programs\\python\\python38-32\\lib\\turtle.py\u001b[0m in \u001b[0;36mpen\u001b[1;34m(self, pen, **pendict)\u001b[0m\n\u001b[0;32m   2457\u001b[0m             self._shapetrafo = ( scx*ca, scy*(shf*ca + sa),\n\u001b[0;32m   2458\u001b[0m                                 -scx*sa, scy*(ca - shf*sa))\n\u001b[1;32m-> 2459\u001b[1;33m         \u001b[0mself\u001b[0m\u001b[1;33m.\u001b[0m\u001b[0m_update\u001b[0m\u001b[1;33m(\u001b[0m\u001b[1;33m)\u001b[0m\u001b[1;33m\u001b[0m\u001b[1;33m\u001b[0m\u001b[0m\n\u001b[0m\u001b[0;32m   2460\u001b[0m \u001b[1;33m\u001b[0m\u001b[0m\n\u001b[0;32m   2461\u001b[0m \u001b[1;31m## three dummy methods to be implemented by child class:\u001b[0m\u001b[1;33m\u001b[0m\u001b[1;33m\u001b[0m\u001b[1;33m\u001b[0m\u001b[0m\n",
      "\u001b[1;32mc:\\users\\user\\appdata\\local\\programs\\python\\python38-32\\lib\\turtle.py\u001b[0m in \u001b[0;36m_update\u001b[1;34m(self)\u001b[0m\n\u001b[0;32m   2658\u001b[0m             \u001b[1;32mreturn\u001b[0m\u001b[1;33m\u001b[0m\u001b[1;33m\u001b[0m\u001b[0m\n\u001b[0;32m   2659\u001b[0m         \u001b[1;32melif\u001b[0m \u001b[0mscreen\u001b[0m\u001b[1;33m.\u001b[0m\u001b[0m_tracing\u001b[0m \u001b[1;33m==\u001b[0m \u001b[1;36m1\u001b[0m\u001b[1;33m:\u001b[0m\u001b[1;33m\u001b[0m\u001b[1;33m\u001b[0m\u001b[0m\n\u001b[1;32m-> 2660\u001b[1;33m             \u001b[0mself\u001b[0m\u001b[1;33m.\u001b[0m\u001b[0m_update_data\u001b[0m\u001b[1;33m(\u001b[0m\u001b[1;33m)\u001b[0m\u001b[1;33m\u001b[0m\u001b[1;33m\u001b[0m\u001b[0m\n\u001b[0m\u001b[0;32m   2661\u001b[0m             \u001b[0mself\u001b[0m\u001b[1;33m.\u001b[0m\u001b[0m_drawturtle\u001b[0m\u001b[1;33m(\u001b[0m\u001b[1;33m)\u001b[0m\u001b[1;33m\u001b[0m\u001b[1;33m\u001b[0m\u001b[0m\n\u001b[0;32m   2662\u001b[0m             \u001b[0mscreen\u001b[0m\u001b[1;33m.\u001b[0m\u001b[0m_update\u001b[0m\u001b[1;33m(\u001b[0m\u001b[1;33m)\u001b[0m                  \u001b[1;31m# TurtleScreenBase\u001b[0m\u001b[1;33m\u001b[0m\u001b[1;33m\u001b[0m\u001b[0m\n",
      "\u001b[1;32mc:\\users\\user\\appdata\\local\\programs\\python\\python38-32\\lib\\turtle.py\u001b[0m in \u001b[0;36m_update_data\u001b[1;34m(self)\u001b[0m\n\u001b[0;32m   2644\u001b[0m \u001b[1;33m\u001b[0m\u001b[0m\n\u001b[0;32m   2645\u001b[0m     \u001b[1;32mdef\u001b[0m \u001b[0m_update_data\u001b[0m\u001b[1;33m(\u001b[0m\u001b[0mself\u001b[0m\u001b[1;33m)\u001b[0m\u001b[1;33m:\u001b[0m\u001b[1;33m\u001b[0m\u001b[1;33m\u001b[0m\u001b[0m\n\u001b[1;32m-> 2646\u001b[1;33m         \u001b[0mself\u001b[0m\u001b[1;33m.\u001b[0m\u001b[0mscreen\u001b[0m\u001b[1;33m.\u001b[0m\u001b[0m_incrementudc\u001b[0m\u001b[1;33m(\u001b[0m\u001b[1;33m)\u001b[0m\u001b[1;33m\u001b[0m\u001b[1;33m\u001b[0m\u001b[0m\n\u001b[0m\u001b[0;32m   2647\u001b[0m         \u001b[1;32mif\u001b[0m \u001b[0mself\u001b[0m\u001b[1;33m.\u001b[0m\u001b[0mscreen\u001b[0m\u001b[1;33m.\u001b[0m\u001b[0m_updatecounter\u001b[0m \u001b[1;33m!=\u001b[0m \u001b[1;36m0\u001b[0m\u001b[1;33m:\u001b[0m\u001b[1;33m\u001b[0m\u001b[1;33m\u001b[0m\u001b[0m\n\u001b[0;32m   2648\u001b[0m             \u001b[1;32mreturn\u001b[0m\u001b[1;33m\u001b[0m\u001b[1;33m\u001b[0m\u001b[0m\n",
      "\u001b[1;32mc:\\users\\user\\appdata\\local\\programs\\python\\python38-32\\lib\\turtle.py\u001b[0m in \u001b[0;36m_incrementudc\u001b[1;34m(self)\u001b[0m\n\u001b[0;32m   1290\u001b[0m         \u001b[1;32mif\u001b[0m \u001b[1;32mnot\u001b[0m \u001b[0mTurtleScreen\u001b[0m\u001b[1;33m.\u001b[0m\u001b[0m_RUNNING\u001b[0m\u001b[1;33m:\u001b[0m\u001b[1;33m\u001b[0m\u001b[1;33m\u001b[0m\u001b[0m\n\u001b[0;32m   1291\u001b[0m             \u001b[0mTurtleScreen\u001b[0m\u001b[1;33m.\u001b[0m\u001b[0m_RUNNING\u001b[0m \u001b[1;33m=\u001b[0m \u001b[1;32mTrue\u001b[0m\u001b[1;33m\u001b[0m\u001b[1;33m\u001b[0m\u001b[0m\n\u001b[1;32m-> 1292\u001b[1;33m             \u001b[1;32mraise\u001b[0m \u001b[0mTerminator\u001b[0m\u001b[1;33m\u001b[0m\u001b[1;33m\u001b[0m\u001b[0m\n\u001b[0m\u001b[0;32m   1293\u001b[0m         \u001b[1;32mif\u001b[0m \u001b[0mself\u001b[0m\u001b[1;33m.\u001b[0m\u001b[0m_tracing\u001b[0m \u001b[1;33m>\u001b[0m \u001b[1;36m0\u001b[0m\u001b[1;33m:\u001b[0m\u001b[1;33m\u001b[0m\u001b[1;33m\u001b[0m\u001b[0m\n\u001b[0;32m   1294\u001b[0m             \u001b[0mself\u001b[0m\u001b[1;33m.\u001b[0m\u001b[0m_updatecounter\u001b[0m \u001b[1;33m+=\u001b[0m \u001b[1;36m1\u001b[0m\u001b[1;33m\u001b[0m\u001b[1;33m\u001b[0m\u001b[0m\n",
      "\u001b[1;31mTerminator\u001b[0m: "
     ]
    }
   ],
   "source": [
    "#객체 따로 지정해서 turtle 실행.\n",
    "\n",
    "from turtle import*\n",
    "\n",
    "t1= Turtle()\n",
    "t1.shape('circle')\n",
    "\n",
    "t2= Turtle()\n",
    "t2.shape('turtle')\n",
    "\n",
    "t3= Turtle()\n",
    "t3.shape('square')\n",
    "\n",
    "t1.penup()         #pen을 든다.\n",
    "t2.penup()\n",
    "t1.goto(0,100)     #pen을 옮긴다.\n",
    "t2.goto(0,50)\n",
    "t1.pendown()       #pen을 내린다.\n",
    "t2.pendown()\n",
    "\n",
    "while True:\n",
    "    t1.circle(100)\n",
    "    t2.circle(150)\n",
    "    t3.circle(200)"
   ]
  }
 ],
 "metadata": {
  "kernelspec": {
   "display_name": "Python 3",
   "language": "python",
   "name": "python3"
  },
  "language_info": {
   "codemirror_mode": {
    "name": "ipython",
    "version": 3
   },
   "file_extension": ".py",
   "mimetype": "text/x-python",
   "name": "python",
   "nbconvert_exporter": "python",
   "pygments_lexer": "ipython3",
   "version": "3.8.2"
  }
 },
 "nbformat": 4,
 "nbformat_minor": 4
}
