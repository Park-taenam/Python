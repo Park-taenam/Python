{
 "cells": [
  {
   "cell_type": "markdown",
   "metadata": {},
   "source": [
    "파일 열기. 데이터 읽기. 파일 닫기\n",
    "\n",
    "파일 모드\n",
    "r : 읽기 모드(read mode) : 파일의 처음부터 읽는다\n",
    "w : 쓰기 모드(write mode) : 파일의 처음부터 쓴다. 파일이 없으면 생성되고 만약 파일이 존재하면 기존의 내용은 지워진다.\n",
    "a : 추가 모드(append mode) : 파일의 끝에 쓴다. 파일이 없으면 생성된다.\n",
    "\n",
    "딕셔너리와 같은 객체 파일 저장 : pickle 모듈 사용."
   ]
  },
  {
   "cell_type": "code",
   "execution_count": 2,
   "metadata": {},
   "outputs": [
    {
     "name": "stdout",
     "output_type": "stream",
     "text": [
      "['홍길동 010-1234-5678\\n', '김철수 010-1234-5678\\n', '김영희 010-1234-5678']\n",
      "홍길동 010-1234-5678\n",
      "김철수 010-1234-5678\n",
      "김영희 010-1234-5678\n"
     ]
    }
   ],
   "source": [
    "#파일 불러와서 읽기.\n",
    "#한 번에 실행.\n",
    "infile = open(\"D:\\\\phones.txt\",\"r\",encoding='UTF8')  #한글로 쓰여진 파일 오류 해결.\n",
    "lines = infile.readlines()\n",
    "print(lines)\n",
    "infile.close()\n",
    "\n",
    "#한줄씩 실행\n",
    "infile = open(\"D:\\\\phones.txt\",\"rt\",encoding='UTF8')  #한글로 쓰여진 파일 오류 해결.\n",
    "for line in infile:\n",
    "    line = line.rstrip()   #파일에서 읽을 때 줄의 맨 끝에 있는 줄 바꿈 기호를 삭제하고 읽는 메소드\n",
    "    print(line)\n",
    "infile.close()"
   ]
  },
  {
   "cell_type": "code",
   "execution_count": 12,
   "metadata": {},
   "outputs": [
    {
     "name": "stdout",
     "output_type": "stream",
     "text": [
      "동해물과\n",
      "백두산이\n",
      "마르고\n",
      "닳도록\n"
     ]
    }
   ],
   "source": [
    "#파일에 데이터 쓰기\n",
    "outfile = open(\"D:\\\\phones1.txt\",\"w\")\n",
    "outfile.write(\"홍길동 010-1234-1234\\n\")\n",
    "outfile.write(\"김철수 010-1234-1234\\n\")\n",
    "outfile.write(\"김영희 010-1234-1234\\n\")\n",
    "outfile.close()\n",
    "\n",
    "#파일에 데이터 추가하기\n",
    "outfile = open(\"D:\\\\phones1.txt\",\"a\")\n",
    "outfile.write(\"강감찬 010-1234-1234\\n\")\n",
    "outfile.write(\"김유신 010-1234-1234\\n\")\n",
    "outfile.write(\"정약용 010-1234-1234\\n\")\n",
    "outfile.close()\n",
    "\n",
    "#파일에서 단어 읽기\n",
    "infile = open(\"D:\\\\split.txt\",\"rt\",encoding='UTF8')\n",
    "for line in infile:\n",
    "    line = line.rstrip()\n",
    "    word_list = line.split()\n",
    "    for word in word_list:\n",
    "        print(word);\n",
    "infile.close()"
   ]
  },
  {
   "cell_type": "code",
   "execution_count": 2,
   "metadata": {},
   "outputs": [],
   "source": [
    "#딕셔너리와 같은 객체 파일 저장\n",
    "import pickle \n",
    "gameOption = {\n",
    "                \"Sound\" : 8,\n",
    "                \"VideoQuality\" : \"HIGH\",\n",
    "                \"Money\" : 100000,\n",
    "                \"WeaponList\" : [\"gun\", \"missile\",\"knife\"]\n",
    "}\n",
    "#이진 파일 오픈\n",
    "file = open(\"D:\\\\save.p\",\"wb\")    #파일의 자료형을 그대로 사용하기 위해 바이트형식으로 읽거나 씀.\n",
    "#딕셔너리를 피클 파일에 저장\n",
    "pickle.dump(gameOption, file)\n",
    "#파일을 닫는다.\n",
    "file.close()"
   ]
  },
  {
   "cell_type": "code",
   "execution_count": 3,
   "metadata": {},
   "outputs": [
    {
     "name": "stdout",
     "output_type": "stream",
     "text": [
      "{'Sound': 8, 'VideoQuality': 'HIGH', 'Money': 100000, 'WeaponList': ['gun', 'missile', 'knife']}\n"
     ]
    }
   ],
   "source": [
    "#이진 파일에 저장된 딕셔너리 읽기\n",
    "import pickle\n",
    "\n",
    "file = open(\"D:\\\\save.p\",\"rb\")\n",
    "obj = pickle.load(file)\n",
    "print(obj)"
   ]
  },
  {
   "cell_type": "code",
   "execution_count": 1,
   "metadata": {},
   "outputs": [
    {
     "name": "stdout",
     "output_type": "stream",
     "text": [
      "동해물과 백두산이 마르고 닳도록\n"
     ]
    }
   ],
   "source": [
    "#tkinter의 파일 열기 대화 상자 이용하여 파일 찾기.\n",
    "from tkinter import*\n",
    "from tkinter.filedialog import askopenfilename\n",
    "from tkinter.filedialog import asksaveasfilename\n",
    "\n",
    "readFile = askopenfilename()\n",
    "if( readFile != None):\n",
    "    infile = open(readFile, \"r\",encoding='UTF8')\n",
    "    \n",
    "for line in infile.readlines():\n",
    "    line = line.strip()\n",
    "    print(line)\n",
    "    \n",
    "infile.close()"
   ]
  },
  {
   "cell_type": "code",
   "execution_count": 1,
   "metadata": {},
   "outputs": [
    {
     "ename": "SyntaxError",
     "evalue": "invalid syntax (<ipython-input-1-5e99e76c26ea>, line 20)",
     "output_type": "error",
     "traceback": [
      "\u001b[1;36m  File \u001b[1;32m\"<ipython-input-1-5e99e76c26ea>\"\u001b[1;36m, line \u001b[1;32m20\u001b[0m\n\u001b[1;33m    if messagebox.askokcancel(\"Quit\", \"종료하시겠습니까?\")\u001b[0m\n\u001b[1;37m                                                  ^\u001b[0m\n\u001b[1;31mSyntaxError\u001b[0m\u001b[1;31m:\u001b[0m invalid syntax\n"
     ]
    }
   ],
   "source": [
    "#메모장\n",
    "\n",
    "from tkinter import*\n",
    "\n",
    "def open():\n",
    "    file = filedialog.askopenfile(parent=window, mode='r',encoding='UTF8')\n",
    "    if file != None:\n",
    "        lines = file.read()\n",
    "        text.insert('1.0',lines)\n",
    "        file.close()\n",
    "        \n",
    "def save():\n",
    "    file = filedialog.askopenfile(parent=window, mode='w',encoding='UTF8')\n",
    "    if file != None:\n",
    "        lines = text.get('1.0',END+'-1c')\n",
    "        file.write(lines)\n",
    "        file.close()\n",
    "        \n",
    "def exit():\n",
    "    if messagebox.askokcancel(\"Quit\", \"종료하시겠습니까?\")\n",
    "    window.destory()\n",
    "    \n",
    "def about():\n",
    "    label = messagebox.showinfo(\"About\", \"메모장 프로그램\")\n",
    "    \n",
    "window = Tk()\n",
    "text = Text(window, height=30, width=80)\n",
    "text.pack()\n",
    "\n",
    "menu = Menu(window)\n",
    "window.config(menu=menu)\n",
    "filemenu = Menu(menu)\n",
    "menu.add_cascade(label=\"파일\", menu=filemenu)\n",
    "filemenu.add_command(label='열기',command=open)\n",
    "filemenu.add_command(label='저장하기',command=save)\n",
    "filemenu.add_command(label='종료',command=exit)\n",
    "helpmenu = Menu(menu)\n",
    "menu.add_cascade(label=\"도움말\", menu=helpmenu)\n",
    "helpmenu.add_command(label=\"프로그램정보\", command=about)\n",
    "\n",
    "window.mainloop()"
   ]
  }
 ],
 "metadata": {
  "kernelspec": {
   "display_name": "Python 3",
   "language": "python",
   "name": "python3"
  },
  "language_info": {
   "codemirror_mode": {
    "name": "ipython",
    "version": 3
   },
   "file_extension": ".py",
   "mimetype": "text/x-python",
   "name": "python",
   "nbconvert_exporter": "python",
   "pygments_lexer": "ipython3",
   "version": "3.8.2"
  }
 },
 "nbformat": 4,
 "nbformat_minor": 4
}
