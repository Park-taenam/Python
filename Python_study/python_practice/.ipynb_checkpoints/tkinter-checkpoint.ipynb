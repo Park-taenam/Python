{
 "cells": [
  {
   "cell_type": "markdown",
   "metadata": {},
   "source": [
    "tkinter\n",
    "\n",
    "파이썬이 제공하는 위젯 - 단순 위젯 / 컨테이너 위젯\n",
    "\n",
    "단순위젯 : Button, Canvas, Checkbutton, Entry, Label, Message\n",
    "\n",
    "컨테이너 위젯 : 다른 컴포넌트를 안에 포함할 수 있는 컴포넌트\n",
    "                Frame, Toplevel, LabelFrame, PanedWindow\n",
    "                "
   ]
  },
  {
   "cell_type": "markdown",
   "metadata": {},
   "source": [
    "--------------------------------------------------------------------------------------------------------------------------------------\n",
    "Button, Label, Entry\n",
    "\n",
    "이벤트 처리(함수), 색상, 위치 변경"
   ]
  },
  {
   "cell_type": "code",
   "execution_count": 6,
   "metadata": {},
   "outputs": [],
   "source": [
    "from tkinter import *\n",
    "\n",
    "window = Tk()\n",
    "button = Button(window, text=\"클릭하세요!\")\n",
    "button.pack()\n",
    "\n",
    "window.mainloop()"
   ]
  },
  {
   "cell_type": "code",
   "execution_count": 11,
   "metadata": {},
   "outputs": [],
   "source": [
    "from tkinter import*     #tkinter 모듈에 있는 모든 함수를 포함시키라는 의미.\n",
    "\n",
    "window = Tk()\n",
    "\n",
    "l1=Label(window, text=\"화씨\")             #텍스트 표시\n",
    "l2=Label(window, text=\"섭씨\")\n",
    "l1.pack()\n",
    "l2.pack()\n",
    "\n",
    "e1=Entry(window)                          #사용자로부터 입력을 받기위함.\n",
    "e2=Entry(window)\n",
    "e1.pack()\n",
    "e2.pack()\n",
    "\n",
    "b1 = Button(window,text='화씨->섭씨')     #버튼\n",
    "b2 = Button(window,text='섭씨->화씨')\n",
    "b1.pack()\n",
    "b2.pack()                                 #화면에 표시.\n",
    "\n",
    "l2['text'] = '새로운 텍스트'              #실행중에 바꾸고 싶을때.\n",
    "\n",
    "window.mainloop()"
   ]
  },
  {
   "cell_type": "code",
   "execution_count": 14,
   "metadata": {},
   "outputs": [],
   "source": [
    "#배치 변경\n",
    "\n",
    "from tkinter import*\n",
    "\n",
    "window = Tk()\n",
    "\n",
    "l1=Label(window, text=\"화씨\")             #텍스트 표시\n",
    "l2=Label(window, text=\"섭씨\")\n",
    "l1.grid(row=0, column=0)\n",
    "l2.grid(row=1, column=0)\n",
    "\n",
    "e1=Entry(window)                          #사용자로부터 입력을 받기위함.\n",
    "e2=Entry(window)\n",
    "e1.grid(row=0, column=1)\n",
    "e2.grid(row=1, column=1)\n",
    "\n",
    "b1 = Button(window,text='화씨->섭씨')     #버튼\n",
    "b2 = Button(window,text='섭씨->화씨')\n",
    "b1.grid(row=2, column=0)\n",
    "b2.grid(row=2, column=1)                  #화면에 표시.\n",
    "\n",
    "\n",
    "window.mainloop()"
   ]
  },
  {
   "cell_type": "code",
   "execution_count": 15,
   "metadata": {},
   "outputs": [
    {
     "name": "stdout",
     "output_type": "stream",
     "text": [
      "안녕하세요?\n",
      "안녕하세요?\n",
      "안녕하세요?\n",
      "안녕하세요?\n",
      "안녕하세요?\n",
      "안녕하세요?\n",
      "안녕하세요?\n",
      "안녕하세요?\n",
      "안녕하세요?\n"
     ]
    }
   ],
   "source": [
    "#버튼 이벤트 처리하기.\n",
    "\n",
    "from tkinter import*\n",
    "\n",
    "def process():\n",
    "    print(\"안녕하세요?\")\n",
    "    \n",
    "window = Tk()\n",
    "button = Button(window,text=\"클릭하세요!\", command=process)\n",
    "button.pack()\n",
    "\n",
    "window.mainloop()"
   ]
  },
  {
   "cell_type": "code",
   "execution_count": 25,
   "metadata": {},
   "outputs": [],
   "source": [
    "#버튼 이벤트 처리하기\n",
    "\n",
    "from tkinter import*\n",
    "\n",
    "def process():\n",
    "    e2.insert(\"100\",\"100\")        #뒤에 문자가 입력됌. (위치,입력값) 느낌.\n",
    "\n",
    "window = Tk()\n",
    "\n",
    "l1=Label(window, text=\"화씨\")         \n",
    "l2=Label(window, text=\"섭씨\")\n",
    "l1.grid(row=0, column=0)\n",
    "l2.grid(row=1, column=0)\n",
    "\n",
    "e1=Entry(window)                          \n",
    "e2=Entry(window)\n",
    "e1.grid(row=0, column=1)\n",
    "e2.grid(row=1, column=1)\n",
    "\n",
    "b1 = Button(window,text='화씨->섭씨', command=process)  \n",
    "b2 = Button(window,text='섭씨->화씨')\n",
    "b1.grid(row=2, column=0)\n",
    "b2.grid(row=2, column=1)                \n",
    "\n",
    "window.mainloop()"
   ]
  },
  {
   "cell_type": "code",
   "execution_count": 18,
   "metadata": {},
   "outputs": [],
   "source": [
    "#버튼 이벤트 처리하기\n",
    "\n",
    "from tkinter import*\n",
    "\n",
    "def process():\n",
    "    temperature = float(e1.get())\n",
    "    mytemp=(temperature-32)*5/9\n",
    "    e2.insert(0,str(mytemp))\n",
    "\n",
    "window = Tk()\n",
    "\n",
    "l1=Label(window, text=\"화씨\")         \n",
    "l2=Label(window, text=\"섭씨\")\n",
    "l1.grid(row=0, column=0)\n",
    "l2.grid(row=1, column=0)\n",
    "\n",
    "e1=Entry(window)                          \n",
    "e2=Entry(window)\n",
    "e1.grid(row=0, column=1)\n",
    "e2.grid(row=1, column=1)\n",
    "\n",
    "b1 = Button(window,text='화씨->섭씨', command=process)  \n",
    "b2 = Button(window,text='섭씨->화씨')\n",
    "b1.grid(row=2, column=0)\n",
    "b2.grid(row=2, column=1)                \n",
    "\n",
    "window.mainloop()"
   ]
  },
  {
   "cell_type": "code",
   "execution_count": 26,
   "metadata": {},
   "outputs": [],
   "source": [
    "from tkinter import*\n",
    "\n",
    "window = Tk()\n",
    "\n",
    "button = Button(window, text=\"버튼을 클릭하세요\")\n",
    "button[\"fg\"] = \"yellow\"  #전경(글씨색)\n",
    "button[\"bg\"] = \"green\"   #배경\n",
    "\n",
    "button.pack()\n",
    "\n",
    "window.mainloop()"
   ]
  },
  {
   "cell_type": "code",
   "execution_count": 28,
   "metadata": {},
   "outputs": [],
   "source": [
    "#위젯의 색상과 폰트 변경하기.\n",
    "\n",
    "from tkinter import*\n",
    "\n",
    "def process():\n",
    "    temperature = float(e1.get())\n",
    "    mytemp=(temperature-32)*5/9\n",
    "    e2.insert(0,str(mytemp))\n",
    "\n",
    "window = Tk()\n",
    "\n",
    "l1=Label(window, text=\"화씨\",font='helvetica 16 italic')         \n",
    "l2=Label(window, text=\"섭씨\",font='helvetica 16 italic')\n",
    "l1.grid(row=0, column=0)\n",
    "l2.grid(row=1, column=0)\n",
    "\n",
    "e1=Entry(window, bg=\"yellow\", fg='black')                         \n",
    "e2=Entry(window, bg='yellow', fg='black')\n",
    "e1.grid(row=0, column=1)\n",
    "e2.grid(row=1, column=1)\n",
    "\n",
    "b1 = Button(window,text='화씨->섭씨', command=process)  \n",
    "b2 = Button(window,text='섭씨->화씨')\n",
    "b1.grid(row=2, column=0)\n",
    "b2.grid(row=2, column=1)                \n",
    "\n",
    "window.mainloop()"
   ]
  }
 ],
 "metadata": {
  "kernelspec": {
   "display_name": "Python 3",
   "language": "python",
   "name": "python3"
  },
  "language_info": {
   "codemirror_mode": {
    "name": "ipython",
    "version": 3
   },
   "file_extension": ".py",
   "mimetype": "text/x-python",
   "name": "python",
   "nbconvert_exporter": "python",
   "pygments_lexer": "ipython3",
   "version": "3.8.2"
  }
 },
 "nbformat": 4,
 "nbformat_minor": 4
}
