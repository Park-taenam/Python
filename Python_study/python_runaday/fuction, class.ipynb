{
 "cells": [
  {
   "cell_type": "code",
   "execution_count": 22,
   "metadata": {},
   "outputs": [
    {
     "name": "stdout",
     "output_type": "stream",
     "text": [
      "지금 도착하신 정류장은 역삼역입니다.\n",
      "지금 도착하신 정류장은 강남역입니다.\n",
      "3\n",
      "8.1\n",
      "10\n",
      "10\n"
     ]
    }
   ],
   "source": [
    "def subway(a):\n",
    "    print(\"지금 도착하신 정류장은 \" +a + \"입니다.\")\n",
    "\n",
    "subway(\"역삼역\")\n",
    "subway(\"강남역\")\n",
    "\n",
    "def total(a,b):\n",
    "    c = a+b\n",
    "    return c\n",
    "\n",
    "print(total(1,2))\n",
    "print(total(4.2,3.9))\n",
    "      \n",
    "a = 1\n",
    "def jijun():\n",
    "    global a\n",
    "    a=10\n",
    "    return(a)\n",
    "      \n",
    "print(jijun())\n",
    "print(a)"
   ]
  },
  {
   "cell_type": "code",
   "execution_count": 27,
   "metadata": {},
   "outputs": [
    {
     "name": "stdout",
     "output_type": "stream",
     "text": [
      "(2, 1)\n",
      "(3, 0)\n"
     ]
    }
   ],
   "source": [
    "def div(a,b):\n",
    "    c=a//b\n",
    "    d=a%b\n",
    "    return c,d\n",
    "\n",
    "re1 = div(7,3)\n",
    "print(re1)\n",
    "re2 = div(9,3)\n",
    "print(re2)"
   ]
  },
  {
   "cell_type": "code",
   "execution_count": 30,
   "metadata": {},
   "outputs": [
    {
     "name": "stdout",
     "output_type": "stream",
     "text": [
      "한글 타자 연습입니다. 다음에 제시된 단어를 입력하세요.\n",
      "파이썬 : 파이썬\n",
      "정답입니다.\n"
     ]
    },
    {
     "data": {
      "text/plain": [
       "55"
      ]
     },
     "execution_count": 30,
     "metadata": {},
     "output_type": "execute_result"
    }
   ],
   "source": [
    "##재귀함수\n",
    "\n",
    "def 한타(word):\n",
    "    a = input(word + \" : \")\n",
    "    if a == word :\n",
    "        print(\"정답입니다.\")\n",
    "    else:\n",
    "        print(\"다시 입력하세요. \")\n",
    "        한타(word)\n",
    "        \n",
    "print(\"한글 타자 연습입니다. 다음에 제시된 단어를 입력하세요.\")\n",
    "한타(\"파이썬\")\n",
    "\n",
    "def total(num):\n",
    "    if num == 1:\n",
    "        return 1\n",
    "    else:\n",
    "        return num + total(num-1)\n",
    "    \n",
    "total(10)"
   ]
  },
  {
   "cell_type": "code",
   "execution_count": 32,
   "metadata": {},
   "outputs": [
    {
     "name": "stdout",
     "output_type": "stream",
     "text": [
      "['1은 홀수', '2은 짝수', '3은 홀수', '4은 짝수', '5은 홀수', '6은 짝수', '7은 홀수', '8은 짝수', '9은 홀수', '10은 짝수']\n",
      "3\n"
     ]
    }
   ],
   "source": [
    "##map 함수\n",
    "\n",
    "def 홀짝(a):\n",
    "    if a % 2 == 0:\n",
    "        return (str(a) + \"은 짝수\")\n",
    "    else:\n",
    "        return(str(a) + \"은 홀수\")\n",
    "    \n",
    "list1 = [1,2,3,4,5,6,7,8,9,10]\n",
    "list2 = list(map(홀짝, list1))\n",
    "print(list2)\n",
    "\n",
    "##lambda\n",
    "plus = lambda a,b : a+b\n",
    "a = plus(1,2)\n",
    "print(a)"
   ]
  },
  {
   "cell_type": "code",
   "execution_count": 34,
   "metadata": {},
   "outputs": [
    {
     "name": "stdout",
     "output_type": "stream",
     "text": [
      "[1, 2, '짝', 4, 5, '짝', 7, 8, '짝', 10, 11, '짝', 13, 14, '짝', 16, 17, '짝', 19, 20]\n",
      "[1, 2, '짝', 4, 5, '짝', 7, 8, '짝', 10, 11, 12, '짝', 14, 15, '짝', 17, 18, '짝', 20]\n"
     ]
    }
   ],
   "source": [
    "a = [1,2,3,4,5,6,7,8,9,10,11,12,13,14,15,16,17,18,19,20]\n",
    "b= list(map(lambda x : \"짝\" if x % 3 == 0 else x,a))\n",
    "print(b)\n",
    "\n",
    "b= list(map(lambda x : \"짝\" if ('3' in str(x)) or ('6' in str(x)) or ('9' in str(x)) else x,a))\n",
    "print(b)"
   ]
  },
  {
   "cell_type": "code",
   "execution_count": 6,
   "metadata": {},
   "outputs": [
    {
     "name": "stdout",
     "output_type": "stream",
     "text": [
      "brown\n",
      "85\n",
      "95\n",
      "0\n",
      "체력이 없습니다\n",
      "0\n"
     ]
    }
   ],
   "source": [
    "##class\n",
    "\n",
    "class Pet:\n",
    "    def __init__(self, color, kind, character):\n",
    "        self.color = color\n",
    "        self.kind = kind\n",
    "        self.character = character\n",
    "        self.strength = 100\n",
    "    \n",
    "    def walk(self, do):\n",
    "        self.strength = self.strength - do\n",
    "    \n",
    "    def eat(self, do):\n",
    "        self.strength = self.strength + do\n",
    "        \n",
    "    def sleep(self, do):\n",
    "        self.strength = self.strength + do\n",
    "\n",
    "poodle = Pet(\"brown\", \"dog\", \"active\")\n",
    "\n",
    "print(poodle.color)\n",
    "poodle.walk(15)\n",
    "print(poodle.strength)\n",
    "poodle.eat(10)\n",
    "print(poodle.strength)\n",
    "\n",
    "##상속(inheritence)\n",
    "##매서드 오버라이딩\n",
    "\n",
    "class Animal(Pet):\n",
    "    def walk(self, do):\n",
    "        if self.strength<=0:\n",
    "            print(\"체력이 없습니다\")\n",
    "        else:\n",
    "            self.strength = self.strength - do\n",
    "            \n",
    "simba = Animal(\"yellow\", \"tiger\", \"active\")\n",
    "simba.walk(100)\n",
    "print(simba.strength)\n",
    "simba.walk(100)\n",
    "print(simba.strength)\n"
   ]
  },
  {
   "cell_type": "code",
   "execution_count": 17,
   "metadata": {},
   "outputs": [
    {
     "name": "stdout",
     "output_type": "stream",
     "text": [
      "김\n",
      "김\n",
      "김\n",
      "8522544\n",
      "8522544\n"
     ]
    }
   ],
   "source": [
    "class Family:\n",
    "    lastname = \"김\"\n",
    "\n",
    "print(Family.lastname)\n",
    "\n",
    "a = Family()\n",
    "b = Family()\n",
    "\n",
    "print(a.lastname)\n",
    "print(b.lastname)\n",
    "\n",
    "print(id(a.lastname))     #주소 자체가 같음.\n",
    "print(id(b.lastname))     #클래스 변수가 공유."
   ]
  },
  {
   "cell_type": "code",
   "execution_count": 16,
   "metadata": {},
   "outputs": [
    {
     "name": "stdout",
     "output_type": "stream",
     "text": [
      "48\n",
      "0.75\n",
      "6\n",
      "7\n"
     ]
    }
   ],
   "source": [
    "##클래스 사칙연산 계산기\n",
    "\n",
    "class Calcul:\n",
    "    def __init__(self, first, second):\n",
    "        self.first = first\n",
    "        self.second = second\n",
    "    \n",
    "    def hap(self):\n",
    "        result = self.first + self.second\n",
    "        return result\n",
    "    \n",
    "    def cha(self):\n",
    "        result = self.first - self.second\n",
    "        return result\n",
    "    \n",
    "    def gob(self):\n",
    "        result = self.first * self.second\n",
    "        return result\n",
    "    \n",
    "    def nanu(self):\n",
    "        result = self.first / self.second\n",
    "        return result\n",
    "    \n",
    "cal1 = Calcul(6,8)\n",
    "print(cal1.gob())\n",
    "print(cal1.nanu())\n",
    "print(cal1.first)\n",
    "\n",
    "cal2 = Calcul(5,2)\n",
    "print(cal2.hap())"
   ]
  }
 ],
 "metadata": {
  "kernelspec": {
   "display_name": "Python 3",
   "language": "python",
   "name": "python3"
  },
  "language_info": {
   "codemirror_mode": {
    "name": "ipython",
    "version": 3
   },
   "file_extension": ".py",
   "mimetype": "text/x-python",
   "name": "python",
   "nbconvert_exporter": "python",
   "pygments_lexer": "ipython3",
   "version": "3.8.2"
  }
 },
 "nbformat": 4,
 "nbformat_minor": 4
}
