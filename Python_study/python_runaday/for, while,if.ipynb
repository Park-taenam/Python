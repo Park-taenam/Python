{
 "cells": [
  {
   "cell_type": "code",
   "execution_count": 3,
   "metadata": {},
   "outputs": [
    {
     "name": "stdout",
     "output_type": "stream",
     "text": [
      "탑승할 수 있습니다\n",
      "알고 싶은 단어는?사과\n",
      "사과는 영어로apple입니다\n"
     ]
    }
   ],
   "source": [
    "height = 130\n",
    "standard = 130\n",
    "\n",
    "if height == standard : \n",
    "    print(\"탑승할 수 있습니다\")\n",
    "    \n",
    "eng_dic={\"사과\":'apple','오렌지':'orange','딸기':'strawberry'}\n",
    "\n",
    "q = input(\"알고 싶은 단어는?\")\n",
    "\n",
    "if q in eng_dic:\n",
    "    print(q+\"는 영어로\" + eng_dic[q]+\"입니다\")\n",
    "else:\n",
    "    print(\"사전에 없는 단어입니다.\")"
   ]
  },
  {
   "cell_type": "code",
   "execution_count": 2,
   "metadata": {},
   "outputs": [
    {
     "name": "stdout",
     "output_type": "stream",
     "text": [
      "x좌표를 입력해주세요3\n",
      "y좌표를 입력해주세요-19\n",
      "(3,-19)는 4분면에 위치합니다.\n"
     ]
    }
   ],
   "source": [
    "x=int(input('x좌표를 입력해주세요'))\n",
    "y=int(input('y좌표를 입력해주세요'))\n",
    "\n",
    "if x>0 and y>0:\n",
    "    print('(%d,%d)는 1분면에 위치합니다.'%(x,y))\n",
    "elif x<0 and y>0:\n",
    "    print('(%d,%d)는 2분면에 위치합니다.'%(x,y))\n",
    "elif x<0 and y<0:\n",
    "    print('(%d,%d)는 3분면에 위치합니다.'%(x,y))\n",
    "else:\n",
    "    print('(%d,%d)는 4분면에 위치합니다.'%(x,y))\n"
   ]
  },
  {
   "cell_type": "code",
   "execution_count": 4,
   "metadata": {},
   "outputs": [
    {
     "name": "stdout",
     "output_type": "stream",
     "text": [
      "점수를 입력해주세요 :65\n",
      "점수는 65점 입니다.\n",
      "등급은 4등급입니다.\n"
     ]
    }
   ],
   "source": [
    "x=int(input(\"점수를 입력해주세요 :\"))\n",
    "\n",
    "if x>=90:\n",
    "    print(\"점수는 %d점 입니다.\"%x)\n",
    "    print(\"등급은 1등급입니다.\")\n",
    "    \n",
    "elif x>=80:\n",
    "    print(\"점수는 %d점 입니다.\"%x)\n",
    "    print(\"등급은 2등급입니다.\")\n",
    "\n",
    "elif x>=70:\n",
    "    print(\"점수는 %d점 입니다.\"%x)\n",
    "    print(\"등급은 3등급입니다.\")\n",
    "    \n",
    "elif x>=60:\n",
    "    print(\"점수는 %d점 입니다.\"%x)\n",
    "    print(\"등급은 4등급입니다.\")\n",
    "    \n",
    "else:\n",
    "    print(\"점수는 %d점 입니다.\"%x)\n",
    "    print(\"등급은 5등급입니다.\")"
   ]
  },
  {
   "cell_type": "code",
   "execution_count": 14,
   "metadata": {},
   "outputs": [
    {
     "name": "stdout",
     "output_type": "stream",
     "text": [
      "0번째 안녕?\n",
      "1번째 안녕?\n",
      "2번째 안녕?\n",
      "3번째 안녕?\n",
      "1부터 10까지의 합은 55입니다\n",
      "시작할 수를 입력해주세요 :5\n",
      "끝나는 수를 입력해주세요 :10\n",
      "답은 45입니다.\n"
     ]
    }
   ],
   "source": [
    "for i in range(0,4,1):\n",
    "    print(\"%d번째 안녕?\" %i)\n",
    "\n",
    "total=0\n",
    "for i in range (1,11):\n",
    "    total = total + i\n",
    "    \n",
    "print(\"1부터 10까지의 합은 %d입니다\"%total)\n",
    "\n",
    "a=int(input(\"시작할 수를 입력해주세요 :\"))\n",
    "b=int(input(\"끝나는 수를 입력해주세요 :\"))\n",
    "\n",
    "t=0\n",
    "for i in range(a,b+1):\n",
    "    t = t + i\n",
    "\n",
    "print(\"답은 %d입니다.\"%t)"
   ]
  },
  {
   "cell_type": "code",
   "execution_count": 18,
   "metadata": {},
   "outputs": [
    {
     "name": "stdout",
     "output_type": "stream",
     "text": [
      "apple\n",
      "banana\n",
      "melon\n",
      "peach\n",
      "2\n",
      "4\n",
      "6\n",
      "8\n",
      "2 X 1 = 2\n",
      "2 X 2 = 4\n",
      "2 X 3 = 6\n",
      "2 X 4 = 8\n",
      "2 X 5 = 10\n",
      "2 X 6 = 12\n",
      "2 X 7 = 14\n",
      "2 X 8 = 16\n",
      "2 X 9 = 18\n",
      "3 X 1 = 3\n",
      "3 X 2 = 6\n",
      "3 X 3 = 9\n",
      "3 X 4 = 12\n",
      "3 X 5 = 15\n",
      "3 X 6 = 18\n",
      "3 X 7 = 21\n",
      "3 X 8 = 24\n",
      "3 X 9 = 27\n",
      "4 X 1 = 4\n",
      "4 X 2 = 8\n",
      "4 X 3 = 12\n",
      "4 X 4 = 16\n",
      "4 X 5 = 20\n",
      "4 X 6 = 24\n",
      "4 X 7 = 28\n",
      "4 X 8 = 32\n",
      "4 X 9 = 36\n",
      "5 X 1 = 5\n",
      "5 X 2 = 10\n",
      "5 X 3 = 15\n",
      "5 X 4 = 20\n",
      "5 X 5 = 25\n",
      "5 X 6 = 30\n",
      "5 X 7 = 35\n",
      "5 X 8 = 40\n",
      "5 X 9 = 45\n",
      "6 X 1 = 6\n",
      "6 X 2 = 12\n",
      "6 X 3 = 18\n",
      "6 X 4 = 24\n",
      "6 X 5 = 30\n",
      "6 X 6 = 36\n",
      "6 X 7 = 42\n",
      "6 X 8 = 48\n",
      "6 X 9 = 54\n",
      "7 X 1 = 7\n",
      "7 X 2 = 14\n",
      "7 X 3 = 21\n",
      "7 X 4 = 28\n",
      "7 X 5 = 35\n",
      "7 X 6 = 42\n",
      "7 X 7 = 49\n",
      "7 X 8 = 56\n",
      "7 X 9 = 63\n",
      "8 X 1 = 8\n",
      "8 X 2 = 16\n",
      "8 X 3 = 24\n",
      "8 X 4 = 32\n",
      "8 X 5 = 40\n",
      "8 X 6 = 48\n",
      "8 X 7 = 56\n",
      "8 X 8 = 64\n",
      "8 X 9 = 72\n",
      "9 X 1 = 9\n",
      "9 X 2 = 18\n",
      "9 X 3 = 27\n",
      "9 X 4 = 36\n",
      "9 X 5 = 45\n",
      "9 X 6 = 54\n",
      "9 X 7 = 63\n",
      "9 X 8 = 72\n",
      "9 X 9 = 81\n"
     ]
    }
   ],
   "source": [
    "fruit = [\"apple\", \"banana\", \"melon\", \"peach\"]\n",
    "\n",
    "for i in fruit:\n",
    "    print(i)\n",
    "    \n",
    "number = [1,2,3,4,5,6,7,8]\n",
    "\n",
    "for j in number:\n",
    "    if j%2==0:\n",
    "        print(j)\n",
    "        \n",
    "for i in range(2,10):\n",
    "    for j in range (1,10):\n",
    "        print(\"%d X %d = %d\" %(i,j,i*j))"
   ]
  },
  {
   "cell_type": "code",
   "execution_count": 9,
   "metadata": {},
   "outputs": [
    {
     "name": "stdout",
     "output_type": "stream",
     "text": [
      "주사위를 던져서 나온 숫자를 맞혀주세요1\n",
      "틀렸습니다. 다시 맞혀주세요2\n",
      "틀렸습니다. 다시 맞혀주세요3\n",
      "틀렸습니다. 다시 맞혀주세요4\n",
      "정답입니다. 4번만에 맞히셨습니다.\n"
     ]
    }
   ],
   "source": [
    "import random\n",
    "\n",
    "a=int(input(\"주사위를 던져서 나온 숫자를 맞혀주세요\"))\n",
    "b=random.randint(1,6)\n",
    "c=1\n",
    "\n",
    "while a!=b:\n",
    "    a=int(input('틀렸습니다. 다시 맞혀주세요'))\n",
    "    c=c+1\n",
    "print('정답입니다. %d번만에 맞히셨습니다.'%c)"
   ]
  },
  {
   "cell_type": "code",
   "execution_count": 13,
   "metadata": {},
   "outputs": [
    {
     "name": "stdout",
     "output_type": "stream",
     "text": [
      "1\n",
      "2\n",
      "4\n",
      "5\n",
      "7\n",
      "8\n",
      "10\n",
      "1\n",
      "2\n"
     ]
    }
   ],
   "source": [
    "for i in range(1,11):\n",
    "    if i % 3 ==0:\n",
    "        continue\n",
    "    print(i)\n",
    "    \n",
    "for i in range(1,11):\n",
    "    if i % 3 ==0:\n",
    "        break\n",
    "    print(i)"
   ]
  },
  {
   "cell_type": "code",
   "execution_count": 14,
   "metadata": {},
   "outputs": [
    {
     "name": "stdout",
     "output_type": "stream",
     "text": [
      "숫자 맞히기 게임을 시작합니다.\n",
      "숫자를 입력하세요4\n",
      "제가 생각하는 수는 그보다 커요\n",
      "숫자를 입력하세요54\n",
      "제가 생각하는 수는 그보다 커요\n",
      "숫자를 입력하세요67\n",
      "제가 생각하는 수는 그보다 커요\n",
      "숫자를 입력하세요89\n",
      "제가 생각하는 수는 그보다 커요\n",
      "숫자를 입력하세요100\n",
      "제가 생각하는 수는 그보다 작아요\n",
      "숫자를 입력하세요93\n",
      "정답입니다. 제가 생각했던 수는 93입니다.\n",
      "6번안에 맞히셨습니다.\n"
     ]
    }
   ],
   "source": [
    "import random\n",
    "\n",
    "num = random.randint(1,100)\n",
    "\n",
    "count = 1\n",
    "\n",
    "print(\"숫자 맞히기 게임을 시작합니다.\")\n",
    "\n",
    "while True:\n",
    "    ans = int(input('숫자를 입력하세요'))\n",
    "    if ans<num:\n",
    "        print('제가 생각하는 수는 그보다 커요')\n",
    "        count = count + 1\n",
    "    elif ans>num:\n",
    "        print('제가 생각하는 수는 그보다 작아요')\n",
    "        count = count + 1\n",
    "    else:\n",
    "        print('정답입니다. 제가 생각했던 수는 %d입니다.'%num)\n",
    "        break\n",
    "        \n",
    "print(\"%d번안에 맞히셨습니다.\"%count)"
   ]
  }
 ],
 "metadata": {
  "kernelspec": {
   "display_name": "Python 3",
   "language": "python",
   "name": "python3"
  },
  "language_info": {
   "codemirror_mode": {
    "name": "ipython",
    "version": 3
   },
   "file_extension": ".py",
   "mimetype": "text/x-python",
   "name": "python",
   "nbconvert_exporter": "python",
   "pygments_lexer": "ipython3",
   "version": "3.8.2"
  }
 },
 "nbformat": 4,
 "nbformat_minor": 4
}
