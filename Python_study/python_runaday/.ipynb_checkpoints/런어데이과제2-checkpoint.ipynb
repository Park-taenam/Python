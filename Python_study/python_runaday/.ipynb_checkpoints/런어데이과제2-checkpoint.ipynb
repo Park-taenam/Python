{
 "cells": [
  {
   "cell_type": "code",
   "execution_count": null,
   "metadata": {},
   "outputs": [],
   "source": [
    "###과제1\n",
    "\n",
    "import random\n",
    "\n",
    "print(\"부루마블 게임\")\n",
    "print(\"\")\n",
    "\n",
    "count = -1\n",
    "count1 = 0\n",
    "num = 0\n",
    "\n",
    "for i in range(1,3):\n",
    "    print(\"엔터키를 누르면 주사위를 던집니다.\")\n",
    "    print(\"\")\n",
    "    a=random.randint(1,6)\n",
    "    b=random.randint(1,6)\n",
    "    count = count + 2\n",
    "    count1 = count1 + 2\n",
    "    if a==b:\n",
    "        print(\"%d 번째 주사위 : %d\"%(count, a))\n",
    "        print(\"%d 번째 주사위 : %d\"%(count1, b))\n",
    "        num = num+a+b\n",
    "        print(\"\")\n",
    "        print(\"같은 수가 나왔습니다.\")\n",
    "    else:\n",
    "        print(\"%d 번째 주사위 : %d\"%(count, a))\n",
    "        print(\"%d 번째 주사위 : %d\"%(count1, b))\n",
    "        num = num+a+b\n",
    "        break\n",
    "print(\"\")\n",
    "print(\"%d칸 이동하세요!!\" %num)"
   ]
  },
  {
   "cell_type": "code",
   "execution_count": 6,
   "metadata": {},
   "outputs": [
    {
     "name": "stdout",
     "output_type": "stream",
     "text": [
      "무인도에 빠지셨습니다.\n",
      "\n",
      "주사위를 던져주세요!!\n",
      "\n",
      "첫 번째 주사위 : 3\n",
      "두 번째 주사위 : 6\n",
      "\n",
      "다시 던져주세요!\n",
      "무인도에 빠지셨습니다.\n",
      "\n",
      "주사위를 던져주세요!!\n",
      "\n",
      "첫 번째 주사위 : 4\n",
      "두 번째 주사위 : 4\n",
      "\n",
      "무인도를 탈출하였습니다!\n"
     ]
    }
   ],
   "source": [
    "###과제2\n",
    "\n",
    "import random\n",
    "\n",
    "while True:\n",
    "    print(\"무인도에 빠지셨습니다.\\n\")\n",
    "    print(\"주사위를 던져주세요!!\\n\")\n",
    "    a = random.randint(1,6)\n",
    "    b = random.randint(1,6)\n",
    "    if a != b:\n",
    "        print(\"첫 번째 주사위 : %d\" %a)\n",
    "        print(\"두 번째 주사위 : %d\\n\" %b )\n",
    "        print(\"다시 던져주세요!\")\n",
    "    \n",
    "    else:\n",
    "        print(\"첫 번째 주사위 : %d\" %a)\n",
    "        print(\"두 번째 주사위 : %d\\n\" %b )\n",
    "        print(\"무인도를 탈출하였습니다!\")\n",
    "        break\n",
    "        \n",
    "            "
   ]
  }
 ],
 "metadata": {
  "kernelspec": {
   "display_name": "Python 3",
   "language": "python",
   "name": "python3"
  },
  "language_info": {
   "codemirror_mode": {
    "name": "ipython",
    "version": 3
   },
   "file_extension": ".py",
   "mimetype": "text/x-python",
   "name": "python",
   "nbconvert_exporter": "python",
   "pygments_lexer": "ipython3",
   "version": "3.8.2"
  }
 },
 "nbformat": 4,
 "nbformat_minor": 4
}
