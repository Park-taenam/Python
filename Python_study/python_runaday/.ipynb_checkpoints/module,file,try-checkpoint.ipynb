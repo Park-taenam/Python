{
 "cells": [
  {
   "cell_type": "code",
   "execution_count": 7,
   "metadata": {},
   "outputs": [
    {
     "name": "stdout",
     "output_type": "stream",
     "text": [
      "4\n",
      "가위\n",
      "6\n",
      "3\n",
      "3\n",
      "1599668661.6610749\n",
      "정답\n",
      "오답\n",
      "time.struct_time(tm_year=2020, tm_mon=9, tm_mday=10, tm_hour=1, tm_min=24, tm_sec=25, tm_wday=3, tm_yday=254, tm_isdst=0)\n",
      "2020\n"
     ]
    }
   ],
   "source": [
    "##random\n",
    "\n",
    "import random\n",
    "\n",
    "print(random.randint(1,6))\n",
    "\n",
    "a=['가위', '바위', '보']\n",
    "print(random.choice(a))\n",
    "\n",
    "import random as r\n",
    "print(r.randint(1,6))\n",
    "\n",
    "from random import randint\n",
    "print(randint(1,6))\n",
    "\n",
    "from random import *\n",
    "print(randint(1,6))\n",
    "\n",
    "##time\n",
    "\n",
    "import time\n",
    "\n",
    "print(time.time())\n",
    "\n",
    "print(\"정답\")\n",
    "#time.sleep(4)\n",
    "print(\"오답\")\n",
    "\n",
    "print(time.localtime())\n",
    "print(time.localtime().tm_year)"
   ]
  }
 ],
 "metadata": {
  "kernelspec": {
   "display_name": "Python 3",
   "language": "python",
   "name": "python3"
  },
  "language_info": {
   "codemirror_mode": {
    "name": "ipython",
    "version": 3
   },
   "file_extension": ".py",
   "mimetype": "text/x-python",
   "name": "python",
   "nbconvert_exporter": "python",
   "pygments_lexer": "ipython3",
   "version": "3.8.2"
  }
 },
 "nbformat": 4,
 "nbformat_minor": 4
}
