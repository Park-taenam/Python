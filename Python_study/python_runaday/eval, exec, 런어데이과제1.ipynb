{
 "cells": [
  {
   "cell_type": "code",
   "execution_count": 62,
   "metadata": {},
   "outputs": [
    {
     "name": "stdout",
     "output_type": "stream",
     "text": [
      "6\n",
      "3.14\n",
      "python\n",
      "[1, 2, 3, 4, 5]\n",
      "{'사과': 'apple', '포도': 'grape', '오렌지': 'orange'}\n",
      "True\n"
     ]
    }
   ],
   "source": [
    "a1=6\n",
    "a2=3.14\n",
    "a3=\"python\"\n",
    "a4=[1,2,3,4,5]\n",
    "a5={\"사과\":\"apple\", \"포도\":\"grape\", \"오렌지\":\"orange\"}\n",
    "a6=True\n",
    "\n",
    "for i in range(1,7):\n",
    "    exec('print(a' + str(i) + ')')"
   ]
  },
  {
   "cell_type": "code",
   "execution_count": 28,
   "metadata": {},
   "outputs": [
    {
     "name": "stdout",
     "output_type": "stream",
     "text": [
      "10\n",
      "15\n",
      "'ex'\n",
      "'ex'\n"
     ]
    },
    {
     "data": {
      "text/plain": [
       "\"'kk'\""
      ]
     },
     "execution_count": 28,
     "metadata": {},
     "output_type": "execute_result"
    }
   ],
   "source": [
    "x=eval('5+5')\n",
    "print(x)\n",
    "\n",
    "y=eval('x+5')\n",
    "print(y)\n",
    "\n",
    "a='ex'\n",
    "print(eval('repr(a)'))\n",
    "print(repr(a))\n",
    "\n",
    "eval('repr(a)',{'rere':repr, 'a':'kk'})\n",
    "\n",
    "exec(\"one=1+9+pow(2,2)\")\n",
    "print(one)\n",
    "\n",
    "kk={\"pw\":pow,'a':0}\n",
    "exec(\"a=pw(3,3)\",kk)\n",
    "kk['a']"
   ]
  },
  {
   "cell_type": "code",
   "execution_count": 41,
   "metadata": {},
   "outputs": [
    {
     "name": "stdout",
     "output_type": "stream",
     "text": [
      "<class 'int'>\n",
      "<class 'int'>\n",
      "<class 'str'>\n",
      "<class 'list'>\n",
      "<class 'dict'>\n",
      "3\n",
      "2\n",
      "27\n",
      "['서울시', '부동산', '매매', '추이']\n",
      "[2, 4, 6, 8, 10]\n",
      "5\n",
      "30\n",
      "[2, 4, 6, 8, 10, 12]\n",
      "[2, 4, 6, 10, 12]\n",
      "[12, 10, 6, 4, 2]\n",
      "{'grape': '포도', 'melon': '메론', 'apple': '사과', 'banana': '바나나'}\n",
      "{'grape': '포도', 'melon': '메론', 'apple': '사과', 'banana': '바나나', 'orange': '오렌지'}\n",
      "['grape', 'melon', 'apple', 'banana', 'orange']\n",
      "['포도', '메론', '사과', '바나나', '오렌지']\n"
     ]
    }
   ],
   "source": [
    "##런어데이 과제_1\n",
    "\n",
    "rep1 = 11\n",
    "rep2 = 3\n",
    "rep3 = '서울시 부동산 매매 추이'\n",
    "rep4 = [2, 4, 7, 8, 10]\n",
    "rep5 = {'grape':'포도', 'melon':'메론', 'apple':'사과', 'banana':'오렌지'}\n",
    "\n",
    "print(type(rep1))\n",
    "print(type(rep2))\n",
    "print(type(rep3))\n",
    "print(type(rep4))\n",
    "print(type(rep5))\n",
    "\n",
    "print(rep1//rep2)\n",
    "print(rep1%rep2)\n",
    "\n",
    "print(pow(rep2,3))\n",
    "\n",
    "print(rep3.split())\n",
    "\n",
    "rep4[2]=6\n",
    "print(rep4)\n",
    "\n",
    "print(len(rep4))\n",
    "print(sum(rep4))\n",
    "\n",
    "rep4.append(12)\n",
    "print(rep4)\n",
    "\n",
    "rep4.pop(3)\n",
    "print(rep4)\n",
    "\n",
    "rep4.reverse()\n",
    "print(rep4)\n",
    "\n",
    "rep5['banana']=\"바나나\"\n",
    "print(rep5)\n",
    "rep5['orange']='오렌지'\n",
    "print(rep5)\n",
    "\n",
    "print(list(rep5.keys()))\n",
    "print(list(rep5.values()))"
   ]
  },
  {
   "cell_type": "code",
   "execution_count": 52,
   "metadata": {},
   "outputs": [
    {
     "name": "stdout",
     "output_type": "stream",
     "text": [
      "첫 번째 수를 입력해주세요 : 13\n",
      "두 번째 수를 입력해주세요 : 6.3\n",
      "두 수의 합은 19.3입니다.\n",
      "내야 할 금액은 얼마인가요? 8000\n",
      "사람은 몇 명인가요? 3\n",
      "1인당 낼 돈 : 2666\n",
      "부족한 돈 : 2\n"
     ]
    }
   ],
   "source": [
    "##런어데이 과제_2 계산기 만들기\n",
    "\n",
    "##1) 더하기 계산기\n",
    "a=int(input(\"첫 번째 수를 입력해주세요 : \"))\n",
    "b=float(input(\"두 번째 수를 입력해주세요 : \"))\n",
    "\n",
    "print(\"두 수의 합은 \"+ str(a+b) +\"입니다.\")\n",
    "\n",
    "\n",
    "##2) 더치페이 계산기\n",
    "c=int(input(\"내야 할 금액은 얼마인가요? \"))\n",
    "d=int(input(\"사람은 몇 명인가요? \"))\n",
    "\n",
    "print(\"1인당 낼 돈 : \" + str(c//d))\n",
    "print(\"부족한 돈 : \" + str(c%d))\n",
    "\n"
   ]
  },
  {
   "cell_type": "code",
   "execution_count": 68,
   "metadata": {},
   "outputs": [
    {
     "name": "stdout",
     "output_type": "stream",
     "text": [
      "배우기 쉬운 컴퓨터 언어는 파이썬입니다.\n",
      "★초등학교 필독서\n",
      "\n",
      "『나의 라임 오렌지 나무』 (데 바스콘셀로스)\n",
      "『어린왕자』 (생텍쥐페리)\n",
      "『안네의 일기』 (안네 프랑크)\n",
      "『소나기』 (황순원)\n",
      "『톰소여의 모험』 (마크 트웨인)\n",
      "『홍길동전』 (허균)\n",
      "『자전거 도둑』 (박완서)\n",
      "★ 각 나라의 수도 ★\n",
      "\n",
      "한국 : 서울\n",
      "일본 : 도쿄\n",
      "영국 : 런던\n",
      "프랑스 : 파리\n",
      "첫 번째 수와 두 번째 수의 합은 62 입니다.\n",
      "첫 번째 수부터 세 번째 수까지의 합은 100 입니다.\n",
      "이름을 입력해주세요 : 박태남\n",
      "박태남님, 반갑습니다!\n",
      "\n",
      "나이를 숫자로 입력해주세요 : 23\n",
      "박태남님은 23살 입니다.\n",
      "내년에는 24살이 되십니다. \n",
      "이름을 입력해주세요 : 박태남\n",
      "박태남님, 반갑습니다!\n",
      "\n",
      "['강남구', '송파구', '종로구', '강서구']\n",
      "파이썬입문\n",
      "마지막 과제 문제입니다.\n",
      "051\n"
     ]
    }
   ],
   "source": [
    "lan1 = \"파이썬\"\n",
    "lan2 = \"자바\"\n",
    "print(\"배우기 쉬운 컴퓨터 언어는 \" + lan1 + \"입니다.\")\n",
    "\n",
    "print(\"★초등학교 필독서\")\n",
    "print( )\n",
    "print(\"『나의 라임 오렌지 나무』 (데 바스콘셀로스)\")\n",
    "print(\"『어린왕자』 (생텍쥐페리)\")\n",
    "print(\"『안네의 일기』 (안네 프랑크)\")\n",
    "print(\"『소나기』 (황순원)\")\n",
    "print(\"『톰소여의 모험』 (마크 트웨인)\")\n",
    "print(\"『홍길동전』 (허균)\")\n",
    "print(\"『자전거 도둑』 (박완서)\")\n",
    "\n",
    "Korea = \"서울\"\n",
    "Japan = \"도쿄\"\n",
    "England = \"런던\"\n",
    "France = \"파리\"\n",
    "\n",
    "print(\"★ 각 나라의 수도 ★\")\n",
    "print( )\n",
    "print(\"한국 : \" + Korea)\n",
    "print(\"일본 : \" + Japan)\n",
    "print(\"영국 : \" + England)\n",
    "print(\"프랑스 : \" + France)\n",
    "\n",
    "first = 35\n",
    "second = 27\n",
    "third = 38\n",
    "\n",
    "total = first + second\n",
    "print(\"첫 번째 수와 두 번째 수의 합은 \" + str(total) + \" 입니다.\") \n",
    "\n",
    "total = (first + second) + third\n",
    "print(\"첫 번째 수부터 세 번째 수까지의 합은 \" + str(total) + \" 입니다.\") \n",
    "\n",
    "name = input(\"이름을 입력해주세요 : \")\n",
    "print(name + \"님, 반갑습니다!\")\n",
    "print( )\n",
    "\n",
    "age = int(input(\"나이를 숫자로 입력해주세요 : \"))\n",
    "print(name + \"님은 \" + str(age) + \"살 입니다.\")\n",
    "print(\"내년에는 \" + str(age+1) + \"살이 되십니다. \")\n",
    "\n",
    "name = input(\"이름을 입력해주세요 : \")\n",
    "print(name + \"님, 반갑습니다!\")\n",
    "print( )\n",
    "\n",
    "name = input(\"이름을 입력해주세요 : \")\n",
    "print(name + \"님, 반갑습니다!\")\n",
    "print( )\n",
    "\n",
    "\n",
    "age = int(input(\"나이를 숫자로 입력해주세요 : \"))\n",
    "print(\"%s 님은 %d살 입니다.\"%(name, age))\n",
    "print(\"내년에는 %d살이 되십니다. \"% (age+1))\n",
    "\n",
    "\n",
    "age = int(input(\"나이를 숫자로 입력해주세요 : \"))\n",
    "print(\"{} 님은 {}살 입니다.\".format(name, age))\n",
    "print(\"내년에는 {}살이 되십니다. \".format(age+1))\n",
    "\n",
    "\n",
    "seoul =  [\"강남구\",\"분당구\",\"종로구\",\"강서구\"]\n",
    "seoul[1] = \"송파구\"\n",
    "\n",
    "print(seoul)\n",
    "\n",
    "a=\"파이썬\"\n",
    "b=\"입문\"\n",
    "print(a+b)\n",
    "\n",
    "Stage = \"마지막 과제 문제입니다.\"\n",
    "print(Stage)\n",
    "\n",
    "# 부산의 지역번호를 불러오세요.\n",
    "\n",
    "지역번호 = {\"서울\" : \"02\", \"부산\" : \"051\", \"경기\" : \"031\", \"충남\": \"041\", \"전북\" : \"063\"}\n",
    "\n",
    "num = 지역번호[\"부산\"]\n",
    "\n",
    "print(num)\n"
   ]
  }
 ],
 "metadata": {
  "kernelspec": {
   "display_name": "Python 3",
   "language": "python",
   "name": "python3"
  },
  "language_info": {
   "codemirror_mode": {
    "name": "ipython",
    "version": 3
   },
   "file_extension": ".py",
   "mimetype": "text/x-python",
   "name": "python",
   "nbconvert_exporter": "python",
   "pygments_lexer": "ipython3",
   "version": "3.8.2"
  }
 },
 "nbformat": 4,
 "nbformat_minor": 4
}
