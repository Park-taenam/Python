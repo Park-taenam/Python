{
 "cells": [
  {
   "cell_type": "markdown",
   "metadata": {},
   "source": [
    "# COVID-19 in Seoul\n",
    "> http://www.seoul.go.kr/coronaV/coronaStatus.do\n",
    "- 매일 업데이트 되는 Data\n",
    "- 확진자 현황이 제대로 나오지 않음\n",
    "- Pandas 통한 크롤링(crawling)"
   ]
  },
  {
   "cell_type": "code",
   "execution_count": 1,
   "metadata": {
    "ExecuteTime": {
     "end_time": "2021-08-29T08:11:20.438451Z",
     "start_time": "2021-08-29T08:11:19.740448Z"
    }
   },
   "outputs": [],
   "source": [
    "import pandas as pd\n",
    "import numpy as np"
   ]
  },
  {
   "cell_type": "markdown",
   "metadata": {},
   "source": [
    "# Crawling"
   ]
  },
  {
   "cell_type": "markdown",
   "metadata": {},
   "source": [
    "## requests & beautifulsoup\n",
    "> requests\n",
    "- url을 활용해 html 소스를 가져오는 역할\n",
    "\n",
    "> beautifulsoup\n",
    "- HTML의 태그를 파싱해서 필요한 데이터만 추출하는 함수를 제공하는 라이브러리"
   ]
  },
  {
   "cell_type": "code",
   "execution_count": 30,
   "metadata": {
    "ExecuteTime": {
     "end_time": "2021-08-27T08:09:11.846085Z",
     "start_time": "2021-08-27T08:09:11.841125Z"
    }
   },
   "outputs": [],
   "source": [
    "import requests\n",
    "from bs4 import BeautifulSoup"
   ]
  },
  {
   "cell_type": "code",
   "execution_count": 32,
   "metadata": {
    "ExecuteTime": {
     "end_time": "2021-08-27T08:18:10.888271Z",
     "start_time": "2021-08-27T08:18:10.600175Z"
    },
    "scrolled": true
   },
   "outputs": [
    {
     "name": "stdout",
     "output_type": "stream",
     "text": [
      "<!doctype html><html itemscope=\"\" itemtype=\"http://schema.org/WebPage\" lang=\"ko\"><head><meta content=\"text/html; charset=UTF-8\" http-equiv=\"Content-Type\"><meta content=\"/images/branding/googleg/1x/googleg_standard_color_128dp.png\" itemprop=\"image\"><title>Google</title><script nonce=\"m8XGcSZFNZESEqbKaJtdug==\">(function(){window.google={kEI:'wp8oYbvPLcfd-QbnqaOABg',kEXPI:'0,202343,569872,1,530320,56873,954,5105,206,4804,925,1391,383,246,5,1354,5251,1122515,1197786,497,118,328866,51223,16115,19397,9287,17572,4859,1361,9291,3025,4748,12835,4020,978,13228,3847,4192,6430,14528,234,4282,2778,919,1832,3249,1593,1279,2213,238,291,149,1103,840,2196,4101,108,3406,606,2023,2297,8847,5823,3227,2845,8,12353,5096,11624,1289,2855,552,908,2,941,2614,3783,9359,3,576,4385,2074,149,13975,4,1528,2304,1236,5227,576,4684,2014,6573,9764,2038,2658,4243,2458,655,31,13628,2305,638,1494,5586,3772,7428,2522,3293,2542,992,3102,3138,6,908,3,3541,1,5096,2,1,3,9161,447,1814,283,912,5992,16728,1344,371,2,3057,5925,1,240,4799,1931,1532,4057,743,1275,4578,2051,8412,1160,1311,53,2739,2010,3,291,292,2118,263,2718,4546,3,117,8,1476,3130,742,4635,1213,1957,416,2,6,210,2,793,1952,497,1484,900,1509,426,1932,190,2,2444,1386,93,2300,2473,2478,548,3,1548,796,1265,52,846,946,6,616,92,49,259,335,657,2,2,798,672,2511,1048,328,5,1917,530,94,27,1128,12,484,474,309,158,9,20,485,899,775,375,3,151,69,28,11,152,90,2231,1355,118,689,5584413,3893,226,220,146,4,56,16,59,5996588,2800696,882,444,1,2,80,1,1796,1,9,2553,1,748,141,795,563,1,4265,1,1,2,1331,4142,2609,155,17,13,72,139,4,2,20,2,169,13,19,46,5,39,96,548,29,2,2,1,2,1,2,2,7,4,1,2,2,2,2,2,2,353,513,186,1,1,158,3,2,2,2,2,2,4,2,3,3,269,234,2,1,1,7,46,12,6,1,2,4,25,23654516,299866,2738464,1300106,3,2778,338,3,2414,448,2,463,172,406,9,2259,1579,937,598,768252',kBL:'2n4T'};google.sn='webhp';google.kHL='ko';})();(function(){\n",
      "var f=this||self;var h,k=[];function l(a){for(var b;a&&(!a.getAttribute||!(b=a.getAttribute(\"eid\")));)a=a.parentNode;return b||h}function m(a){for(var b=null;a&&(!a.getAttribute||!(b=a.getAttribute(\"leid\")));)a=a.parentNode;return b}\n",
      "function n(a,b,c,d,g){var e=\"\";c||-1!==b.search(\"&ei=\")||(e=\"&ei=\"+l(d),-1===b.search(\"&lei=\")&&(d=m(d))&&(e+=\"&lei=\"+d));d=\"\";!c&&f._cshid&&-1===b.search(\"&cshid=\")&&\"slh\"!==a&&(d=\"&cshid=\"+f._cshid);c=c||\"/\"+(g||\"gen_204\")+\"?atyp=i&ct=\"+a+\"&cad=\"+b+e+\"&zx=\"+Date.now()+d;/^http:/i.test(c)&&\"https:\"===window.location.protocol&&(google.ml&&google.ml(Error(\"a\"),!1,{src:c,glmm:1}),c=\"\");return c};h=google.kEI;google.getEI=l;google.getLEI=m;google.ml=function(){return null};google.log=function(a,b,c,d,g){if(c=n(a,b,c,d,g)){a=new Image;var e=k.length;k[e]=a;a.onerror=a.onload=a.onabort=function(){delete k[e]};a.src=c}};google.logUrl=n;}).call(this);(function(){\n",
      "google.y={};google.sy=[];google.x=function(a,b){if(a)var c=a.id;else{do c=Math.random();while(google.y[c])}google.y[c]=[a,b];return!1};google.sx=function(a){google.sy.push(a)};google.lm=[];google.plm=function(a){google.lm.push.apply(google.lm,a)};google.lq=[];google.load=function(a,b,c){google.lq.push([[a],b,c])};google.loadAll=function(a,b){google.lq.push([a,b])};google.bx=!1;google.lx=function(){};}).call(this);google.f={};(function(){\n",
      "document.documentElement.addEventListener(\"submit\",function(b){var a;if(a=b.target){var c=a.getAttribute(\"data-submitfalse\");a=\"1\"==c||\"q\"==c&&!a.elements.q.value?!0:!1}else a=!1;a&&(b.preventDefault(),b.stopPropagation())},!0);document.documentElement.addEventListener(\"click\",function(b){var a;a:{for(a=b.target;a&&a!=document.documentElement;a=a.parentElement)if(\"A\"==a.tagName){a=\"1\"==a.getAttribute(\"data-nohref\");break a}a=!1}a&&b.preventDefault()},!0);}).call(this);</script><style>#gbar,#guser{font-size:13px;padding-top:1px !important;}#gbar{height:22px}#guser{padding-bottom:7px !important;text-align:right}.gbh,.gbd{border-top:1px solid #c9d7f1;font-size:1px}.gbh{height:0;position:absolute;top:24px;width:100%}@media all{.gb1{height:22px;margin-right:.5em;vertical-align:top}#gbar{float:left}}a.gb1,a.gb4{text-decoration:underline !important}a.gb1,a.gb4{color:#00c !important}.gbi .gb4{color:#dd8e27 !important}.gbf .gb4{color:#900 !important}\n",
      "</style><style>body,td,a,p,.h{font-family:&#44404;&#47548;,&#46027;&#50880;,arial,sans-serif}.ko{font-size:9pt}body{margin:0;overflow-y:scroll}#gog{padding:3px 8px 0}td{line-height:.8em}.gac_m td{line-height:17px}form{margin-bottom:20px}.h{color:#1558d6}em{font-weight:bold;font-style:normal}.lst{height:25px;width:496px}.gsfi,.lst{font:18px arial,sans-serif}.gsfs{font:17px arial,sans-serif}.ds{display:inline-box;display:inline-block;margin:3px 0 4px;margin-left:4px}input{font-family:inherit}body{background:#fff;color:#000}a{color:#4b11a8;text-decoration:none}a:hover,a:active{text-decoration:underline}.fl a{color:#1558d6}a:visited{color:#4b11a8}.sblc{padding-top:5px}.sblc a{display:block;margin:2px 0;margin-left:13px;font-size:11px}.lsbb{background:#f8f9fa;border:solid 1px;border-color:#dadce0 #70757a #70757a #dadce0;height:30px}.lsbb{display:block}#WqQANb a{display:inline-block;margin:0 12px}.lsb{background:url(/images/nav_logo229.png) 0 -261px repeat-x;border:none;color:#000;cursor:pointer;height:30px;margin:0;outline:0;font:15px arial,sans-serif;vertical-align:top}.lsb:active{background:#dadce0}.lst:focus{outline:none}.tiah{width:458px}</style><script nonce=\"m8XGcSZFNZESEqbKaJtdug==\"></script></head><body bgcolor=\"#fff\"><script nonce=\"m8XGcSZFNZESEqbKaJtdug==\">(function(){var src='/images/nav_logo229.png';var iesg=false;document.body.onload = function(){window.n && window.n();if (document.images){new Image().src=src;}\n",
      "if (!iesg){document.f&&document.f.q.focus();document.gbqf&&document.gbqf.q.focus();}\n",
      "}\n",
      "})();</script><div id=\"mngb\"><div id=gbar><nobr><b class=gb1>&#44160;&#49353;</b> <a class=gb1 href=\"https://www.google.co.kr/imghp?hl=ko&tab=wi\">&#51060;&#48120;&#51648;</a> <a class=gb1 href=\"https://maps.google.co.kr/maps?hl=ko&tab=wl\">&#51648;&#46020;</a> <a class=gb1 href=\"https://play.google.com/?hl=ko&tab=w8\">Play</a> <a class=gb1 href=\"https://www.youtube.com/?gl=KR&tab=w1\">YouTube</a> <a class=gb1 href=\"https://news.google.com/?tab=wn\">&#45684;&#49828;</a> <a class=gb1 href=\"https://mail.google.com/mail/?tab=wm\">Gmail</a> <a class=gb1 href=\"https://drive.google.com/?tab=wo\">&#46300;&#46972;&#51060;&#48652;</a> <a class=gb1 style=\"text-decoration:none\" href=\"https://www.google.co.kr/intl/ko/about/products?tab=wh\"><u>&#45908;&#48372;&#44592;</u> &raquo;</a></nobr></div><div id=guser width=100%><nobr><span id=gbn class=gbi></span><span id=gbf class=gbf></span><span id=gbe></span><a href=\"http://www.google.co.kr/history/optout?hl=ko\" class=gb4>&#50937; &#44592;&#47197;</a> | <a  href=\"/preferences?hl=ko\" class=gb4>&#49444;&#51221;</a> | <a target=_top id=gb_70 href=\"https://accounts.google.com/ServiceLogin?hl=ko&passive=true&continue=https://www.google.com/&ec=GAZAAQ\" class=gb4>&#47196;&#44536;&#51064;</a></nobr></div><div class=gbh style=left:0></div><div class=gbh style=right:0></div></div><center><br clear=\"all\" id=\"lgpd\"><div id=\"lga\"><img alt=\"Google\" height=\"92\" src=\"/images/branding/googlelogo/1x/googlelogo_white_background_color_272x92dp.png\" style=\"padding:28px 0 14px\" width=\"272\" id=\"hplogo\"><br><br></div><form action=\"/search\" name=\"f\"><table cellpadding=\"0\" cellspacing=\"0\"><tr valign=\"top\"><td width=\"25%\">&nbsp;</td><td align=\"center\" nowrap=\"\"><input name=\"ie\" value=\"ISO-8859-1\" type=\"hidden\"><input value=\"ko\" name=\"hl\" type=\"hidden\"><input name=\"source\" type=\"hidden\" value=\"hp\"><input name=\"biw\" type=\"hidden\"><input name=\"bih\" type=\"hidden\"><div class=\"ds\" style=\"height:32px;margin:4px 0\"><div style=\"position:relative;zoom:1\"><input class=\"lst tiah\" style=\"margin:0;padding:5px 8px 0 6px;vertical-align:top;color:#000;padding-right:38px\" autocomplete=\"off\" value=\"\" title=\"Google &#44160;&#49353;\" maxlength=\"2048\" name=\"q\" size=\"57\"><img src=\"/textinputassistant/tia.png\" style=\"position:absolute;cursor:pointer;right:5px;top:4px;z-index:300\" data-script-url=\"/textinputassistant/11/ko_tia.js\" id=\"tsuid1\" alt=\"\" height=\"23\" width=\"27\"><script nonce=\"m8XGcSZFNZESEqbKaJtdug==\">(function(){var id='tsuid1';document.getElementById(id).onclick = function(){var s = document.createElement('script');s.src = this.getAttribute('data-script-url');(document.getElementById('xjsc')||document.body).appendChild(s);};})();</script></div></div><br style=\"line-height:0\"><span class=\"ds\"><span class=\"lsbb\"><input class=\"lsb\" value=\"Google &#44160;&#49353;\" name=\"btnG\" type=\"submit\"></span></span><span class=\"ds\"><span class=\"lsbb\"><input class=\"lsb\" id=\"tsuid2\" value=\"I&#8217;m Feeling Lucky\" name=\"btnI\" type=\"submit\"><script nonce=\"m8XGcSZFNZESEqbKaJtdug==\">(function(){var id='tsuid2';document.getElementById(id).onclick = function(){if (this.form.q.value){this.checked = 1;if (this.form.iflsig)this.form.iflsig.disabled = false;}\n",
      "else top.location='/doodles/';};})();</script><input value=\"ALs-wAMAAAAAYSit0tM7O-htU7hHulvQwiYSaWcAKII9\" name=\"iflsig\" type=\"hidden\"></span></span></td><td class=\"fl sblc\" align=\"left\" nowrap=\"\" width=\"25%\"><a href=\"/advanced_search?hl=ko&amp;authuser=0\">&#44256;&#44553;&#44160;&#49353;</a></td></tr></table><input id=\"gbv\" name=\"gbv\" type=\"hidden\" value=\"1\"><script nonce=\"m8XGcSZFNZESEqbKaJtdug==\">(function(){\n",
      "var a,b=\"1\";if(document&&document.getElementById)if(\"undefined\"!=typeof XMLHttpRequest)b=\"2\";else if(\"undefined\"!=typeof ActiveXObject){var c,d,e=[\"MSXML2.XMLHTTP.6.0\",\"MSXML2.XMLHTTP.3.0\",\"MSXML2.XMLHTTP\",\"Microsoft.XMLHTTP\"];for(c=0;d=e[c++];)try{new ActiveXObject(d),b=\"2\"}catch(h){}}a=b;if(\"2\"==a&&-1==location.search.indexOf(\"&gbv=2\")){var f=google.gbvu,g=document.getElementById(\"gbv\");g&&(g.value=a);f&&window.setTimeout(function(){location.href=f},0)};}).call(this);</script></form><div id=\"gac_scont\"></div><div style=\"font-size:83%;min-height:3.5em\"><br></div><span id=\"footer\"><div style=\"font-size:10pt\"><div style=\"margin:19px auto;text-align:center\" id=\"WqQANb\"><a href=\"/intl/ko/ads/\">&#44305;&#44256; &#54532;&#47196;&#44536;&#47016;</a><a href=\"http://www.google.co.kr/intl/ko/services/\">&#48708;&#51592;&#45768;&#49828; &#49556;&#47336;&#49496;</a><a href=\"/intl/ko/about.html\">Google &#51221;&#48372;</a><a href=\"https://www.google.com/setprefdomain?prefdom=KR&amp;prev=https://www.google.co.kr/&amp;sig=K_mISu5co063HPiEoF46rsh33ez7g%3D\">Google.co.kr</a></div></div><p style=\"font-size:8pt;color:#70757a\">&copy; 2021 - <a href=\"/intl/ko/policies/privacy/\">&#44060;&#51064;&#51221;&#48372;&#52376;&#47532;&#48169;&#52840;</a> - <a href=\"/intl/ko/policies/terms/\">&#50557;&#44288;</a></p></span></center><script nonce=\"m8XGcSZFNZESEqbKaJtdug==\">(function(){window.google.cdo={height:757,width:1440};(function(){\n",
      "var a=window.innerWidth,b=window.innerHeight;if(!a||!b){var c=window.document,d=\"CSS1Compat\"==c.compatMode?c.documentElement:c.body;a=d.clientWidth;b=d.clientHeight}a&&b&&(a!=google.cdo.width||b!=google.cdo.height)&&google.log(\"\",\"\",\"/client_204?&atyp=i&biw=\"+a+\"&bih=\"+b+\"&ei=\"+google.kEI);}).call(this);})();</script> <script nonce=\"m8XGcSZFNZESEqbKaJtdug==\">(function(){google.xjs={ck:'',cs:'',excm:[]};})();</script>  <script nonce=\"m8XGcSZFNZESEqbKaJtdug==\">(function(){var u='/xjs/_/js/k\\x3dxjs.hp.en.wfRConWZYk8.O/am\\x3dAPgEmA/d\\x3d1/ed\\x3d1/rs\\x3dACT90oGpqs0IaFfW5cnlWZx3EbuGv7psQg/m\\x3dsb_he,d';\n",
      "var e=this||self,f=function(a){return a};var g;var l=function(a,b){this.g=b===h?a:\"\"};l.prototype.toString=function(){return this.g+\"\"};var h={};function m(){var a=u;google.lx=function(){n(a);google.lx=function(){}};google.bx||google.lx()}\n",
      "function n(a){google.timers&&google.timers.load&&google.tick&&google.tick(\"load\",\"xjsls\");var b=document;var c=\"SCRIPT\";\"application/xhtml+xml\"===b.contentType&&(c=c.toLowerCase());c=b.createElement(c);if(void 0===g){b=null;var k=e.trustedTypes;if(k&&k.createPolicy){try{b=k.createPolicy(\"goog#html\",{createHTML:f,createScript:f,createScriptURL:f})}catch(p){e.console&&e.console.error(p.message)}g=b}else g=b}a=(b=g)?b.createScriptURL(a):a;a=new l(a,h);c.src=a instanceof l&&a.constructor===l?a.g:\"type_error:TrustedResourceUrl\";var d;a=(c.ownerDocument&&c.ownerDocument.defaultView||window).document;(d=(a=null===(d=a.querySelector)||void 0===d?void 0:d.call(a,\"script[nonce]\"))?a.nonce||a.getAttribute(\"nonce\")||\"\":\"\")&&c.setAttribute(\"nonce\",d);document.body.appendChild(c);google.psa=!0};setTimeout(function(){m()},0);})();(function(){window.google.xjsu='/xjs/_/js/k\\x3dxjs.hp.en.wfRConWZYk8.O/am\\x3dAPgEmA/d\\x3d1/ed\\x3d1/rs\\x3dACT90oGpqs0IaFfW5cnlWZx3EbuGv7psQg/m\\x3dsb_he,d';})();function _DumpException(e){throw e;}\n",
      "function _F_installCss(c){}\n",
      "(function(){google.jl={attn:false,blt:'none',chnk:0,dw:false,emtn:0,end:0,ine:false,lls:'default',pdt:0,rep:0,sif:true,snet:true,strt:0,ubm:false,uwp:true};})();(function(){var pmc='{\\x22d\\x22:{},\\x22sb_he\\x22:{\\x22agen\\x22:true,\\x22cgen\\x22:true,\\x22client\\x22:\\x22heirloom-hp\\x22,\\x22dh\\x22:true,\\x22dhqt\\x22:true,\\x22ds\\x22:\\x22\\x22,\\x22ffql\\x22:\\x22ko\\x22,\\x22fl\\x22:true,\\x22host\\x22:\\x22google.com\\x22,\\x22isbh\\x22:28,\\x22jsonp\\x22:true,\\x22msgs\\x22:{\\x22cibl\\x22:\\x22&#44160;&#49353;&#50612; &#51648;&#50864;&#44592;\\x22,\\x22dym\\x22:\\x22&#51060;&#44163;&#51012; &#52286;&#51004;&#49512;&#45208;&#50836;?\\x22,\\x22lcky\\x22:\\x22I&#8217;m Feeling Lucky\\x22,\\x22lml\\x22:\\x22&#51088;&#49464;&#55176; &#50508;&#50500;&#48372;&#44592;\\x22,\\x22oskt\\x22:\\x22&#51077;&#47141; &#46020;&#44396;\\x22,\\x22psrc\\x22:\\x22&#44160;&#49353;&#50612;&#44032; \\\\u003Ca href\\x3d\\\\\\x22/history\\\\\\x22\\\\u003E&#50937; &#44592;&#47197;\\\\u003C/a\\\\u003E&#50640;&#49436; &#49325;&#51228;&#46104;&#50632;&#49845;&#45768;&#45796;.\\x22,\\x22psrl\\x22:\\x22&#49325;&#51228;\\x22,\\x22sbit\\x22:\\x22&#51060;&#48120;&#51648;&#47196; &#44160;&#49353;\\x22,\\x22srch\\x22:\\x22Google &#44160;&#49353;\\x22},\\x22ovr\\x22:{},\\x22pq\\x22:\\x22\\x22,\\x22refpd\\x22:true,\\x22refspre\\x22:true,\\x22rfs\\x22:[],\\x22sbas\\x22:\\x220 3px 8px 0 rgba(0,0,0,0.2),0 0 0 1px rgba(0,0,0,0.08)\\x22,\\x22sbpl\\x22:16,\\x22sbpr\\x22:16,\\x22scd\\x22:10,\\x22stok\\x22:\\x22SUMUGNMHZIjqAtphuzvyTUeOb4I\\x22,\\x22uhde\\x22:false}}';google.pmc=JSON.parse(pmc);})();</script>        </body></html>\n"
     ]
    }
   ],
   "source": [
    "def crawler(): \n",
    "    url = 'https://www.google.com'\n",
    "    html = requests.get(url)\n",
    "    print(html.text)\n",
    "\n",
    "crawler()"
   ]
  },
  {
   "cell_type": "markdown",
   "metadata": {},
   "source": [
    "## pandas\n",
    "> read_html\n",
    "- table tag\n",
    "- html에 있는 table속성에 해당하는 값을 가져올 수 있음.\n",
    "- 웹페이지에 있는 표를 불러오겠다는 의미."
   ]
  },
  {
   "cell_type": "code",
   "execution_count": 25,
   "metadata": {
    "ExecuteTime": {
     "end_time": "2021-08-27T07:46:14.289787Z",
     "start_time": "2021-08-27T07:46:14.281629Z"
    }
   },
   "outputs": [
    {
     "data": {
      "text/plain": [
       "'http://www.seoul.go.kr/coronaV/coronaStatus.do'"
      ]
     },
     "execution_count": 25,
     "metadata": {},
     "output_type": "execute_result"
    }
   ],
   "source": [
    "# 크롤링으로 가져올 url 주소\n",
    "url = \"http://www.seoul.go.kr/coronaV/coronaStatus.do\"\n",
    "url"
   ]
  },
  {
   "cell_type": "code",
   "execution_count": 26,
   "metadata": {
    "ExecuteTime": {
     "end_time": "2021-08-27T07:46:15.588972Z",
     "start_time": "2021-08-27T07:46:15.306293Z"
    }
   },
   "outputs": [
    {
     "data": {
      "text/plain": [
       "7"
      ]
     },
     "execution_count": 26,
     "metadata": {},
     "output_type": "execute_result"
    }
   ],
   "source": [
    "# read_html 은 사이트 내의 html 태그를 불러옴\n",
    "table = pd.read_html(url)\n",
    "len(table)"
   ]
  },
  {
   "cell_type": "code",
   "execution_count": 27,
   "metadata": {
    "ExecuteTime": {
     "end_time": "2021-08-27T07:46:19.632777Z",
     "start_time": "2021-08-27T07:46:19.608749Z"
    },
    "scrolled": true
   },
   "outputs": [
    {
     "data": {
      "text/plain": [
       "[    강남구   강동구   강북구   강서구   관악구   광진구   구로구   금천구   노원구   도봉구  동대문구   동작구  \\\n",
       " 0  5578  2937  2058  3509  4275  2579  2735  1447  3180  2081  2544  3360   \n",
       " 1   +57   +10    +7   +29   +39   +30   +36   +11   +12    +8   +18   +27   \n",
       " 2  서대문구   서초구   성동구   성북구   송파구   양천구  영등포구   용산구   은평구   종로구    중구   중랑구   \n",
       " 3  2118  3553  2220  3001  4638  2617  3248  2280  3271  1217  1175  3001   \n",
       " 4   +12   +17   +19   +15   +36   +14   +38   +16   +30    +5    +9   +24   \n",
       " \n",
       "     마포구  \n",
       " 0  2939  \n",
       " 1   +22  \n",
       " 2    기타  \n",
       " 3  5810  \n",
       " 4   +16  ,\n",
       "      강남구   강동구   강북구   강서구   관악구   광진구\n",
       " 0   5578  2937  2058  3509  4275  2579\n",
       " 1    +57   +10    +7   +29   +39   +30\n",
       " 2    구로구   금천구   노원구   도봉구  동대문구   동작구\n",
       " 3   2735  1447  3180  2081  2544  3360\n",
       " 4    +36   +11   +12    +8   +18   +27\n",
       " 5    마포구  서대문구   서초구   성동구   성북구   송파구\n",
       " 6   2939  2118  3553  2220  3001  4638\n",
       " 7    +22   +12   +17   +19   +15   +36\n",
       " 8    양천구  영등포구   용산구   은평구   종로구    중구\n",
       " 9   2617  3248  2280  3271  1217  1175\n",
       " 10   +14   +38   +16   +30    +5    +9\n",
       " 11   중랑구    기타   NaN   NaN   NaN   NaN\n",
       " 12  3001  5810   NaN   NaN   NaN   NaN\n",
       " 13   +24   +16   NaN   NaN   NaN   NaN,\n",
       "        일자    8.26.    8.25.    8.24.    8.23.    8.22.    8.21.    8.20.\n",
       " 0  검사자(명)  79629.0  73766.0  65017.0  70325.0  31260.0  51674.0  82752.0\n",
       " 1  확진자(명)    557.0    570.0    677.0    437.0    388.0    497.0    525.0\n",
       " 2  확진율(%)      0.8      0.9      1.0      1.4      0.8      0.6      0.7,\n",
       "       소계  해외 유입  서초구 소재 직장 관련('21.8)  은평구 소재 직장 관련('21.8.)  노원구 소재 유치원 관련  \\\n",
       " 0  77371   1575                   15                    28             20   \n",
       " \n",
       "    강남구 소재 음식점 관련 ('21.8.(2))  기타 집단 감염  기타 확진자 접촉  타시도 확진자 접촉  감염 경로 조사중  \n",
       " 0                         21     20464      28830        3618      22800  ,\n",
       " Empty DataFrame\n",
       " Columns: [연번, 환자, 확진일, 거주지, 여행력, 접촉력, 퇴원현황]\n",
       " Index: [],\n",
       " Empty DataFrame\n",
       " Columns: [연번, 환자, 확진일, 거주지, 여행력, 접촉력, 퇴원현황]\n",
       " Index: [],\n",
       "                     일                   월                   화  \\\n",
       " 0   1  64,823  (+473)   2  65,187  (+364)   3  65,498  (+311)   \n",
       " 1   8  67,867  (+450)   9  68,282  (+415)  10  68,641  (+359)   \n",
       " 2  15  71,352  (+488)  16  71,716  (+364)  17  72,081  (+365)   \n",
       " 3  22  74,742  (+497)  23  75,130  (+388)  24  75,567  (+437)   \n",
       " 4                  29                  30                  31   \n",
       " \n",
       "                     수                   목                   금  \\\n",
       " 0   4  65,984  (+486)   5  66,450  (+466)   6  66,914  (+464)   \n",
       " 1  11  69,301  (+660)  12  69,827  (+526)  13  70,351  (+524)   \n",
       " 2  18  72,591  (+510)  19  73,166  (+575)  20  73,720  (+554)   \n",
       " 3  25  76,244  (+677)  26  76,814  (+570)  27  77,371  (+557)   \n",
       " 4                 NaN                 NaN                 NaN   \n",
       " \n",
       "                     토  \n",
       " 0   7  67,417  (+503)  \n",
       " 1  14  70,864  (+513)  \n",
       " 2  21  74,245  (+525)  \n",
       " 3                  28  \n",
       " 4                 NaN  ]"
      ]
     },
     "execution_count": 27,
     "metadata": {},
     "output_type": "execute_result"
    }
   ],
   "source": [
    "table"
   ]
  },
  {
   "cell_type": "code",
   "execution_count": 9,
   "metadata": {
    "ExecuteTime": {
     "end_time": "2021-08-27T07:35:29.695707Z",
     "start_time": "2021-08-27T07:35:29.678178Z"
    }
   },
   "outputs": [
    {
     "data": {
      "text/html": [
       "<div>\n",
       "<style scoped>\n",
       "    .dataframe tbody tr th:only-of-type {\n",
       "        vertical-align: middle;\n",
       "    }\n",
       "\n",
       "    .dataframe tbody tr th {\n",
       "        vertical-align: top;\n",
       "    }\n",
       "\n",
       "    .dataframe thead th {\n",
       "        text-align: right;\n",
       "    }\n",
       "</style>\n",
       "<table border=\"1\" class=\"dataframe\">\n",
       "  <thead>\n",
       "    <tr style=\"text-align: right;\">\n",
       "      <th></th>\n",
       "      <th>강남구</th>\n",
       "      <th>강동구</th>\n",
       "      <th>강북구</th>\n",
       "      <th>강서구</th>\n",
       "      <th>관악구</th>\n",
       "      <th>광진구</th>\n",
       "      <th>구로구</th>\n",
       "      <th>금천구</th>\n",
       "      <th>노원구</th>\n",
       "      <th>도봉구</th>\n",
       "      <th>동대문구</th>\n",
       "      <th>동작구</th>\n",
       "      <th>마포구</th>\n",
       "    </tr>\n",
       "  </thead>\n",
       "  <tbody>\n",
       "    <tr>\n",
       "      <th>0</th>\n",
       "      <td>5578</td>\n",
       "      <td>2937</td>\n",
       "      <td>2058</td>\n",
       "      <td>3509</td>\n",
       "      <td>4275</td>\n",
       "      <td>2579</td>\n",
       "      <td>2735</td>\n",
       "      <td>1447</td>\n",
       "      <td>3180</td>\n",
       "      <td>2081</td>\n",
       "      <td>2544</td>\n",
       "      <td>3360</td>\n",
       "      <td>2939</td>\n",
       "    </tr>\n",
       "    <tr>\n",
       "      <th>1</th>\n",
       "      <td>+57</td>\n",
       "      <td>+10</td>\n",
       "      <td>+7</td>\n",
       "      <td>+29</td>\n",
       "      <td>+39</td>\n",
       "      <td>+30</td>\n",
       "      <td>+36</td>\n",
       "      <td>+11</td>\n",
       "      <td>+12</td>\n",
       "      <td>+8</td>\n",
       "      <td>+18</td>\n",
       "      <td>+27</td>\n",
       "      <td>+22</td>\n",
       "    </tr>\n",
       "    <tr>\n",
       "      <th>2</th>\n",
       "      <td>서대문구</td>\n",
       "      <td>서초구</td>\n",
       "      <td>성동구</td>\n",
       "      <td>성북구</td>\n",
       "      <td>송파구</td>\n",
       "      <td>양천구</td>\n",
       "      <td>영등포구</td>\n",
       "      <td>용산구</td>\n",
       "      <td>은평구</td>\n",
       "      <td>종로구</td>\n",
       "      <td>중구</td>\n",
       "      <td>중랑구</td>\n",
       "      <td>기타</td>\n",
       "    </tr>\n",
       "    <tr>\n",
       "      <th>3</th>\n",
       "      <td>2118</td>\n",
       "      <td>3553</td>\n",
       "      <td>2220</td>\n",
       "      <td>3001</td>\n",
       "      <td>4638</td>\n",
       "      <td>2617</td>\n",
       "      <td>3248</td>\n",
       "      <td>2280</td>\n",
       "      <td>3271</td>\n",
       "      <td>1217</td>\n",
       "      <td>1175</td>\n",
       "      <td>3001</td>\n",
       "      <td>5810</td>\n",
       "    </tr>\n",
       "    <tr>\n",
       "      <th>4</th>\n",
       "      <td>+12</td>\n",
       "      <td>+17</td>\n",
       "      <td>+19</td>\n",
       "      <td>+15</td>\n",
       "      <td>+36</td>\n",
       "      <td>+14</td>\n",
       "      <td>+38</td>\n",
       "      <td>+16</td>\n",
       "      <td>+30</td>\n",
       "      <td>+5</td>\n",
       "      <td>+9</td>\n",
       "      <td>+24</td>\n",
       "      <td>+16</td>\n",
       "    </tr>\n",
       "  </tbody>\n",
       "</table>\n",
       "</div>"
      ],
      "text/plain": [
       "    강남구   강동구   강북구   강서구   관악구   광진구   구로구   금천구   노원구   도봉구  동대문구   동작구  \\\n",
       "0  5578  2937  2058  3509  4275  2579  2735  1447  3180  2081  2544  3360   \n",
       "1   +57   +10    +7   +29   +39   +30   +36   +11   +12    +8   +18   +27   \n",
       "2  서대문구   서초구   성동구   성북구   송파구   양천구  영등포구   용산구   은평구   종로구    중구   중랑구   \n",
       "3  2118  3553  2220  3001  4638  2617  3248  2280  3271  1217  1175  3001   \n",
       "4   +12   +17   +19   +15   +36   +14   +38   +16   +30    +5    +9   +24   \n",
       "\n",
       "    마포구  \n",
       "0  2939  \n",
       "1   +22  \n",
       "2    기타  \n",
       "3  5810  \n",
       "4   +16  "
      ]
     },
     "execution_count": 9,
     "metadata": {},
     "output_type": "execute_result"
    }
   ],
   "source": [
    "table[0]"
   ]
  },
  {
   "cell_type": "code",
   "execution_count": 18,
   "metadata": {
    "ExecuteTime": {
     "end_time": "2021-08-27T07:36:48.681155Z",
     "start_time": "2021-08-27T07:36:48.668183Z"
    }
   },
   "outputs": [
    {
     "data": {
      "text/html": [
       "<div>\n",
       "<style scoped>\n",
       "    .dataframe tbody tr th:only-of-type {\n",
       "        vertical-align: middle;\n",
       "    }\n",
       "\n",
       "    .dataframe tbody tr th {\n",
       "        vertical-align: top;\n",
       "    }\n",
       "\n",
       "    .dataframe thead th {\n",
       "        text-align: right;\n",
       "    }\n",
       "</style>\n",
       "<table border=\"1\" class=\"dataframe\">\n",
       "  <thead>\n",
       "    <tr style=\"text-align: right;\">\n",
       "      <th></th>\n",
       "      <th>강남구</th>\n",
       "      <th>강동구</th>\n",
       "      <th>강북구</th>\n",
       "      <th>강서구</th>\n",
       "      <th>관악구</th>\n",
       "      <th>광진구</th>\n",
       "    </tr>\n",
       "  </thead>\n",
       "  <tbody>\n",
       "    <tr>\n",
       "      <th>0</th>\n",
       "      <td>5578</td>\n",
       "      <td>2937</td>\n",
       "      <td>2058</td>\n",
       "      <td>3509</td>\n",
       "      <td>4275</td>\n",
       "      <td>2579</td>\n",
       "    </tr>\n",
       "    <tr>\n",
       "      <th>1</th>\n",
       "      <td>+57</td>\n",
       "      <td>+10</td>\n",
       "      <td>+7</td>\n",
       "      <td>+29</td>\n",
       "      <td>+39</td>\n",
       "      <td>+30</td>\n",
       "    </tr>\n",
       "    <tr>\n",
       "      <th>2</th>\n",
       "      <td>구로구</td>\n",
       "      <td>금천구</td>\n",
       "      <td>노원구</td>\n",
       "      <td>도봉구</td>\n",
       "      <td>동대문구</td>\n",
       "      <td>동작구</td>\n",
       "    </tr>\n",
       "    <tr>\n",
       "      <th>3</th>\n",
       "      <td>2735</td>\n",
       "      <td>1447</td>\n",
       "      <td>3180</td>\n",
       "      <td>2081</td>\n",
       "      <td>2544</td>\n",
       "      <td>3360</td>\n",
       "    </tr>\n",
       "    <tr>\n",
       "      <th>4</th>\n",
       "      <td>+36</td>\n",
       "      <td>+11</td>\n",
       "      <td>+12</td>\n",
       "      <td>+8</td>\n",
       "      <td>+18</td>\n",
       "      <td>+27</td>\n",
       "    </tr>\n",
       "    <tr>\n",
       "      <th>5</th>\n",
       "      <td>마포구</td>\n",
       "      <td>서대문구</td>\n",
       "      <td>서초구</td>\n",
       "      <td>성동구</td>\n",
       "      <td>성북구</td>\n",
       "      <td>송파구</td>\n",
       "    </tr>\n",
       "    <tr>\n",
       "      <th>6</th>\n",
       "      <td>2939</td>\n",
       "      <td>2118</td>\n",
       "      <td>3553</td>\n",
       "      <td>2220</td>\n",
       "      <td>3001</td>\n",
       "      <td>4638</td>\n",
       "    </tr>\n",
       "    <tr>\n",
       "      <th>7</th>\n",
       "      <td>+22</td>\n",
       "      <td>+12</td>\n",
       "      <td>+17</td>\n",
       "      <td>+19</td>\n",
       "      <td>+15</td>\n",
       "      <td>+36</td>\n",
       "    </tr>\n",
       "    <tr>\n",
       "      <th>8</th>\n",
       "      <td>양천구</td>\n",
       "      <td>영등포구</td>\n",
       "      <td>용산구</td>\n",
       "      <td>은평구</td>\n",
       "      <td>종로구</td>\n",
       "      <td>중구</td>\n",
       "    </tr>\n",
       "    <tr>\n",
       "      <th>9</th>\n",
       "      <td>2617</td>\n",
       "      <td>3248</td>\n",
       "      <td>2280</td>\n",
       "      <td>3271</td>\n",
       "      <td>1217</td>\n",
       "      <td>1175</td>\n",
       "    </tr>\n",
       "    <tr>\n",
       "      <th>10</th>\n",
       "      <td>+14</td>\n",
       "      <td>+38</td>\n",
       "      <td>+16</td>\n",
       "      <td>+30</td>\n",
       "      <td>+5</td>\n",
       "      <td>+9</td>\n",
       "    </tr>\n",
       "    <tr>\n",
       "      <th>11</th>\n",
       "      <td>중랑구</td>\n",
       "      <td>기타</td>\n",
       "      <td>NaN</td>\n",
       "      <td>NaN</td>\n",
       "      <td>NaN</td>\n",
       "      <td>NaN</td>\n",
       "    </tr>\n",
       "    <tr>\n",
       "      <th>12</th>\n",
       "      <td>3001</td>\n",
       "      <td>5810</td>\n",
       "      <td>NaN</td>\n",
       "      <td>NaN</td>\n",
       "      <td>NaN</td>\n",
       "      <td>NaN</td>\n",
       "    </tr>\n",
       "    <tr>\n",
       "      <th>13</th>\n",
       "      <td>+24</td>\n",
       "      <td>+16</td>\n",
       "      <td>NaN</td>\n",
       "      <td>NaN</td>\n",
       "      <td>NaN</td>\n",
       "      <td>NaN</td>\n",
       "    </tr>\n",
       "  </tbody>\n",
       "</table>\n",
       "</div>"
      ],
      "text/plain": [
       "     강남구   강동구   강북구   강서구   관악구   광진구\n",
       "0   5578  2937  2058  3509  4275  2579\n",
       "1    +57   +10    +7   +29   +39   +30\n",
       "2    구로구   금천구   노원구   도봉구  동대문구   동작구\n",
       "3   2735  1447  3180  2081  2544  3360\n",
       "4    +36   +11   +12    +8   +18   +27\n",
       "5    마포구  서대문구   서초구   성동구   성북구   송파구\n",
       "6   2939  2118  3553  2220  3001  4638\n",
       "7    +22   +12   +17   +19   +15   +36\n",
       "8    양천구  영등포구   용산구   은평구   종로구    중구\n",
       "9   2617  3248  2280  3271  1217  1175\n",
       "10   +14   +38   +16   +30    +5    +9\n",
       "11   중랑구    기타   NaN   NaN   NaN   NaN\n",
       "12  3001  5810   NaN   NaN   NaN   NaN\n",
       "13   +24   +16   NaN   NaN   NaN   NaN"
      ]
     },
     "execution_count": 18,
     "metadata": {},
     "output_type": "execute_result"
    }
   ],
   "source": [
    "# table 변수 안에 있는 table 태그의 값을 하나씩 읽어보며 확진자 목록이 있는 테이블을 가져옵니다.\n",
    "table[1]"
   ]
  },
  {
   "cell_type": "code",
   "execution_count": 19,
   "metadata": {
    "ExecuteTime": {
     "end_time": "2021-08-27T07:36:54.364910Z",
     "start_time": "2021-08-27T07:36:54.343770Z"
    }
   },
   "outputs": [
    {
     "data": {
      "text/html": [
       "<div>\n",
       "<style scoped>\n",
       "    .dataframe tbody tr th:only-of-type {\n",
       "        vertical-align: middle;\n",
       "    }\n",
       "\n",
       "    .dataframe tbody tr th {\n",
       "        vertical-align: top;\n",
       "    }\n",
       "\n",
       "    .dataframe thead th {\n",
       "        text-align: right;\n",
       "    }\n",
       "</style>\n",
       "<table border=\"1\" class=\"dataframe\">\n",
       "  <thead>\n",
       "    <tr style=\"text-align: right;\">\n",
       "      <th></th>\n",
       "      <th>일자</th>\n",
       "      <th>8.26.</th>\n",
       "      <th>8.25.</th>\n",
       "      <th>8.24.</th>\n",
       "      <th>8.23.</th>\n",
       "      <th>8.22.</th>\n",
       "      <th>8.21.</th>\n",
       "      <th>8.20.</th>\n",
       "    </tr>\n",
       "  </thead>\n",
       "  <tbody>\n",
       "    <tr>\n",
       "      <th>0</th>\n",
       "      <td>검사자(명)</td>\n",
       "      <td>79629.0</td>\n",
       "      <td>73766.0</td>\n",
       "      <td>65017.0</td>\n",
       "      <td>70325.0</td>\n",
       "      <td>31260.0</td>\n",
       "      <td>51674.0</td>\n",
       "      <td>82752.0</td>\n",
       "    </tr>\n",
       "    <tr>\n",
       "      <th>1</th>\n",
       "      <td>확진자(명)</td>\n",
       "      <td>557.0</td>\n",
       "      <td>570.0</td>\n",
       "      <td>677.0</td>\n",
       "      <td>437.0</td>\n",
       "      <td>388.0</td>\n",
       "      <td>497.0</td>\n",
       "      <td>525.0</td>\n",
       "    </tr>\n",
       "    <tr>\n",
       "      <th>2</th>\n",
       "      <td>확진율(%)</td>\n",
       "      <td>0.8</td>\n",
       "      <td>0.9</td>\n",
       "      <td>1.0</td>\n",
       "      <td>1.4</td>\n",
       "      <td>0.8</td>\n",
       "      <td>0.6</td>\n",
       "      <td>0.7</td>\n",
       "    </tr>\n",
       "  </tbody>\n",
       "</table>\n",
       "</div>"
      ],
      "text/plain": [
       "       일자    8.26.    8.25.    8.24.    8.23.    8.22.    8.21.    8.20.\n",
       "0  검사자(명)  79629.0  73766.0  65017.0  70325.0  31260.0  51674.0  82752.0\n",
       "1  확진자(명)    557.0    570.0    677.0    437.0    388.0    497.0    525.0\n",
       "2  확진율(%)      0.8      0.9      1.0      1.4      0.8      0.6      0.7"
      ]
     },
     "execution_count": 19,
     "metadata": {},
     "output_type": "execute_result"
    }
   ],
   "source": [
    "# 검사 및 확진자 현황\n",
    "table[2]"
   ]
  },
  {
   "cell_type": "code",
   "execution_count": 20,
   "metadata": {
    "ExecuteTime": {
     "end_time": "2021-08-27T07:36:59.909499Z",
     "start_time": "2021-08-27T07:36:59.899534Z"
    }
   },
   "outputs": [
    {
     "data": {
      "text/html": [
       "<div>\n",
       "<style scoped>\n",
       "    .dataframe tbody tr th:only-of-type {\n",
       "        vertical-align: middle;\n",
       "    }\n",
       "\n",
       "    .dataframe tbody tr th {\n",
       "        vertical-align: top;\n",
       "    }\n",
       "\n",
       "    .dataframe thead th {\n",
       "        text-align: right;\n",
       "    }\n",
       "</style>\n",
       "<table border=\"1\" class=\"dataframe\">\n",
       "  <thead>\n",
       "    <tr style=\"text-align: right;\">\n",
       "      <th></th>\n",
       "      <th>소계</th>\n",
       "      <th>해외 유입</th>\n",
       "      <th>서초구 소재 직장 관련('21.8)</th>\n",
       "      <th>은평구 소재 직장 관련('21.8.)</th>\n",
       "      <th>노원구 소재 유치원 관련</th>\n",
       "      <th>강남구 소재 음식점 관련 ('21.8.(2))</th>\n",
       "      <th>기타 집단 감염</th>\n",
       "      <th>기타 확진자 접촉</th>\n",
       "      <th>타시도 확진자 접촉</th>\n",
       "      <th>감염 경로 조사중</th>\n",
       "    </tr>\n",
       "  </thead>\n",
       "  <tbody>\n",
       "    <tr>\n",
       "      <th>0</th>\n",
       "      <td>77371</td>\n",
       "      <td>1575</td>\n",
       "      <td>15</td>\n",
       "      <td>28</td>\n",
       "      <td>20</td>\n",
       "      <td>21</td>\n",
       "      <td>20464</td>\n",
       "      <td>28830</td>\n",
       "      <td>3618</td>\n",
       "      <td>22800</td>\n",
       "    </tr>\n",
       "  </tbody>\n",
       "</table>\n",
       "</div>"
      ],
      "text/plain": [
       "      소계  해외 유입  서초구 소재 직장 관련('21.8)  은평구 소재 직장 관련('21.8.)  노원구 소재 유치원 관련  \\\n",
       "0  77371   1575                   15                    28             20   \n",
       "\n",
       "   강남구 소재 음식점 관련 ('21.8.(2))  기타 집단 감염  기타 확진자 접촉  타시도 확진자 접촉  감염 경로 조사중  \n",
       "0                         21     20464      28830        3618      22800  "
      ]
     },
     "execution_count": 20,
     "metadata": {},
     "output_type": "execute_result"
    }
   ],
   "source": [
    "# 주요 발생원인별 현황\n",
    "table[3]"
   ]
  },
  {
   "cell_type": "code",
   "execution_count": 21,
   "metadata": {
    "ExecuteTime": {
     "end_time": "2021-08-27T07:37:18.822754Z",
     "start_time": "2021-08-27T07:37:18.812796Z"
    }
   },
   "outputs": [
    {
     "data": {
      "text/html": [
       "<div>\n",
       "<style scoped>\n",
       "    .dataframe tbody tr th:only-of-type {\n",
       "        vertical-align: middle;\n",
       "    }\n",
       "\n",
       "    .dataframe tbody tr th {\n",
       "        vertical-align: top;\n",
       "    }\n",
       "\n",
       "    .dataframe thead th {\n",
       "        text-align: right;\n",
       "    }\n",
       "</style>\n",
       "<table border=\"1\" class=\"dataframe\">\n",
       "  <thead>\n",
       "    <tr style=\"text-align: right;\">\n",
       "      <th></th>\n",
       "      <th>연번</th>\n",
       "      <th>환자</th>\n",
       "      <th>확진일</th>\n",
       "      <th>거주지</th>\n",
       "      <th>여행력</th>\n",
       "      <th>접촉력</th>\n",
       "      <th>퇴원현황</th>\n",
       "    </tr>\n",
       "  </thead>\n",
       "  <tbody>\n",
       "  </tbody>\n",
       "</table>\n",
       "</div>"
      ],
      "text/plain": [
       "Empty DataFrame\n",
       "Columns: [연번, 환자, 확진일, 거주지, 여행력, 접촉력, 퇴원현황]\n",
       "Index: []"
      ]
     },
     "execution_count": 21,
     "metadata": {},
     "output_type": "execute_result"
    }
   ],
   "source": [
    "table[4]"
   ]
  },
  {
   "cell_type": "code",
   "execution_count": 22,
   "metadata": {
    "ExecuteTime": {
     "end_time": "2021-08-27T07:37:26.056810Z",
     "start_time": "2021-08-27T07:37:26.043822Z"
    }
   },
   "outputs": [
    {
     "data": {
      "text/html": [
       "<div>\n",
       "<style scoped>\n",
       "    .dataframe tbody tr th:only-of-type {\n",
       "        vertical-align: middle;\n",
       "    }\n",
       "\n",
       "    .dataframe tbody tr th {\n",
       "        vertical-align: top;\n",
       "    }\n",
       "\n",
       "    .dataframe thead th {\n",
       "        text-align: right;\n",
       "    }\n",
       "</style>\n",
       "<table border=\"1\" class=\"dataframe\">\n",
       "  <thead>\n",
       "    <tr style=\"text-align: right;\">\n",
       "      <th></th>\n",
       "      <th>연번</th>\n",
       "      <th>환자</th>\n",
       "      <th>확진일</th>\n",
       "      <th>거주지</th>\n",
       "      <th>여행력</th>\n",
       "      <th>접촉력</th>\n",
       "      <th>퇴원현황</th>\n",
       "    </tr>\n",
       "  </thead>\n",
       "  <tbody>\n",
       "  </tbody>\n",
       "</table>\n",
       "</div>"
      ],
      "text/plain": [
       "Empty DataFrame\n",
       "Columns: [연번, 환자, 확진일, 거주지, 여행력, 접촉력, 퇴원현황]\n",
       "Index: []"
      ]
     },
     "execution_count": 22,
     "metadata": {},
     "output_type": "execute_result"
    }
   ],
   "source": [
    "table[5]"
   ]
  },
  {
   "cell_type": "code",
   "execution_count": 23,
   "metadata": {
    "ExecuteTime": {
     "end_time": "2021-08-27T07:37:30.770000Z",
     "start_time": "2021-08-27T07:37:30.759028Z"
    }
   },
   "outputs": [
    {
     "data": {
      "text/html": [
       "<div>\n",
       "<style scoped>\n",
       "    .dataframe tbody tr th:only-of-type {\n",
       "        vertical-align: middle;\n",
       "    }\n",
       "\n",
       "    .dataframe tbody tr th {\n",
       "        vertical-align: top;\n",
       "    }\n",
       "\n",
       "    .dataframe thead th {\n",
       "        text-align: right;\n",
       "    }\n",
       "</style>\n",
       "<table border=\"1\" class=\"dataframe\">\n",
       "  <thead>\n",
       "    <tr style=\"text-align: right;\">\n",
       "      <th></th>\n",
       "      <th>일</th>\n",
       "      <th>월</th>\n",
       "      <th>화</th>\n",
       "      <th>수</th>\n",
       "      <th>목</th>\n",
       "      <th>금</th>\n",
       "      <th>토</th>\n",
       "    </tr>\n",
       "  </thead>\n",
       "  <tbody>\n",
       "    <tr>\n",
       "      <th>0</th>\n",
       "      <td>1  64,823  (+473)</td>\n",
       "      <td>2  65,187  (+364)</td>\n",
       "      <td>3  65,498  (+311)</td>\n",
       "      <td>4  65,984  (+486)</td>\n",
       "      <td>5  66,450  (+466)</td>\n",
       "      <td>6  66,914  (+464)</td>\n",
       "      <td>7  67,417  (+503)</td>\n",
       "    </tr>\n",
       "    <tr>\n",
       "      <th>1</th>\n",
       "      <td>8  67,867  (+450)</td>\n",
       "      <td>9  68,282  (+415)</td>\n",
       "      <td>10  68,641  (+359)</td>\n",
       "      <td>11  69,301  (+660)</td>\n",
       "      <td>12  69,827  (+526)</td>\n",
       "      <td>13  70,351  (+524)</td>\n",
       "      <td>14  70,864  (+513)</td>\n",
       "    </tr>\n",
       "    <tr>\n",
       "      <th>2</th>\n",
       "      <td>15  71,352  (+488)</td>\n",
       "      <td>16  71,716  (+364)</td>\n",
       "      <td>17  72,081  (+365)</td>\n",
       "      <td>18  72,591  (+510)</td>\n",
       "      <td>19  73,166  (+575)</td>\n",
       "      <td>20  73,720  (+554)</td>\n",
       "      <td>21  74,245  (+525)</td>\n",
       "    </tr>\n",
       "    <tr>\n",
       "      <th>3</th>\n",
       "      <td>22  74,742  (+497)</td>\n",
       "      <td>23  75,130  (+388)</td>\n",
       "      <td>24  75,567  (+437)</td>\n",
       "      <td>25  76,244  (+677)</td>\n",
       "      <td>26  76,814  (+570)</td>\n",
       "      <td>27  77,371  (+557)</td>\n",
       "      <td>28</td>\n",
       "    </tr>\n",
       "    <tr>\n",
       "      <th>4</th>\n",
       "      <td>29</td>\n",
       "      <td>30</td>\n",
       "      <td>31</td>\n",
       "      <td>NaN</td>\n",
       "      <td>NaN</td>\n",
       "      <td>NaN</td>\n",
       "      <td>NaN</td>\n",
       "    </tr>\n",
       "  </tbody>\n",
       "</table>\n",
       "</div>"
      ],
      "text/plain": [
       "                    일                   월                   화  \\\n",
       "0   1  64,823  (+473)   2  65,187  (+364)   3  65,498  (+311)   \n",
       "1   8  67,867  (+450)   9  68,282  (+415)  10  68,641  (+359)   \n",
       "2  15  71,352  (+488)  16  71,716  (+364)  17  72,081  (+365)   \n",
       "3  22  74,742  (+497)  23  75,130  (+388)  24  75,567  (+437)   \n",
       "4                  29                  30                  31   \n",
       "\n",
       "                    수                   목                   금  \\\n",
       "0   4  65,984  (+486)   5  66,450  (+466)   6  66,914  (+464)   \n",
       "1  11  69,301  (+660)  12  69,827  (+526)  13  70,351  (+524)   \n",
       "2  18  72,591  (+510)  19  73,166  (+575)  20  73,720  (+554)   \n",
       "3  25  76,244  (+677)  26  76,814  (+570)  27  77,371  (+557)   \n",
       "4                 NaN                 NaN                 NaN   \n",
       "\n",
       "                    토  \n",
       "0   7  67,417  (+503)  \n",
       "1  14  70,864  (+513)  \n",
       "2  21  74,245  (+525)  \n",
       "3                  28  \n",
       "4                 NaN  "
      ]
     },
     "execution_count": 23,
     "metadata": {},
     "output_type": "execute_result"
    }
   ],
   "source": [
    "# 8월 확진자수 & 전일대비 확진자 증가 수\n",
    "table[6]"
   ]
  },
  {
   "cell_type": "markdown",
   "metadata": {},
   "source": [
    "# Load File (data)\n",
    "- crawling이 강의와 동일하게 되지 않고, 강의와 다르게 webpage가 update 됨.\n",
    "- 동일하게 했을 때 잘 되지 않아서 우선 동일한 엑셀파일 받아서 실습 진행"
   ]
  },
  {
   "cell_type": "code",
   "execution_count": 10,
   "metadata": {
    "ExecuteTime": {
     "end_time": "2021-08-29T08:15:32.622355Z",
     "start_time": "2021-08-29T08:15:32.590394Z"
    }
   },
   "outputs": [],
   "source": [
    "data = pd.read_csv(\"practice_data/covid19_seoul_202011.csv\",\n",
    "                  encoding='cp949')"
   ]
  },
  {
   "cell_type": "code",
   "execution_count": 11,
   "metadata": {
    "ExecuteTime": {
     "end_time": "2021-08-29T08:15:39.951835Z",
     "start_time": "2021-08-29T08:15:39.933837Z"
    }
   },
   "outputs": [
    {
     "data": {
      "text/html": [
       "<div>\n",
       "<style scoped>\n",
       "    .dataframe tbody tr th:only-of-type {\n",
       "        vertical-align: middle;\n",
       "    }\n",
       "\n",
       "    .dataframe tbody tr th {\n",
       "        vertical-align: top;\n",
       "    }\n",
       "\n",
       "    .dataframe thead th {\n",
       "        text-align: right;\n",
       "    }\n",
       "</style>\n",
       "<table border=\"1\" class=\"dataframe\">\n",
       "  <thead>\n",
       "    <tr style=\"text-align: right;\">\n",
       "      <th></th>\n",
       "      <th>연번</th>\n",
       "      <th>환자</th>\n",
       "      <th>확진일</th>\n",
       "      <th>거주지</th>\n",
       "      <th>여행력</th>\n",
       "      <th>접촉력</th>\n",
       "      <th>퇴원현황</th>\n",
       "    </tr>\n",
       "  </thead>\n",
       "  <tbody>\n",
       "    <tr>\n",
       "      <th>0</th>\n",
       "      <td>6505</td>\n",
       "      <td>27935</td>\n",
       "      <td>2021-11-11</td>\n",
       "      <td>중구</td>\n",
       "      <td>-</td>\n",
       "      <td>성동구 금호노인요양원 관련</td>\n",
       "      <td>NaN</td>\n",
       "    </tr>\n",
       "    <tr>\n",
       "      <th>1</th>\n",
       "      <td>6504</td>\n",
       "      <td>27930</td>\n",
       "      <td>2021-11-11</td>\n",
       "      <td>중구</td>\n",
       "      <td>-</td>\n",
       "      <td>성동구 금호노인요양원 관련</td>\n",
       "      <td>NaN</td>\n",
       "    </tr>\n",
       "    <tr>\n",
       "      <th>2</th>\n",
       "      <td>6503</td>\n",
       "      <td>27936</td>\n",
       "      <td>2021-11-11</td>\n",
       "      <td>용산구</td>\n",
       "      <td>-</td>\n",
       "      <td>감염경로 조사중</td>\n",
       "      <td>NaN</td>\n",
       "    </tr>\n",
       "    <tr>\n",
       "      <th>3</th>\n",
       "      <td>6502</td>\n",
       "      <td>27896</td>\n",
       "      <td>2021-11-11</td>\n",
       "      <td>타시도</td>\n",
       "      <td>-</td>\n",
       "      <td>성동구 금호노인요양원 관련</td>\n",
       "      <td>NaN</td>\n",
       "    </tr>\n",
       "    <tr>\n",
       "      <th>4</th>\n",
       "      <td>6501</td>\n",
       "      <td>27922</td>\n",
       "      <td>2021-11-11</td>\n",
       "      <td>강동구</td>\n",
       "      <td>-</td>\n",
       "      <td>용산구 국군복지단</td>\n",
       "      <td>NaN</td>\n",
       "    </tr>\n",
       "  </tbody>\n",
       "</table>\n",
       "</div>"
      ],
      "text/plain": [
       "     연번     환자         확진일  거주지 여행력             접촉력 퇴원현황\n",
       "0  6505  27935  2021-11-11   중구   -  성동구 금호노인요양원 관련  NaN\n",
       "1  6504  27930  2021-11-11   중구   -  성동구 금호노인요양원 관련  NaN\n",
       "2  6503  27936  2021-11-11  용산구   -        감염경로 조사중  NaN\n",
       "3  6502  27896  2021-11-11  타시도   -  성동구 금호노인요양원 관련  NaN\n",
       "4  6501  27922  2021-11-11  강동구   -       용산구 국군복지단  NaN"
      ]
     },
     "execution_count": 11,
     "metadata": {},
     "output_type": "execute_result"
    }
   ],
   "source": [
    "data.head()"
   ]
  },
  {
   "cell_type": "code",
   "execution_count": 18,
   "metadata": {
    "ExecuteTime": {
     "end_time": "2021-08-29T08:19:44.893591Z",
     "start_time": "2021-08-29T08:19:44.873471Z"
    }
   },
   "outputs": [
    {
     "data": {
      "text/html": [
       "<div>\n",
       "<style scoped>\n",
       "    .dataframe tbody tr th:only-of-type {\n",
       "        vertical-align: middle;\n",
       "    }\n",
       "\n",
       "    .dataframe tbody tr th {\n",
       "        vertical-align: top;\n",
       "    }\n",
       "\n",
       "    .dataframe thead th {\n",
       "        text-align: right;\n",
       "    }\n",
       "</style>\n",
       "<table border=\"1\" class=\"dataframe\">\n",
       "  <thead>\n",
       "    <tr style=\"text-align: right;\">\n",
       "      <th></th>\n",
       "      <th>연번</th>\n",
       "      <th>환자</th>\n",
       "      <th>확진일</th>\n",
       "      <th>거주지</th>\n",
       "      <th>여행력</th>\n",
       "      <th>접촉력</th>\n",
       "      <th>퇴원현황</th>\n",
       "    </tr>\n",
       "  </thead>\n",
       "  <tbody>\n",
       "    <tr>\n",
       "      <th>6500</th>\n",
       "      <td>5</td>\n",
       "      <td>9</td>\n",
       "      <td>2021-01-31</td>\n",
       "      <td>성북구</td>\n",
       "      <td>-</td>\n",
       "      <td>#5 접촉</td>\n",
       "      <td>퇴원</td>\n",
       "    </tr>\n",
       "    <tr>\n",
       "      <th>6501</th>\n",
       "      <td>4</td>\n",
       "      <td>7</td>\n",
       "      <td>2021-01-30</td>\n",
       "      <td>마포구</td>\n",
       "      <td>중국 우한시</td>\n",
       "      <td>해외 접촉</td>\n",
       "      <td>퇴원</td>\n",
       "    </tr>\n",
       "    <tr>\n",
       "      <th>6502</th>\n",
       "      <td>3</td>\n",
       "      <td>6</td>\n",
       "      <td>2021-01-30</td>\n",
       "      <td>종로구</td>\n",
       "      <td>-</td>\n",
       "      <td>#3 접촉</td>\n",
       "      <td>퇴원</td>\n",
       "    </tr>\n",
       "    <tr>\n",
       "      <th>6503</th>\n",
       "      <td>2</td>\n",
       "      <td>5</td>\n",
       "      <td>2021-01-30</td>\n",
       "      <td>중랑구</td>\n",
       "      <td>중국 우한시</td>\n",
       "      <td>해외 접촉</td>\n",
       "      <td>퇴원</td>\n",
       "    </tr>\n",
       "    <tr>\n",
       "      <th>6504</th>\n",
       "      <td>1</td>\n",
       "      <td>2</td>\n",
       "      <td>2021-01-24</td>\n",
       "      <td>강서구</td>\n",
       "      <td>중국 우한시</td>\n",
       "      <td>해외 접촉</td>\n",
       "      <td>퇴원</td>\n",
       "    </tr>\n",
       "  </tbody>\n",
       "</table>\n",
       "</div>"
      ],
      "text/plain": [
       "      연번  환자         확진일  거주지     여행력    접촉력 퇴원현황\n",
       "6500   5   9  2021-01-31  성북구       -  #5 접촉   퇴원\n",
       "6501   4   7  2021-01-30  마포구  중국 우한시  해외 접촉   퇴원\n",
       "6502   3   6  2021-01-30  종로구       -  #3 접촉   퇴원\n",
       "6503   2   5  2021-01-30  중랑구  중국 우한시  해외 접촉   퇴원\n",
       "6504   1   2  2021-01-24  강서구  중국 우한시  해외 접촉   퇴원"
      ]
     },
     "execution_count": 18,
     "metadata": {},
     "output_type": "execute_result"
    }
   ],
   "source": [
    "data.tail()"
   ]
  },
  {
   "cell_type": "code",
   "execution_count": 16,
   "metadata": {
    "ExecuteTime": {
     "end_time": "2021-08-29T08:16:59.077049Z",
     "start_time": "2021-08-29T08:16:59.073042Z"
    }
   },
   "outputs": [
    {
     "data": {
      "text/plain": [
       "(6505, 7)"
      ]
     },
     "execution_count": 16,
     "metadata": {},
     "output_type": "execute_result"
    }
   ],
   "source": [
    "data.shape"
   ]
  },
  {
   "cell_type": "code",
   "execution_count": 17,
   "metadata": {
    "ExecuteTime": {
     "end_time": "2021-08-29T08:16:59.589110Z",
     "start_time": "2021-08-29T08:16:59.580584Z"
    }
   },
   "outputs": [
    {
     "name": "stdout",
     "output_type": "stream",
     "text": [
      "<class 'pandas.core.frame.DataFrame'>\n",
      "RangeIndex: 6505 entries, 0 to 6504\n",
      "Data columns (total 7 columns):\n",
      " #   Column  Non-Null Count  Dtype \n",
      "---  ------  --------------  ----- \n",
      " 0   연번      6505 non-null   int64 \n",
      " 1   환자      6505 non-null   int64 \n",
      " 2   확진일     6500 non-null   object\n",
      " 3   거주지     6505 non-null   object\n",
      " 4   여행력     6505 non-null   object\n",
      " 5   접촉력     6505 non-null   object\n",
      " 6   퇴원현황    5855 non-null   object\n",
      "dtypes: int64(2), object(5)\n",
      "memory usage: 355.9+ KB\n"
     ]
    }
   ],
   "source": [
    "data.info()"
   ]
  }
 ],
 "metadata": {
  "hide_input": false,
  "kernelspec": {
   "display_name": "Python 3",
   "language": "python",
   "name": "python3"
  },
  "language_info": {
   "codemirror_mode": {
    "name": "ipython",
    "version": 3
   },
   "file_extension": ".py",
   "mimetype": "text/x-python",
   "name": "python",
   "nbconvert_exporter": "python",
   "pygments_lexer": "ipython3",
   "version": "3.8.3"
  },
  "toc": {
   "base_numbering": 1,
   "nav_menu": {},
   "number_sections": true,
   "sideBar": true,
   "skip_h1_title": false,
   "title_cell": "Table of Contents",
   "title_sidebar": "Contents",
   "toc_cell": false,
   "toc_position": {},
   "toc_section_display": true,
   "toc_window_display": false
  },
  "varInspector": {
   "cols": {
    "lenName": 16,
    "lenType": 16,
    "lenVar": 40
   },
   "kernels_config": {
    "python": {
     "delete_cmd_postfix": "",
     "delete_cmd_prefix": "del ",
     "library": "var_list.py",
     "varRefreshCmd": "print(var_dic_list())"
    },
    "r": {
     "delete_cmd_postfix": ") ",
     "delete_cmd_prefix": "rm(",
     "library": "var_list.r",
     "varRefreshCmd": "cat(var_dic_list()) "
    }
   },
   "types_to_exclude": [
    "module",
    "function",
    "builtin_function_or_method",
    "instance",
    "_Feature"
   ],
   "window_display": false
  }
 },
 "nbformat": 4,
 "nbformat_minor": 4
}
